{
  "cells": [
    {
      "cell_type": "markdown",
      "metadata": {
        "id": "pJvBN__ZxauF"
      },
      "source": [
        "## A tutorial to visualize forensic evidence and relationships\n",
        "\n",
        "### Motivation\n",
        "- An evidence graph can enhance investigators' understanding of evidence entities and their relationships.\n",
        "\n",
        "### Goal\n",
        "- Familiar with Graph Visualization Software (graphviz)\n",
        "    -  an open-source graph visualization software developed by AT&T Labs Research.\n",
        "- Generate graph directly from the conversation\n",
        "- Gain criminal insights visually using graphviz."
      ]
    },
    {
      "cell_type": "markdown",
      "metadata": {
        "id": "tJESkzYPxauI"
      },
      "source": [
        "### Step 1: Download libraries and files for the lab\n",
        "- Make use you download necessary library and files.\n",
        "- All downloaded and saved files can be located in the `content` folder if using google Colab"
      ]
    },
    {
      "cell_type": "code",
      "source": [
        "# uncomment the commands to download libraries and files\n",
        "#!pip install python-dotenv\n",
        "#!pip install dspy-ai==2.4.17\n",
        "#!pip install graphviz\n",
        "#!wget https://raw.githubusercontent.com/frankwxu/digital-forensics-lab/main/AI4Forensics/CKIM2024/PhishingAttack/PhishingAttackScenarioDemo/conversation.txt\n",
        "\n",
        "import dspy\n",
        "import os\n",
        "import openai\n",
        "import json\n",
        "from dotenv import load_dotenv\n",
        "from graphviz import Source\n",
        "from IPython.display import display"
      ],
      "metadata": {
        "id": "1OIqhV8epOHc"
      },
      "execution_count": null,
      "outputs": []
    },
    {
      "cell_type": "code",
      "source": [
        "from google.colab import files\n",
        "uploaded = files.upload()"
      ],
      "metadata": {
        "id": "16Q9MDVhpIzg"
      },
      "execution_count": null,
      "outputs": []
    },
    {
      "cell_type": "markdown",
      "metadata": {
        "id": "GtEkcgpExauM"
      },
      "source": [
        "### Step 2: Config DSPy with openAI\n",
        "- You `MUST` have an openAI api key\n",
        "- load an openAI api key from `openai_api_key.txt` file\n",
        "- or, hard code your open api key"
      ]
    },
    {
      "cell_type": "code",
      "execution_count": null,
      "metadata": {
        "id": "_IVOaesbxauN"
      },
      "outputs": [],
      "source": [
        "def set_dspy():\n",
        "    # ==============set openAI enviroment=========\n",
        "    # Path to your API key file\n",
        "    key_file_path = \"openai_api_key.txt\"\n",
        "\n",
        "    # Load the API key from the file\n",
        "    with open(key_file_path, \"r\") as file:\n",
        "        openai_api_key = file.read().strip()\n",
        "\n",
        "    # Set the API key as an environment variable\n",
        "    os.environ[\"OPENAI_API_KEY\"] = openai_api_key\n",
        "    openai.api_key = os.environ[\"OPENAI_API_KEY\"]\n",
        "    turbo = dspy.OpenAI(model=\"gpt-3.5-turbo\", max_tokens=2000, temperature=0.5)\n",
        "    dspy.settings.configure(lm=turbo)\n",
        "    return turbo\n",
        "    # ==============end of set openAI enviroment=========\n",
        "\n",
        "\n",
        "def set_dspy_hardcode_openai_key():\n",
        "    os.environ[\"OPENAI_API_KEY\"] = \"sk-proj-yourapikeyhere\"\n",
        "    openai.api_key = os.environ[\"OPENAI_API_KEY\"]\n",
        "    turbo = dspy.OpenAI(model=\"gpt-3.5-turbo\", temperature=0, max_tokens=2000)\n",
        "    dspy.settings.configure(lm=turbo)\n",
        "    return turbo\n",
        "\n",
        "\n",
        "# provide `openai_api_key.txt` with your openAI api key\n",
        "turbo = set_dspy()\n",
        "# optionally, hard code your openAI api key at line 21\n",
        "# turbo=set_dspy_hardcode_openai_key()"
      ]
    },
    {
      "cell_type": "markdown",
      "metadata": {
        "id": "WsAfBWhnxauO"
      },
      "source": [
        "### Step 3: Load the cyber incident repot (e.g., conversation)\n",
        "\n",
        "- the same conversation as previous tutorial"
      ]
    },
    {
      "cell_type": "code",
      "execution_count": null,
      "metadata": {
        "id": "qC8XGe_lxauO",
        "outputId": "95c11e73-6889-4b0c-8454-c3d6711f70c0",
        "colab": {
          "base_uri": "https://localhost:8080/"
        }
      },
      "outputs": [
        {
          "output_type": "stream",
          "name": "stdout",
          "text": [
            "Alice: Hey Bob, I just got a strange email from support@banksecure.com. It says I need to verify my account details urgently. The subject line was \"Urgent: Verify Your Account Now\". The email looks suspicious to me.\n",
            "\n",
            "Bob: Hi Alice, that does sound fishy. Can you forward me the email? I’ll take a look at the headers to see where it came from.\n",
            "\n",
            "Alice: Sure, forwarding it now.\n",
            "\n",
            "Bob: Got it. Let’s see... The email came from IP address 192.168.10.45, but the domain banksecure.com is not their official domain. It's actually registered to someone in Russia.\n",
            "\n",
            "Alice: That’s definitely not right. Should I be worried?\n",
            "\n",
            "Bob: We should investigate further. Did you click on any links or download any attachments?\n",
            "\n",
            "Alice: I did click on a link that took me to a page asking for my login credentials. I didn't enter anything though. The URL was http://banksecure-verification.com/login.\n",
            "\n",
            "Bob: Good call on not entering your details. Let’s check the URL. This domain was just registered two days ago. It’s highly likely it’s a phishing site.\n",
            "\n",
            "Alice: What should I do next?\n",
            "\n",
            "Bob: First, clear your browser history and cache. Also, run a full antivirus scan on your computer. Can you also provide me with any browser history entries and cookies from that session?\n",
            "\n",
            "Alice: I’ve cleared the history and started the antivirus scan. Here are the relevant entries from my browser history:\n",
            "Visited at 10:15 AM: http://banksecure-verification.com/login\n",
            "Visited at 10:17 AM: http://banksecure-verification.com/account-details\n",
            "\n",
            "Bob: Thanks. I’ll analyze these URLs further. Also, check if there are any suspicious files downloaded or present in your downloads folder. Look for anything unusual.\n",
            "\n",
            "Alice: There's a file named \"AccountDetails.exe\" that I don’t remember downloading. It was created at 10:20 AM.\n",
            "\n",
            "Bob: Definitely suspicious. Don’t open it. Let’s hash the file to verify its integrity. Can you run an MD5 hash on it?\n",
            "\n",
            "Alice: Done. The MD5 hash is e99a18c428cb38d5f260853678922e03.\n",
            "\n",
            "Bob: This hash matches known malware in our database. We’ll need to quarantine it and check if it has established any network connections. I’ll look into our network logs for the IP 192.168.10.45 around 10:20 AM.\n",
            "\n",
            "Alice: Is there anything else I need to do?\n",
            "\n",
            "Bob: For now, avoid using your computer for sensitive tasks. We’ll also reset your passwords from a different device and enable two-factor authentication on your accounts.\n",
            "\n",
            "Alice: Thanks, Bob. I’ll follow these steps immediately.\n"
          ]
        }
      ],
      "source": [
        "def load_text_file(file_path):\n",
        "    \"\"\"\n",
        "    Load a text file and return its contents as a string.\n",
        "\n",
        "    Parameters:\n",
        "    file_path (str): The path to the text file.\n",
        "\n",
        "    Returns:\n",
        "    str: The contents of the text file.\n",
        "    \"\"\"\n",
        "    try:\n",
        "        with open(file_path, \"r\") as file:\n",
        "            contents = file.read()\n",
        "        return contents\n",
        "    except FileNotFoundError:\n",
        "        return \"File not found.\"\n",
        "    except Exception as e:\n",
        "        return f\"An error occurred: {e}\"\n",
        "\n",
        "conversation = load_text_file(\"conversation.txt\")\n",
        "print(conversation)"
      ]
    },
    {
      "cell_type": "markdown",
      "metadata": {
        "id": "McLFvZ0LxauP"
      },
      "source": [
        "### Step 4: Tell an LLM `WHAT` are the inputs/outputs by defining `dspy.Signature`\n",
        "\n",
        "- Goal\n",
        "    - to generate a simple plaintext file, call `DOT`. In DOT, you define nodes and edges.\n",
        "    - Graphviz uses ``DOT` to describe and visualize graphs.  \n",
        "\n",
        "- The following signature identifies a list of evidence entities and relationships based on the conversation\n",
        "    - Inherit from `dspy.Signature`\n",
        "    - Exact `ONE` input, e.g., the conversation\n",
        "    - Exact `ONE` output, a DOT file"
      ]
    },
    {
      "cell_type": "code",
      "execution_count": null,
      "metadata": {
        "id": "TQeMDpI0xauP"
      },
      "outputs": [],
      "source": [
        "class DotGenerator(dspy.Signature):\n",
        "    \"\"\"Generate a foresnic evidence knowledge graph based on a conversation between an IT Security Specialist and an Employee. \"\"\"\n",
        "\n",
        "    question: str = dspy.InputField(\n",
        "        desc=\"a conversation describing a cyber incident between an IT Security Specialist and an employee.\"\n",
        "    )\n",
        "\n",
        "    answer: str = dspy.OutputField(\n",
        "        desc=\"a graph in a dot format. The nodes of the graph are evidence entities and the edges of the graph are the relationships between evidence entities. A DOT format is primarily associated with Graphviz, a graph visualization software. For example, a DOT should looks like: digraph incident_name {...}. Don't include `````` \"\n",
        "    )"
      ]
    },
    {
      "cell_type": "markdown",
      "metadata": {
        "id": "E5_lHuibxauQ"
      },
      "source": [
        "### Step 5: Tell an LLM `HOW` to generate answer:\n",
        "\n",
        "Generates and saves DOT file from a conversation using a specified signature.\n",
        "\n",
        "#### Parameters:\n",
        "- `signature` (dspy.Signature): The signature defining the input and output structure for evidence identification.\n",
        "- `conversation` (str): The conversation text to analyze for evidence.\n",
        "- `output_file` (str): The file path where the identified evidence will be saved in DOT format.\n",
        "\n",
        "#### Notes:\n",
        "- This function uses [`dspy.ChainOfThought`](https://arxiv.org/pdf/2201.11903) to process the conversation and create a knowledge graph\n",
        "- Other options include\n",
        "    - `dspy.ChainOfThoughtWithHint` : Provide hints for reasoning\n",
        "    - `dspy.Retrieve`: Retrieves passages from a retriever module\n",
        "    - `dspy.ReAct`: Consists steps of Thought, Action, and Observation.\n"
      ]
    },
    {
      "cell_type": "code",
      "execution_count": null,
      "metadata": {
        "id": "PW1l8oQsxauQ"
      },
      "outputs": [],
      "source": [
        "def generate_answer_CoT(signature, text, output_file):\n",
        "    generate_answer = dspy.ChainOfThought(signature)\n",
        "    answer = generate_answer(question=text).answer  # here we use the module\n",
        "\n",
        "    with open(output_file, \"w\") as dot_file:\n",
        "        print(answer)\n",
        "        dot_file.write(answer)\n",
        "        return answer\n",
        "    print(f\"The evidence has been saved to the file {output_file}\")"
      ]
    },
    {
      "cell_type": "markdown",
      "metadata": {
        "id": "LtXjbM4txauQ"
      },
      "source": [
        "### Step 6: Call LLM to generate the graph in a `.DOT` file"
      ]
    },
    {
      "cell_type": "code",
      "source": [
        "output_file = \"02_output.dot\"\n",
        "dot_description = generate_answer_CoT(\n",
        "    DotGenerator,\n",
        "    conversation,\n",
        "    output_file,\n",
        ")"
      ],
      "metadata": {
        "id": "VIUt0SWBplji"
      },
      "execution_count": null,
      "outputs": []
    },
    {
      "cell_type": "markdown",
      "metadata": {
        "id": "s1nogn3QxauR"
      },
      "source": [
        "### Step 7: Render the graph based on the `.DOT` file"
      ]
    },
    {
      "cell_type": "code",
      "source": [
        "# Create a Digraph object and render the graph\n",
        "graph = Source.from_file('02_output.dot')\n",
        "display(graph)\n",
        "\n",
        "# Render the graph within the notebook\n",
        "output_path = graph.render(\"02_output_email_analysis\", format=\"png\", cleanup=True)"
      ],
      "metadata": {
        "id": "TifCeacoptnd"
      },
      "execution_count": null,
      "outputs": []
    },
    {
      "cell_type": "markdown",
      "metadata": {
        "id": "C3c9jQ5axauS"
      },
      "source": [
        "### Step 7: Inspect the last prompt send to the LLM\n",
        "\n",
        "You want to check:\n",
        "- Prompt Description Section: Description in the signature\n",
        "- Format Section: `Following the following format.`\n",
        "    - Pay attention to a new inserted field `REASONING: Let's think step by step ...`\n",
        "- Result Section: a forensic knowledge graph in `.DOT`"
      ]
    },
    {
      "cell_type": "code",
      "execution_count": null,
      "metadata": {
        "id": "vYY3yg-gxauT"
      },
      "outputs": [],
      "source": [
        "turbo.inspect_history(n=1)"
      ]
    }
  ],
  "metadata": {
    "kernelspec": {
      "display_name": "Python 3",
      "language": "python",
      "name": "python3"
    },
    "language_info": {
      "codemirror_mode": {
        "name": "ipython",
        "version": 3
      },
      "file_extension": ".py",
      "mimetype": "text/x-python",
      "name": "python",
      "nbconvert_exporter": "python",
      "pygments_lexer": "ipython3",
      "version": "3.12.3"
    },
    "colab": {
      "provenance": []
    }
  },
  "nbformat": 4,
  "nbformat_minor": 0
}