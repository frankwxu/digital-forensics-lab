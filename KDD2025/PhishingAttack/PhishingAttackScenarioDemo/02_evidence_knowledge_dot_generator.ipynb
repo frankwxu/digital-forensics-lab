{
  "cells": [
    {
      "cell_type": "markdown",
      "metadata": {
        "id": "pJvBN__ZxauF"
      },
      "source": [
        "## A tutorial to visualize forensic evidence and relationships\n",
        "\n",
        "### Motivation\n",
        "- An evidence graph can enhance investigators' understanding of evidence entities and their relationships.\n",
        "\n",
        "### Goal\n",
        "- Familiar with Graph Visualization Software (graphviz)\n",
        "    -  an open-source graph visualization software developed by AT&T Labs Research.\n",
        "- Generate graph directly from the conversation\n",
        "- Gain criminal insights visually using graphviz."
      ]
    },
    {
      "cell_type": "markdown",
      "metadata": {
        "id": "tJESkzYPxauI"
      },
      "source": [
        "### Step 1: Download libraries and files for the lab\n",
        "- Make use you download necessary library and files.\n",
        "- All downloaded and saved files can be located in the `content` folder if using google Colab"
      ]
    },
    {
      "cell_type": "code",
      "execution_count": 1,
      "metadata": {
        "id": "zsLXXyXfxauK",
        "outputId": "8b90a348-fab3-45b2-9566-55a39e6fabbd",
        "colab": {
          "base_uri": "https://localhost:8080/"
        }
      },
      "outputs": [
        {
          "output_type": "stream",
          "name": "stdout",
          "text": [
            "Collecting python-dotenv\n",
            "  Downloading python_dotenv-1.1.1-py3-none-any.whl.metadata (24 kB)\n",
            "Downloading python_dotenv-1.1.1-py3-none-any.whl (20 kB)\n",
            "Installing collected packages: python-dotenv\n",
            "Successfully installed python-dotenv-1.1.1\n",
            "Collecting dspy-ai==2.4.17\n",
            "  Downloading dspy_ai-2.4.17-py3-none-any.whl.metadata (40 kB)\n",
            "\u001b[2K     \u001b[90m━━━━━━━━━━━━━━━━━━━━━━━━━━━━━━━━━━━━━━━━\u001b[0m \u001b[32m40.2/40.2 kB\u001b[0m \u001b[31m1.8 MB/s\u001b[0m eta \u001b[36m0:00:00\u001b[0m\n",
            "\u001b[?25hCollecting backoff (from dspy-ai==2.4.17)\n",
            "  Downloading backoff-2.2.1-py3-none-any.whl.metadata (14 kB)\n",
            "Requirement already satisfied: datasets in /usr/local/lib/python3.11/dist-packages (from dspy-ai==2.4.17) (4.0.0)\n",
            "Requirement already satisfied: joblib~=1.3 in /usr/local/lib/python3.11/dist-packages (from dspy-ai==2.4.17) (1.5.1)\n",
            "Requirement already satisfied: openai<2.0.0,>=0.28.1 in /usr/local/lib/python3.11/dist-packages (from dspy-ai==2.4.17) (1.97.1)\n",
            "Collecting optuna (from dspy-ai==2.4.17)\n",
            "  Downloading optuna-4.4.0-py3-none-any.whl.metadata (17 kB)\n",
            "Requirement already satisfied: pandas in /usr/local/lib/python3.11/dist-packages (from dspy-ai==2.4.17) (2.2.2)\n",
            "Requirement already satisfied: pydantic~=2.0 in /usr/local/lib/python3.11/dist-packages (from dspy-ai==2.4.17) (2.11.7)\n",
            "Requirement already satisfied: regex in /usr/local/lib/python3.11/dist-packages (from dspy-ai==2.4.17) (2024.11.6)\n",
            "Requirement already satisfied: requests in /usr/local/lib/python3.11/dist-packages (from dspy-ai==2.4.17) (2.32.3)\n",
            "Collecting structlog (from dspy-ai==2.4.17)\n",
            "  Downloading structlog-25.4.0-py3-none-any.whl.metadata (7.6 kB)\n",
            "Requirement already satisfied: tqdm in /usr/local/lib/python3.11/dist-packages (from dspy-ai==2.4.17) (4.67.1)\n",
            "Collecting ujson (from dspy-ai==2.4.17)\n",
            "  Downloading ujson-5.10.0-cp311-cp311-manylinux_2_17_x86_64.manylinux2014_x86_64.whl.metadata (9.3 kB)\n",
            "Requirement already satisfied: httpx in /usr/local/lib/python3.11/dist-packages (from dspy-ai==2.4.17) (0.28.1)\n",
            "Collecting magicattr~=0.1.6 (from dspy-ai==2.4.17)\n",
            "  Downloading magicattr-0.1.6-py2.py3-none-any.whl.metadata (3.2 kB)\n",
            "Collecting diskcache (from dspy-ai==2.4.17)\n",
            "  Downloading diskcache-5.6.3-py3-none-any.whl.metadata (20 kB)\n",
            "Requirement already satisfied: anyio<5,>=3.5.0 in /usr/local/lib/python3.11/dist-packages (from openai<2.0.0,>=0.28.1->dspy-ai==2.4.17) (4.9.0)\n",
            "Requirement already satisfied: distro<2,>=1.7.0 in /usr/local/lib/python3.11/dist-packages (from openai<2.0.0,>=0.28.1->dspy-ai==2.4.17) (1.9.0)\n",
            "Requirement already satisfied: jiter<1,>=0.4.0 in /usr/local/lib/python3.11/dist-packages (from openai<2.0.0,>=0.28.1->dspy-ai==2.4.17) (0.10.0)\n",
            "Requirement already satisfied: sniffio in /usr/local/lib/python3.11/dist-packages (from openai<2.0.0,>=0.28.1->dspy-ai==2.4.17) (1.3.1)\n",
            "Requirement already satisfied: typing-extensions<5,>=4.11 in /usr/local/lib/python3.11/dist-packages (from openai<2.0.0,>=0.28.1->dspy-ai==2.4.17) (4.14.1)\n",
            "Requirement already satisfied: certifi in /usr/local/lib/python3.11/dist-packages (from httpx->dspy-ai==2.4.17) (2025.7.14)\n",
            "Requirement already satisfied: httpcore==1.* in /usr/local/lib/python3.11/dist-packages (from httpx->dspy-ai==2.4.17) (1.0.9)\n",
            "Requirement already satisfied: idna in /usr/local/lib/python3.11/dist-packages (from httpx->dspy-ai==2.4.17) (3.10)\n",
            "Requirement already satisfied: h11>=0.16 in /usr/local/lib/python3.11/dist-packages (from httpcore==1.*->httpx->dspy-ai==2.4.17) (0.16.0)\n",
            "Requirement already satisfied: annotated-types>=0.6.0 in /usr/local/lib/python3.11/dist-packages (from pydantic~=2.0->dspy-ai==2.4.17) (0.7.0)\n",
            "Requirement already satisfied: pydantic-core==2.33.2 in /usr/local/lib/python3.11/dist-packages (from pydantic~=2.0->dspy-ai==2.4.17) (2.33.2)\n",
            "Requirement already satisfied: typing-inspection>=0.4.0 in /usr/local/lib/python3.11/dist-packages (from pydantic~=2.0->dspy-ai==2.4.17) (0.4.1)\n",
            "Requirement already satisfied: filelock in /usr/local/lib/python3.11/dist-packages (from datasets->dspy-ai==2.4.17) (3.18.0)\n",
            "Requirement already satisfied: numpy>=1.17 in /usr/local/lib/python3.11/dist-packages (from datasets->dspy-ai==2.4.17) (2.0.2)\n",
            "Requirement already satisfied: pyarrow>=15.0.0 in /usr/local/lib/python3.11/dist-packages (from datasets->dspy-ai==2.4.17) (18.1.0)\n",
            "Requirement already satisfied: dill<0.3.9,>=0.3.0 in /usr/local/lib/python3.11/dist-packages (from datasets->dspy-ai==2.4.17) (0.3.8)\n",
            "Requirement already satisfied: xxhash in /usr/local/lib/python3.11/dist-packages (from datasets->dspy-ai==2.4.17) (3.5.0)\n",
            "Requirement already satisfied: multiprocess<0.70.17 in /usr/local/lib/python3.11/dist-packages (from datasets->dspy-ai==2.4.17) (0.70.16)\n",
            "Requirement already satisfied: fsspec<=2025.3.0,>=2023.1.0 in /usr/local/lib/python3.11/dist-packages (from fsspec[http]<=2025.3.0,>=2023.1.0->datasets->dspy-ai==2.4.17) (2025.3.0)\n",
            "Requirement already satisfied: huggingface-hub>=0.24.0 in /usr/local/lib/python3.11/dist-packages (from datasets->dspy-ai==2.4.17) (0.33.5)\n",
            "Requirement already satisfied: packaging in /usr/local/lib/python3.11/dist-packages (from datasets->dspy-ai==2.4.17) (25.0)\n",
            "Requirement already satisfied: pyyaml>=5.1 in /usr/local/lib/python3.11/dist-packages (from datasets->dspy-ai==2.4.17) (6.0.2)\n",
            "Requirement already satisfied: charset-normalizer<4,>=2 in /usr/local/lib/python3.11/dist-packages (from requests->dspy-ai==2.4.17) (3.4.2)\n",
            "Requirement already satisfied: urllib3<3,>=1.21.1 in /usr/local/lib/python3.11/dist-packages (from requests->dspy-ai==2.4.17) (2.5.0)\n",
            "Collecting alembic>=1.5.0 (from optuna->dspy-ai==2.4.17)\n",
            "  Downloading alembic-1.16.4-py3-none-any.whl.metadata (7.3 kB)\n",
            "Collecting colorlog (from optuna->dspy-ai==2.4.17)\n",
            "  Downloading colorlog-6.9.0-py3-none-any.whl.metadata (10 kB)\n",
            "Requirement already satisfied: sqlalchemy>=1.4.2 in /usr/local/lib/python3.11/dist-packages (from optuna->dspy-ai==2.4.17) (2.0.41)\n",
            "Requirement already satisfied: python-dateutil>=2.8.2 in /usr/local/lib/python3.11/dist-packages (from pandas->dspy-ai==2.4.17) (2.9.0.post0)\n",
            "Requirement already satisfied: pytz>=2020.1 in /usr/local/lib/python3.11/dist-packages (from pandas->dspy-ai==2.4.17) (2025.2)\n",
            "Requirement already satisfied: tzdata>=2022.7 in /usr/local/lib/python3.11/dist-packages (from pandas->dspy-ai==2.4.17) (2025.2)\n",
            "Requirement already satisfied: Mako in /usr/lib/python3/dist-packages (from alembic>=1.5.0->optuna->dspy-ai==2.4.17) (1.1.3)\n",
            "Requirement already satisfied: aiohttp!=4.0.0a0,!=4.0.0a1 in /usr/local/lib/python3.11/dist-packages (from fsspec[http]<=2025.3.0,>=2023.1.0->datasets->dspy-ai==2.4.17) (3.12.14)\n",
            "Requirement already satisfied: hf-xet<2.0.0,>=1.1.2 in /usr/local/lib/python3.11/dist-packages (from huggingface-hub>=0.24.0->datasets->dspy-ai==2.4.17) (1.1.5)\n",
            "Requirement already satisfied: six>=1.5 in /usr/local/lib/python3.11/dist-packages (from python-dateutil>=2.8.2->pandas->dspy-ai==2.4.17) (1.17.0)\n",
            "Requirement already satisfied: greenlet>=1 in /usr/local/lib/python3.11/dist-packages (from sqlalchemy>=1.4.2->optuna->dspy-ai==2.4.17) (3.2.3)\n",
            "Requirement already satisfied: aiohappyeyeballs>=2.5.0 in /usr/local/lib/python3.11/dist-packages (from aiohttp!=4.0.0a0,!=4.0.0a1->fsspec[http]<=2025.3.0,>=2023.1.0->datasets->dspy-ai==2.4.17) (2.6.1)\n",
            "Requirement already satisfied: aiosignal>=1.4.0 in /usr/local/lib/python3.11/dist-packages (from aiohttp!=4.0.0a0,!=4.0.0a1->fsspec[http]<=2025.3.0,>=2023.1.0->datasets->dspy-ai==2.4.17) (1.4.0)\n",
            "Requirement already satisfied: attrs>=17.3.0 in /usr/local/lib/python3.11/dist-packages (from aiohttp!=4.0.0a0,!=4.0.0a1->fsspec[http]<=2025.3.0,>=2023.1.0->datasets->dspy-ai==2.4.17) (25.3.0)\n",
            "Requirement already satisfied: frozenlist>=1.1.1 in /usr/local/lib/python3.11/dist-packages (from aiohttp!=4.0.0a0,!=4.0.0a1->fsspec[http]<=2025.3.0,>=2023.1.0->datasets->dspy-ai==2.4.17) (1.7.0)\n",
            "Requirement already satisfied: multidict<7.0,>=4.5 in /usr/local/lib/python3.11/dist-packages (from aiohttp!=4.0.0a0,!=4.0.0a1->fsspec[http]<=2025.3.0,>=2023.1.0->datasets->dspy-ai==2.4.17) (6.6.3)\n",
            "Requirement already satisfied: propcache>=0.2.0 in /usr/local/lib/python3.11/dist-packages (from aiohttp!=4.0.0a0,!=4.0.0a1->fsspec[http]<=2025.3.0,>=2023.1.0->datasets->dspy-ai==2.4.17) (0.3.2)\n",
            "Requirement already satisfied: yarl<2.0,>=1.17.0 in /usr/local/lib/python3.11/dist-packages (from aiohttp!=4.0.0a0,!=4.0.0a1->fsspec[http]<=2025.3.0,>=2023.1.0->datasets->dspy-ai==2.4.17) (1.20.1)\n",
            "Downloading dspy_ai-2.4.17-py3-none-any.whl (297 kB)\n",
            "\u001b[2K   \u001b[90m━━━━━━━━━━━━━━━━━━━━━━━━━━━━━━━━━━━━━━━━\u001b[0m \u001b[32m297.9/297.9 kB\u001b[0m \u001b[31m8.8 MB/s\u001b[0m eta \u001b[36m0:00:00\u001b[0m\n",
            "\u001b[?25hDownloading magicattr-0.1.6-py2.py3-none-any.whl (4.7 kB)\n",
            "Downloading backoff-2.2.1-py3-none-any.whl (15 kB)\n",
            "Downloading diskcache-5.6.3-py3-none-any.whl (45 kB)\n",
            "\u001b[2K   \u001b[90m━━━━━━━━━━━━━━━━━━━━━━━━━━━━━━━━━━━━━━━━\u001b[0m \u001b[32m45.5/45.5 kB\u001b[0m \u001b[31m3.1 MB/s\u001b[0m eta \u001b[36m0:00:00\u001b[0m\n",
            "\u001b[?25hDownloading optuna-4.4.0-py3-none-any.whl (395 kB)\n",
            "\u001b[2K   \u001b[90m━━━━━━━━━━━━━━━━━━━━━━━━━━━━━━━━━━━━━━━━\u001b[0m \u001b[32m395.9/395.9 kB\u001b[0m \u001b[31m16.2 MB/s\u001b[0m eta \u001b[36m0:00:00\u001b[0m\n",
            "\u001b[?25hDownloading structlog-25.4.0-py3-none-any.whl (68 kB)\n",
            "\u001b[2K   \u001b[90m━━━━━━━━━━━━━━━━━━━━━━━━━━━━━━━━━━━━━━━━\u001b[0m \u001b[32m68.7/68.7 kB\u001b[0m \u001b[31m5.3 MB/s\u001b[0m eta \u001b[36m0:00:00\u001b[0m\n",
            "\u001b[?25hDownloading ujson-5.10.0-cp311-cp311-manylinux_2_17_x86_64.manylinux2014_x86_64.whl (53 kB)\n",
            "\u001b[2K   \u001b[90m━━━━━━━━━━━━━━━━━━━━━━━━━━━━━━━━━━━━━━━━\u001b[0m \u001b[32m53.6/53.6 kB\u001b[0m \u001b[31m4.6 MB/s\u001b[0m eta \u001b[36m0:00:00\u001b[0m\n",
            "\u001b[?25hDownloading alembic-1.16.4-py3-none-any.whl (247 kB)\n",
            "\u001b[2K   \u001b[90m━━━━━━━━━━━━━━━━━━━━━━━━━━━━━━━━━━━━━━━━\u001b[0m \u001b[32m247.0/247.0 kB\u001b[0m \u001b[31m15.6 MB/s\u001b[0m eta \u001b[36m0:00:00\u001b[0m\n",
            "\u001b[?25hDownloading colorlog-6.9.0-py3-none-any.whl (11 kB)\n",
            "Installing collected packages: magicattr, ujson, structlog, diskcache, colorlog, backoff, alembic, optuna, dspy-ai\n",
            "Successfully installed alembic-1.16.4 backoff-2.2.1 colorlog-6.9.0 diskcache-5.6.3 dspy-ai-2.4.17 magicattr-0.1.6 optuna-4.4.0 structlog-25.4.0 ujson-5.10.0\n",
            "Requirement already satisfied: graphviz in /usr/local/lib/python3.11/dist-packages (0.21)\n",
            "--2025-07-28 16:50:14--  https://raw.githubusercontent.com/frankwxu/digital-forensics-lab/main/AI4Forensics/CKIM2024/PhishingAttack/PhishingAttackScenarioDemo/conversation.txt\n",
            "Resolving raw.githubusercontent.com (raw.githubusercontent.com)... 185.199.108.133, 185.199.109.133, 185.199.110.133, ...\n",
            "Connecting to raw.githubusercontent.com (raw.githubusercontent.com)|185.199.108.133|:443... connected.\n",
            "HTTP request sent, awaiting response... 200 OK\n",
            "Length: 2492 (2.4K) [text/plain]\n",
            "Saving to: ‘conversation.txt’\n",
            "\n",
            "conversation.txt    100%[===================>]   2.43K  --.-KB/s    in 0s      \n",
            "\n",
            "2025-07-28 16:50:14 (34.2 MB/s) - ‘conversation.txt’ saved [2492/2492]\n",
            "\n"
          ]
        }
      ],
      "source": [
        "# uncomment the commands to download libraries and files\n",
        "!pip install python-dotenv\n",
        "!pip install dspy-ai==2.4.17\n",
        "!pip install graphviz\n",
        "!wget https://raw.githubusercontent.com/frankwxu/digital-forensics-lab/main/AI4Forensics/CKIM2024/PhishingAttack/PhishingAttackScenarioDemo/conversation.txt\n",
        "\n",
        "import dspy\n",
        "import os\n",
        "import openai\n",
        "import json\n",
        "from dotenv import load_dotenv\n",
        "from graphviz import Source\n",
        "from IPython.display import display"
      ]
    },
    {
      "cell_type": "code",
      "source": [
        "from google.colab import files\n",
        "uploaded = files.upload()"
      ],
      "metadata": {
        "id": "nGkbRw2Ix0gU",
        "outputId": "8180eae0-fae9-4aa4-9ee0-788c860febe7",
        "colab": {
          "base_uri": "https://localhost:8080/",
          "height": 73
        }
      },
      "execution_count": 2,
      "outputs": [
        {
          "output_type": "display_data",
          "data": {
            "text/plain": [
              "<IPython.core.display.HTML object>"
            ],
            "text/html": [
              "\n",
              "     <input type=\"file\" id=\"files-9bf83efd-45a3-4232-9407-b7b171a7e382\" name=\"files[]\" multiple disabled\n",
              "        style=\"border:none\" />\n",
              "     <output id=\"result-9bf83efd-45a3-4232-9407-b7b171a7e382\">\n",
              "      Upload widget is only available when the cell has been executed in the\n",
              "      current browser session. Please rerun this cell to enable.\n",
              "      </output>\n",
              "      <script>// Copyright 2017 Google LLC\n",
              "//\n",
              "// Licensed under the Apache License, Version 2.0 (the \"License\");\n",
              "// you may not use this file except in compliance with the License.\n",
              "// You may obtain a copy of the License at\n",
              "//\n",
              "//      http://www.apache.org/licenses/LICENSE-2.0\n",
              "//\n",
              "// Unless required by applicable law or agreed to in writing, software\n",
              "// distributed under the License is distributed on an \"AS IS\" BASIS,\n",
              "// WITHOUT WARRANTIES OR CONDITIONS OF ANY KIND, either express or implied.\n",
              "// See the License for the specific language governing permissions and\n",
              "// limitations under the License.\n",
              "\n",
              "/**\n",
              " * @fileoverview Helpers for google.colab Python module.\n",
              " */\n",
              "(function(scope) {\n",
              "function span(text, styleAttributes = {}) {\n",
              "  const element = document.createElement('span');\n",
              "  element.textContent = text;\n",
              "  for (const key of Object.keys(styleAttributes)) {\n",
              "    element.style[key] = styleAttributes[key];\n",
              "  }\n",
              "  return element;\n",
              "}\n",
              "\n",
              "// Max number of bytes which will be uploaded at a time.\n",
              "const MAX_PAYLOAD_SIZE = 100 * 1024;\n",
              "\n",
              "function _uploadFiles(inputId, outputId) {\n",
              "  const steps = uploadFilesStep(inputId, outputId);\n",
              "  const outputElement = document.getElementById(outputId);\n",
              "  // Cache steps on the outputElement to make it available for the next call\n",
              "  // to uploadFilesContinue from Python.\n",
              "  outputElement.steps = steps;\n",
              "\n",
              "  return _uploadFilesContinue(outputId);\n",
              "}\n",
              "\n",
              "// This is roughly an async generator (not supported in the browser yet),\n",
              "// where there are multiple asynchronous steps and the Python side is going\n",
              "// to poll for completion of each step.\n",
              "// This uses a Promise to block the python side on completion of each step,\n",
              "// then passes the result of the previous step as the input to the next step.\n",
              "function _uploadFilesContinue(outputId) {\n",
              "  const outputElement = document.getElementById(outputId);\n",
              "  const steps = outputElement.steps;\n",
              "\n",
              "  const next = steps.next(outputElement.lastPromiseValue);\n",
              "  return Promise.resolve(next.value.promise).then((value) => {\n",
              "    // Cache the last promise value to make it available to the next\n",
              "    // step of the generator.\n",
              "    outputElement.lastPromiseValue = value;\n",
              "    return next.value.response;\n",
              "  });\n",
              "}\n",
              "\n",
              "/**\n",
              " * Generator function which is called between each async step of the upload\n",
              " * process.\n",
              " * @param {string} inputId Element ID of the input file picker element.\n",
              " * @param {string} outputId Element ID of the output display.\n",
              " * @return {!Iterable<!Object>} Iterable of next steps.\n",
              " */\n",
              "function* uploadFilesStep(inputId, outputId) {\n",
              "  const inputElement = document.getElementById(inputId);\n",
              "  inputElement.disabled = false;\n",
              "\n",
              "  const outputElement = document.getElementById(outputId);\n",
              "  outputElement.innerHTML = '';\n",
              "\n",
              "  const pickedPromise = new Promise((resolve) => {\n",
              "    inputElement.addEventListener('change', (e) => {\n",
              "      resolve(e.target.files);\n",
              "    });\n",
              "  });\n",
              "\n",
              "  const cancel = document.createElement('button');\n",
              "  inputElement.parentElement.appendChild(cancel);\n",
              "  cancel.textContent = 'Cancel upload';\n",
              "  const cancelPromise = new Promise((resolve) => {\n",
              "    cancel.onclick = () => {\n",
              "      resolve(null);\n",
              "    };\n",
              "  });\n",
              "\n",
              "  // Wait for the user to pick the files.\n",
              "  const files = yield {\n",
              "    promise: Promise.race([pickedPromise, cancelPromise]),\n",
              "    response: {\n",
              "      action: 'starting',\n",
              "    }\n",
              "  };\n",
              "\n",
              "  cancel.remove();\n",
              "\n",
              "  // Disable the input element since further picks are not allowed.\n",
              "  inputElement.disabled = true;\n",
              "\n",
              "  if (!files) {\n",
              "    return {\n",
              "      response: {\n",
              "        action: 'complete',\n",
              "      }\n",
              "    };\n",
              "  }\n",
              "\n",
              "  for (const file of files) {\n",
              "    const li = document.createElement('li');\n",
              "    li.append(span(file.name, {fontWeight: 'bold'}));\n",
              "    li.append(span(\n",
              "        `(${file.type || 'n/a'}) - ${file.size} bytes, ` +\n",
              "        `last modified: ${\n",
              "            file.lastModifiedDate ? file.lastModifiedDate.toLocaleDateString() :\n",
              "                                    'n/a'} - `));\n",
              "    const percent = span('0% done');\n",
              "    li.appendChild(percent);\n",
              "\n",
              "    outputElement.appendChild(li);\n",
              "\n",
              "    const fileDataPromise = new Promise((resolve) => {\n",
              "      const reader = new FileReader();\n",
              "      reader.onload = (e) => {\n",
              "        resolve(e.target.result);\n",
              "      };\n",
              "      reader.readAsArrayBuffer(file);\n",
              "    });\n",
              "    // Wait for the data to be ready.\n",
              "    let fileData = yield {\n",
              "      promise: fileDataPromise,\n",
              "      response: {\n",
              "        action: 'continue',\n",
              "      }\n",
              "    };\n",
              "\n",
              "    // Use a chunked sending to avoid message size limits. See b/62115660.\n",
              "    let position = 0;\n",
              "    do {\n",
              "      const length = Math.min(fileData.byteLength - position, MAX_PAYLOAD_SIZE);\n",
              "      const chunk = new Uint8Array(fileData, position, length);\n",
              "      position += length;\n",
              "\n",
              "      const base64 = btoa(String.fromCharCode.apply(null, chunk));\n",
              "      yield {\n",
              "        response: {\n",
              "          action: 'append',\n",
              "          file: file.name,\n",
              "          data: base64,\n",
              "        },\n",
              "      };\n",
              "\n",
              "      let percentDone = fileData.byteLength === 0 ?\n",
              "          100 :\n",
              "          Math.round((position / fileData.byteLength) * 100);\n",
              "      percent.textContent = `${percentDone}% done`;\n",
              "\n",
              "    } while (position < fileData.byteLength);\n",
              "  }\n",
              "\n",
              "  // All done.\n",
              "  yield {\n",
              "    response: {\n",
              "      action: 'complete',\n",
              "    }\n",
              "  };\n",
              "}\n",
              "\n",
              "scope.google = scope.google || {};\n",
              "scope.google.colab = scope.google.colab || {};\n",
              "scope.google.colab._files = {\n",
              "  _uploadFiles,\n",
              "  _uploadFilesContinue,\n",
              "};\n",
              "})(self);\n",
              "</script> "
            ]
          },
          "metadata": {}
        },
        {
          "output_type": "stream",
          "name": "stdout",
          "text": [
            "Saving openai_api_key.txt to openai_api_key.txt\n"
          ]
        }
      ]
    },
    {
      "cell_type": "markdown",
      "metadata": {
        "id": "GtEkcgpExauM"
      },
      "source": [
        "### Step 2: Config DSPy with openAI\n",
        "- You `MUST` have an openAI api key\n",
        "- load an openAI api key from `openai_api_key.txt` file\n",
        "- or, hard code your open api key"
      ]
    },
    {
      "cell_type": "code",
      "execution_count": 3,
      "metadata": {
        "id": "_IVOaesbxauN"
      },
      "outputs": [],
      "source": [
        "def set_dspy():\n",
        "    # ==============set openAI enviroment=========\n",
        "    # Path to your API key file\n",
        "    key_file_path = \"openai_api_key.txt\"\n",
        "\n",
        "    # Load the API key from the file\n",
        "    with open(key_file_path, \"r\") as file:\n",
        "        openai_api_key = file.read().strip()\n",
        "\n",
        "    # Set the API key as an environment variable\n",
        "    os.environ[\"OPENAI_API_KEY\"] = openai_api_key\n",
        "    openai.api_key = os.environ[\"OPENAI_API_KEY\"]\n",
        "    turbo = dspy.OpenAI(model=\"gpt-3.5-turbo\", max_tokens=2000, temperature=0.5)\n",
        "    dspy.settings.configure(lm=turbo)\n",
        "    return turbo\n",
        "    # ==============end of set openAI enviroment=========\n",
        "\n",
        "\n",
        "def set_dspy_hardcode_openai_key():\n",
        "    os.environ[\"OPENAI_API_KEY\"] = \"sk-proj-yourapikeyhere\"\n",
        "    openai.api_key = os.environ[\"OPENAI_API_KEY\"]\n",
        "    turbo = dspy.OpenAI(model=\"gpt-3.5-turbo\", temperature=0, max_tokens=2000)\n",
        "    dspy.settings.configure(lm=turbo)\n",
        "    return turbo\n",
        "\n",
        "\n",
        "# provide `openai_api_key.txt` with your openAI api key\n",
        "turbo = set_dspy()\n",
        "# optionally, hard code your openAI api key at line 21\n",
        "# turbo=set_dspy_hardcode_openai_key()"
      ]
    },
    {
      "cell_type": "markdown",
      "metadata": {
        "id": "WsAfBWhnxauO"
      },
      "source": [
        "### Step 3: Load the cyber incident repot (e.g., conversation)\n",
        "\n",
        "- the same conversation as previous tutorial"
      ]
    },
    {
      "cell_type": "code",
      "execution_count": 4,
      "metadata": {
        "id": "qC8XGe_lxauO",
        "outputId": "95c11e73-6889-4b0c-8454-c3d6711f70c0",
        "colab": {
          "base_uri": "https://localhost:8080/"
        }
      },
      "outputs": [
        {
          "output_type": "stream",
          "name": "stdout",
          "text": [
            "Alice: Hey Bob, I just got a strange email from support@banksecure.com. It says I need to verify my account details urgently. The subject line was \"Urgent: Verify Your Account Now\". The email looks suspicious to me.\n",
            "\n",
            "Bob: Hi Alice, that does sound fishy. Can you forward me the email? I’ll take a look at the headers to see where it came from.\n",
            "\n",
            "Alice: Sure, forwarding it now.\n",
            "\n",
            "Bob: Got it. Let’s see... The email came from IP address 192.168.10.45, but the domain banksecure.com is not their official domain. It's actually registered to someone in Russia.\n",
            "\n",
            "Alice: That’s definitely not right. Should I be worried?\n",
            "\n",
            "Bob: We should investigate further. Did you click on any links or download any attachments?\n",
            "\n",
            "Alice: I did click on a link that took me to a page asking for my login credentials. I didn't enter anything though. The URL was http://banksecure-verification.com/login.\n",
            "\n",
            "Bob: Good call on not entering your details. Let’s check the URL. This domain was just registered two days ago. It’s highly likely it’s a phishing site.\n",
            "\n",
            "Alice: What should I do next?\n",
            "\n",
            "Bob: First, clear your browser history and cache. Also, run a full antivirus scan on your computer. Can you also provide me with any browser history entries and cookies from that session?\n",
            "\n",
            "Alice: I’ve cleared the history and started the antivirus scan. Here are the relevant entries from my browser history:\n",
            "Visited at 10:15 AM: http://banksecure-verification.com/login\n",
            "Visited at 10:17 AM: http://banksecure-verification.com/account-details\n",
            "\n",
            "Bob: Thanks. I’ll analyze these URLs further. Also, check if there are any suspicious files downloaded or present in your downloads folder. Look for anything unusual.\n",
            "\n",
            "Alice: There's a file named \"AccountDetails.exe\" that I don’t remember downloading. It was created at 10:20 AM.\n",
            "\n",
            "Bob: Definitely suspicious. Don’t open it. Let’s hash the file to verify its integrity. Can you run an MD5 hash on it?\n",
            "\n",
            "Alice: Done. The MD5 hash is e99a18c428cb38d5f260853678922e03.\n",
            "\n",
            "Bob: This hash matches known malware in our database. We’ll need to quarantine it and check if it has established any network connections. I’ll look into our network logs for the IP 192.168.10.45 around 10:20 AM.\n",
            "\n",
            "Alice: Is there anything else I need to do?\n",
            "\n",
            "Bob: For now, avoid using your computer for sensitive tasks. We’ll also reset your passwords from a different device and enable two-factor authentication on your accounts.\n",
            "\n",
            "Alice: Thanks, Bob. I’ll follow these steps immediately.\n"
          ]
        }
      ],
      "source": [
        "def load_text_file(file_path):\n",
        "    \"\"\"\n",
        "    Load a text file and return its contents as a string.\n",
        "\n",
        "    Parameters:\n",
        "    file_path (str): The path to the text file.\n",
        "\n",
        "    Returns:\n",
        "    str: The contents of the text file.\n",
        "    \"\"\"\n",
        "    try:\n",
        "        with open(file_path, \"r\") as file:\n",
        "            contents = file.read()\n",
        "        return contents\n",
        "    except FileNotFoundError:\n",
        "        return \"File not found.\"\n",
        "    except Exception as e:\n",
        "        return f\"An error occurred: {e}\"\n",
        "\n",
        "conversation = load_text_file(\"conversation.txt\")\n",
        "print(conversation)"
      ]
    },
    {
      "cell_type": "markdown",
      "metadata": {
        "id": "McLFvZ0LxauP"
      },
      "source": [
        "### Step 4: Tell an LLM `WHAT` are the inputs/outputs by defining `dspy.Signature`\n",
        "\n",
        "- Goal\n",
        "    - to generate a simple plaintext file, call `DOT`. In DOT, you define nodes and edges.\n",
        "    - Graphviz uses ``DOT` to describe and visualize graphs.  \n",
        "\n",
        "- The following signature identifies a list of evidence entities and relationships based on the conversation\n",
        "    - Inherit from `dspy.Signature`\n",
        "    - Exact `ONE` input, e.g., the conversation\n",
        "    - Exact `ONE` output, a DOT file"
      ]
    },
    {
      "cell_type": "code",
      "execution_count": 5,
      "metadata": {
        "id": "TQeMDpI0xauP"
      },
      "outputs": [],
      "source": [
        "class DotGenerator(dspy.Signature):\n",
        "    \"\"\"Generate a foresnic evidence knowledge graph based on a conversation between an IT Security Specialist and an Employee. \"\"\"\n",
        "\n",
        "    question: str = dspy.InputField(\n",
        "        desc=\"a conversation describing a cyber incident between an IT Security Specialist and an employee.\"\n",
        "    )\n",
        "\n",
        "    answer: str = dspy.OutputField(\n",
        "        desc=\"a graph in a dot format. The nodes of the graph are evidence entities and the edges of the graph are the relationships between evidence entities. A DOT format is primarily associated with Graphviz, a graph visualization software. For example, a DOT should looks like: digraph incident_name {...}. Don't include `````` \"\n",
        "    )"
      ]
    },
    {
      "cell_type": "markdown",
      "metadata": {
        "id": "E5_lHuibxauQ"
      },
      "source": [
        "### Step 5: Tell an LLM `HOW` to generate answer:\n",
        "\n",
        "Generates and saves DOT file from a conversation using a specified signature.\n",
        "\n",
        "#### Parameters:\n",
        "- `signature` (dspy.Signature): The signature defining the input and output structure for evidence identification.\n",
        "- `conversation` (str): The conversation text to analyze for evidence.\n",
        "- `output_file` (str): The file path where the identified evidence will be saved in DOT format.\n",
        "\n",
        "#### Notes:\n",
        "- This function uses [`dspy.ChainOfThought`](https://arxiv.org/pdf/2201.11903) to process the conversation and create a knowledge graph\n",
        "- Other options include\n",
        "    - `dspy.ChainOfThoughtWithHint` : Provide hints for reasoning\n",
        "    - `dspy.Retrieve`: Retrieves passages from a retriever module\n",
        "    - `dspy.ReAct`: Consists steps of Thought, Action, and Observation.\n"
      ]
    },
    {
      "cell_type": "code",
      "execution_count": 6,
      "metadata": {
        "id": "PW1l8oQsxauQ"
      },
      "outputs": [],
      "source": [
        "def generate_answer_CoT(signature, text, output_file):\n",
        "    generate_answer = dspy.ChainOfThought(signature)\n",
        "    answer = generate_answer(question=text).answer  # here we use the module\n",
        "\n",
        "    with open(output_file, \"w\") as dot_file:\n",
        "        print(answer)\n",
        "        dot_file.write(answer)\n",
        "        return answer\n",
        "    print(f\"The evidence has been saved to the file {output_file}\")"
      ]
    },
    {
      "cell_type": "markdown",
      "metadata": {
        "id": "LtXjbM4txauQ"
      },
      "source": [
        "### Step 6: Call LLM to generate the graph in a `.DOT` file"
      ]
    },
    {
      "cell_type": "code",
      "execution_count": 7,
      "metadata": {
        "id": "hLPXkN_QxauR",
        "outputId": "cda0eb00-99d8-450c-c96f-01add24924ad",
        "colab": {
          "base_uri": "https://localhost:8080/"
        }
      },
      "outputs": [
        {
          "output_type": "stream",
          "name": "stdout",
          "text": [
            "digraph phishing_incident {\n",
            "    \"support@banksecure.com\" -> \"IP address 192.168.10.45\"\n",
            "    \"support@banksecure.com\" -> \"banksecure.com (registered to someone in Russia)\"\n",
            "    \"http://banksecure-verification.com/login\" -> \"IP address 192.168.10.45\"\n",
            "    \"http://banksecure-verification.com/login\" -> \"Domain registered two days ago\"\n",
            "    \"http://banksecure-verification.com/account-details\" -> \"http://banksecure-verification.com/login\"\n",
            "    \"http://banksecure-verification.com/account-details\" -> \"Visited at 10:17 AM\"\n",
            "    \"AccountDetails.exe\" -> \"Created at 10:20 AM\"\n",
            "    \"AccountDetails.exe\" -> \"MD5 hash e99a18c428cb38d5f260853678922e03 (matches known malware)\"\n",
            "    \"AccountDetails.exe\" -> \"Quarantined\"\n",
            "    \"AccountDetails.exe\" -> \"Network connections to IP address 192.168.10.45\"\n",
            "    \"Network logs for IP 192.168.10.45\" -> \"Checked around 10:20 AM\"\n",
            "    \"Reset passwords\" -> \"Enabled two-factor authentication\"\n",
            "}\n"
          ]
        }
      ],
      "source": [
        "output_file = \"02_output.dot\"\n",
        "dot_description = generate_answer_CoT(\n",
        "    DotGenerator,\n",
        "    conversation,\n",
        "    output_file,\n",
        ")"
      ]
    },
    {
      "cell_type": "markdown",
      "metadata": {
        "id": "s1nogn3QxauR"
      },
      "source": [
        "### Step 7: Render the graph based on the `.DOT` file"
      ]
    },
    {
      "cell_type": "code",
      "execution_count": 8,
      "metadata": {
        "id": "P1u9qH_oxauR",
        "outputId": "86bd3950-d390-4538-f63c-388e5f90efc5",
        "colab": {
          "base_uri": "https://localhost:8080/",
          "height": 292
        }
      },
      "outputs": [
        {
          "output_type": "display_data",
          "data": {
            "image/svg+xml": "<?xml version=\"1.0\" encoding=\"UTF-8\" standalone=\"no\"?>\n<!DOCTYPE svg PUBLIC \"-//W3C//DTD SVG 1.1//EN\"\n \"http://www.w3.org/Graphics/SVG/1.1/DTD/svg11.dtd\">\n<!-- Generated by graphviz version 2.43.0 (0)\n -->\n<!-- Title: phishing_incident Pages: 1 -->\n<svg width=\"2774pt\" height=\"188pt\"\n viewBox=\"0.00 0.00 2774.42 188.00\" xmlns=\"http://www.w3.org/2000/svg\" xmlns:xlink=\"http://www.w3.org/1999/xlink\">\n<g id=\"graph0\" class=\"graph\" transform=\"scale(1 1) rotate(0) translate(4 184)\">\n<title>phishing_incident</title>\n<polygon fill=\"white\" stroke=\"transparent\" points=\"-4,4 -4,-184 2770.42,-184 2770.42,4 -4,4\"/>\n<!-- support@banksecure.com -->\n<g id=\"node1\" class=\"node\">\n<title>support@banksecure.com</title>\n<ellipse fill=\"none\" stroke=\"black\" cx=\"329.78\" cy=\"-90\" rx=\"102.88\" ry=\"18\"/>\n<text text-anchor=\"middle\" x=\"329.78\" y=\"-86.3\" font-family=\"Times,serif\" font-size=\"14.00\">support@banksecure.com</text>\n</g>\n<!-- IP address 192.168.10.45 -->\n<g id=\"node2\" class=\"node\">\n<title>IP address 192.168.10.45</title>\n<ellipse fill=\"none\" stroke=\"black\" cx=\"498.78\" cy=\"-18\" rx=\"100.98\" ry=\"18\"/>\n<text text-anchor=\"middle\" x=\"498.78\" y=\"-14.3\" font-family=\"Times,serif\" font-size=\"14.00\">IP address 192.168.10.45</text>\n</g>\n<!-- support@banksecure.com&#45;&gt;IP address 192.168.10.45 -->\n<g id=\"edge1\" class=\"edge\">\n<title>support@banksecure.com&#45;&gt;IP address 192.168.10.45</title>\n<path fill=\"none\" stroke=\"black\" d=\"M368.13,-73.12C392.85,-62.88 425.17,-49.49 451.48,-38.59\"/>\n<polygon fill=\"black\" stroke=\"black\" points=\"452.98,-41.76 460.88,-34.7 450.3,-35.29 452.98,-41.76\"/>\n</g>\n<!-- banksecure.com (registered to someone in Russia) -->\n<g id=\"node3\" class=\"node\">\n<title>banksecure.com (registered to someone in Russia)</title>\n<ellipse fill=\"none\" stroke=\"black\" cx=\"189.78\" cy=\"-18\" rx=\"189.57\" ry=\"18\"/>\n<text text-anchor=\"middle\" x=\"189.78\" y=\"-14.3\" font-family=\"Times,serif\" font-size=\"14.00\">banksecure.com (registered to someone in Russia)</text>\n</g>\n<!-- support@banksecure.com&#45;&gt;banksecure.com (registered to someone in Russia) -->\n<g id=\"edge2\" class=\"edge\">\n<title>support@banksecure.com&#45;&gt;banksecure.com (registered to someone in Russia)</title>\n<path fill=\"none\" stroke=\"black\" d=\"M297.31,-72.76C278.03,-63.12 253.36,-50.79 232.51,-40.37\"/>\n<polygon fill=\"black\" stroke=\"black\" points=\"234.05,-37.22 223.54,-35.88 230.92,-43.48 234.05,-37.22\"/>\n</g>\n<!-- http://banksecure&#45;verification.com/login -->\n<g id=\"node4\" class=\"node\">\n<title>http://banksecure&#45;verification.com/login</title>\n<ellipse fill=\"none\" stroke=\"black\" cx=\"620.78\" cy=\"-90\" rx=\"153.27\" ry=\"18\"/>\n<text text-anchor=\"middle\" x=\"620.78\" y=\"-86.3\" font-family=\"Times,serif\" font-size=\"14.00\">http://banksecure&#45;verification.com/login</text>\n</g>\n<!-- http://banksecure&#45;verification.com/login&#45;&gt;IP address 192.168.10.45 -->\n<g id=\"edge3\" class=\"edge\">\n<title>http://banksecure&#45;verification.com/login&#45;&gt;IP address 192.168.10.45</title>\n<path fill=\"none\" stroke=\"black\" d=\"M591.56,-72.23C574.99,-62.73 554.09,-50.73 536.31,-40.53\"/>\n<polygon fill=\"black\" stroke=\"black\" points=\"537.76,-37.33 527.35,-35.39 534.28,-43.4 537.76,-37.33\"/>\n</g>\n<!-- Domain registered two days ago -->\n<g id=\"node5\" class=\"node\">\n<title>Domain registered two days ago</title>\n<ellipse fill=\"none\" stroke=\"black\" cx=\"743.78\" cy=\"-18\" rx=\"126.18\" ry=\"18\"/>\n<text text-anchor=\"middle\" x=\"743.78\" y=\"-14.3\" font-family=\"Times,serif\" font-size=\"14.00\">Domain registered two days ago</text>\n</g>\n<!-- http://banksecure&#45;verification.com/login&#45;&gt;Domain registered two days ago -->\n<g id=\"edge4\" class=\"edge\">\n<title>http://banksecure&#45;verification.com/login&#45;&gt;Domain registered two days ago</title>\n<path fill=\"none\" stroke=\"black\" d=\"M650.24,-72.23C666.83,-62.8 687.72,-50.9 705.55,-40.76\"/>\n<polygon fill=\"black\" stroke=\"black\" points=\"707.6,-43.62 714.56,-35.63 704.14,-37.53 707.6,-43.62\"/>\n</g>\n<!-- http://banksecure&#45;verification.com/account&#45;details -->\n<g id=\"node6\" class=\"node\">\n<title>http://banksecure&#45;verification.com/account&#45;details</title>\n<ellipse fill=\"none\" stroke=\"black\" cx=\"748.78\" cy=\"-162\" rx=\"188.47\" ry=\"18\"/>\n<text text-anchor=\"middle\" x=\"748.78\" y=\"-158.3\" font-family=\"Times,serif\" font-size=\"14.00\">http://banksecure&#45;verification.com/account&#45;details</text>\n</g>\n<!-- http://banksecure&#45;verification.com/account&#45;details&#45;&gt;http://banksecure&#45;verification.com/login -->\n<g id=\"edge5\" class=\"edge\">\n<title>http://banksecure&#45;verification.com/account&#45;details&#45;&gt;http://banksecure&#45;verification.com/login</title>\n<path fill=\"none\" stroke=\"black\" d=\"M718.12,-144.23C700.84,-134.78 679.04,-122.86 660.46,-112.7\"/>\n<polygon fill=\"black\" stroke=\"black\" points=\"662.09,-109.6 651.64,-107.87 658.73,-115.74 662.09,-109.6\"/>\n</g>\n<!-- Visited at 10:17 AM -->\n<g id=\"node7\" class=\"node\">\n<title>Visited at 10:17 AM</title>\n<ellipse fill=\"none\" stroke=\"black\" cx=\"875.78\" cy=\"-90\" rx=\"83.39\" ry=\"18\"/>\n<text text-anchor=\"middle\" x=\"875.78\" y=\"-86.3\" font-family=\"Times,serif\" font-size=\"14.00\">Visited at 10:17 AM</text>\n</g>\n<!-- http://banksecure&#45;verification.com/account&#45;details&#45;&gt;Visited at 10:17 AM -->\n<g id=\"edge6\" class=\"edge\">\n<title>http://banksecure&#45;verification.com/account&#45;details&#45;&gt;Visited at 10:17 AM</title>\n<path fill=\"none\" stroke=\"black\" d=\"M779.2,-144.23C796.86,-134.5 819.25,-122.16 838.03,-111.81\"/>\n<polygon fill=\"black\" stroke=\"black\" points=\"839.85,-114.8 846.92,-106.91 836.47,-108.67 839.85,-114.8\"/>\n</g>\n<!-- AccountDetails.exe -->\n<g id=\"node8\" class=\"node\">\n<title>AccountDetails.exe</title>\n<ellipse fill=\"none\" stroke=\"black\" cx=\"1628.78\" cy=\"-162\" rx=\"79.89\" ry=\"18\"/>\n<text text-anchor=\"middle\" x=\"1628.78\" y=\"-158.3\" font-family=\"Times,serif\" font-size=\"14.00\">AccountDetails.exe</text>\n</g>\n<!-- Created at 10:20 AM -->\n<g id=\"node9\" class=\"node\">\n<title>Created at 10:20 AM</title>\n<ellipse fill=\"none\" stroke=\"black\" cx=\"1062.78\" cy=\"-90\" rx=\"85.59\" ry=\"18\"/>\n<text text-anchor=\"middle\" x=\"1062.78\" y=\"-86.3\" font-family=\"Times,serif\" font-size=\"14.00\">Created at 10:20 AM</text>\n</g>\n<!-- AccountDetails.exe&#45;&gt;Created at 10:20 AM -->\n<g id=\"edge7\" class=\"edge\">\n<title>AccountDetails.exe&#45;&gt;Created at 10:20 AM</title>\n<path fill=\"none\" stroke=\"black\" d=\"M1556.38,-154.33C1463.75,-145.45 1298.45,-128.48 1157.78,-108 1150.15,-106.89 1142.18,-105.63 1134.26,-104.3\"/>\n<polygon fill=\"black\" stroke=\"black\" points=\"1134.71,-100.83 1124.27,-102.6 1133.54,-107.73 1134.71,-100.83\"/>\n</g>\n<!-- MD5 hash e99a18c428cb38d5f260853678922e03 (matches known malware) -->\n<g id=\"node10\" class=\"node\">\n<title>MD5 hash e99a18c428cb38d5f260853678922e03 (matches known malware)</title>\n<ellipse fill=\"none\" stroke=\"black\" cx=\"1450.78\" cy=\"-90\" rx=\"284.05\" ry=\"18\"/>\n<text text-anchor=\"middle\" x=\"1450.78\" y=\"-86.3\" font-family=\"Times,serif\" font-size=\"14.00\">MD5 hash e99a18c428cb38d5f260853678922e03 (matches known malware)</text>\n</g>\n<!-- AccountDetails.exe&#45;&gt;MD5 hash e99a18c428cb38d5f260853678922e03 (matches known malware) -->\n<g id=\"edge8\" class=\"edge\">\n<title>AccountDetails.exe&#45;&gt;MD5 hash e99a18c428cb38d5f260853678922e03 (matches known malware)</title>\n<path fill=\"none\" stroke=\"black\" d=\"M1590.6,-145.98C1565.1,-135.96 1531.24,-122.64 1503.23,-111.62\"/>\n<polygon fill=\"black\" stroke=\"black\" points=\"1504.17,-108.24 1493.59,-107.83 1501.61,-114.75 1504.17,-108.24\"/>\n</g>\n<!-- Quarantined -->\n<g id=\"node11\" class=\"node\">\n<title>Quarantined</title>\n<ellipse fill=\"none\" stroke=\"black\" cx=\"1806.78\" cy=\"-90\" rx=\"53.89\" ry=\"18\"/>\n<text text-anchor=\"middle\" x=\"1806.78\" y=\"-86.3\" font-family=\"Times,serif\" font-size=\"14.00\">Quarantined</text>\n</g>\n<!-- AccountDetails.exe&#45;&gt;Quarantined -->\n<g id=\"edge9\" class=\"edge\">\n<title>AccountDetails.exe&#45;&gt;Quarantined</title>\n<path fill=\"none\" stroke=\"black\" d=\"M1666.97,-145.98C1695.33,-134.83 1734.04,-119.61 1763.54,-108.01\"/>\n<polygon fill=\"black\" stroke=\"black\" points=\"1765.14,-111.14 1773.16,-104.22 1762.57,-104.62 1765.14,-111.14\"/>\n</g>\n<!-- Network connections to IP address 192.168.10.45 -->\n<g id=\"node12\" class=\"node\">\n<title>Network connections to IP address 192.168.10.45</title>\n<ellipse fill=\"none\" stroke=\"black\" cx=\"2066.78\" cy=\"-90\" rx=\"187.67\" ry=\"18\"/>\n<text text-anchor=\"middle\" x=\"2066.78\" y=\"-86.3\" font-family=\"Times,serif\" font-size=\"14.00\">Network connections to IP address 192.168.10.45</text>\n</g>\n<!-- AccountDetails.exe&#45;&gt;Network connections to IP address 192.168.10.45 -->\n<g id=\"edge10\" class=\"edge\">\n<title>AccountDetails.exe&#45;&gt;Network connections to IP address 192.168.10.45</title>\n<path fill=\"none\" stroke=\"black\" d=\"M1692,-150.9C1763.26,-139.51 1880.13,-120.83 1964.44,-107.36\"/>\n<polygon fill=\"black\" stroke=\"black\" points=\"1965.23,-110.77 1974.55,-105.74 1964.12,-103.86 1965.23,-110.77\"/>\n</g>\n<!-- Network logs for IP 192.168.10.45 -->\n<g id=\"node13\" class=\"node\">\n<title>Network logs for IP 192.168.10.45</title>\n<ellipse fill=\"none\" stroke=\"black\" cx=\"2379.78\" cy=\"-162\" rx=\"135.38\" ry=\"18\"/>\n<text text-anchor=\"middle\" x=\"2379.78\" y=\"-158.3\" font-family=\"Times,serif\" font-size=\"14.00\">Network logs for IP 192.168.10.45</text>\n</g>\n<!-- Checked around 10:20 AM -->\n<g id=\"node14\" class=\"node\">\n<title>Checked around 10:20 AM</title>\n<ellipse fill=\"none\" stroke=\"black\" cx=\"2379.78\" cy=\"-90\" rx=\"107.48\" ry=\"18\"/>\n<text text-anchor=\"middle\" x=\"2379.78\" y=\"-86.3\" font-family=\"Times,serif\" font-size=\"14.00\">Checked around 10:20 AM</text>\n</g>\n<!-- Network logs for IP 192.168.10.45&#45;&gt;Checked around 10:20 AM -->\n<g id=\"edge11\" class=\"edge\">\n<title>Network logs for IP 192.168.10.45&#45;&gt;Checked around 10:20 AM</title>\n<path fill=\"none\" stroke=\"black\" d=\"M2379.78,-143.7C2379.78,-135.98 2379.78,-126.71 2379.78,-118.11\"/>\n<polygon fill=\"black\" stroke=\"black\" points=\"2383.28,-118.1 2379.78,-108.1 2376.28,-118.1 2383.28,-118.1\"/>\n</g>\n<!-- Reset passwords -->\n<g id=\"node15\" class=\"node\">\n<title>Reset passwords</title>\n<ellipse fill=\"none\" stroke=\"black\" cx=\"2635.78\" cy=\"-162\" rx=\"69.59\" ry=\"18\"/>\n<text text-anchor=\"middle\" x=\"2635.78\" y=\"-158.3\" font-family=\"Times,serif\" font-size=\"14.00\">Reset passwords</text>\n</g>\n<!-- Enabled two&#45;factor authentication -->\n<g id=\"node16\" class=\"node\">\n<title>Enabled two&#45;factor authentication</title>\n<ellipse fill=\"none\" stroke=\"black\" cx=\"2635.78\" cy=\"-90\" rx=\"130.78\" ry=\"18\"/>\n<text text-anchor=\"middle\" x=\"2635.78\" y=\"-86.3\" font-family=\"Times,serif\" font-size=\"14.00\">Enabled two&#45;factor authentication</text>\n</g>\n<!-- Reset passwords&#45;&gt;Enabled two&#45;factor authentication -->\n<g id=\"edge12\" class=\"edge\">\n<title>Reset passwords&#45;&gt;Enabled two&#45;factor authentication</title>\n<path fill=\"none\" stroke=\"black\" d=\"M2635.78,-143.7C2635.78,-135.98 2635.78,-126.71 2635.78,-118.11\"/>\n<polygon fill=\"black\" stroke=\"black\" points=\"2639.28,-118.1 2635.78,-108.1 2632.28,-118.1 2639.28,-118.1\"/>\n</g>\n</g>\n</svg>\n",
            "text/plain": [
              "<graphviz.sources.Source at 0x7b784939f350>"
            ]
          },
          "metadata": {}
        }
      ],
      "source": [
        "# Create a Digraph object and render the graph\n",
        "graph = Source.from_file('02_output.dot')\n",
        "display(graph)\n",
        "\n",
        "# Render the graph within the notebook\n",
        "output_path = graph.render(\"02_output_email_analysis\", format=\"png\", cleanup=True)"
      ]
    },
    {
      "cell_type": "markdown",
      "metadata": {
        "id": "C3c9jQ5axauS"
      },
      "source": [
        "### Step 7: Inspect the last prompt send to the LLM\n",
        "\n",
        "You want to check:\n",
        "- Prompt Description Section: Description in the signature\n",
        "- Format Section: `Following the following format.`\n",
        "    - Pay attention to a new inserted field `REASONING: Let's think step by step ...`\n",
        "- Result Section: a forensic knowledge graph in `.DOT`"
      ]
    },
    {
      "cell_type": "code",
      "execution_count": 28,
      "metadata": {
        "id": "4gQJTFg0xauS",
        "outputId": "3fe58b50-b416-4f9a-c91a-f2a2b52e792e",
        "colab": {
          "base_uri": "https://localhost:8080/",
          "height": 975
        }
      },
      "outputs": [
        {
          "output_type": "stream",
          "name": "stdout",
          "text": [
            "\n",
            "\n",
            "\n",
            "Generate a foresnic evidence knowledge graph based on a conversation between an IT Security Specialist and an Employee.\n",
            "\n",
            "---\n",
            "\n",
            "Follow the following format.\n",
            "\n",
            "Question: a conversation describing a cyber incident between an IT Security Specialist and an employee.\n",
            "Reasoning: Let's think step by step in order to ${produce the answer}. We ...\n",
            "Answer: a graph in a dot format. The nodes of the graph are evidence entities and the edges of the graph are the relationships between evidence entities. A DOT format is primarily associated with Graphviz, a graph visualization software. For example, a DOT should looks like: digraph incident_name {...}. Don't include ``````\n",
            "\n",
            "---\n",
            "\n",
            "Question: Alice: Hey Bob, I just got a strange email from support@banksecure.com. It says I need to verify my account details urgently. The subject line was \"Urgent: Verify Your Account Now\". The email looks suspicious to me. Bob: Hi Alice, that does sound fishy. Can you forward me the email? I’ll take a look at the headers to see where it came from. Alice: Sure, forwarding it now. Bob: Got it. Let’s see... The email came from IP address 192.168.10.45, but the domain banksecure.com is not their official domain. It's actually registered to someone in Russia. Alice: That’s definitely not right. Should I be worried? Bob: We should investigate further. Did you click on any links or download any attachments? Alice: I did click on a link that took me to a page asking for my login credentials. I didn't enter anything though. The URL was http://banksecure-verification.com/login. Bob: Good call on not entering your details. Let’s check the URL. This domain was just registered two days ago. It’s highly likely it’s a phishing site. Alice: What should I do next? Bob: First, clear your browser history and cache. Also, run a full antivirus scan on your computer. Can you also provide me with any browser history entries and cookies from that session? Alice: I’ve cleared the history and started the antivirus scan. Here are the relevant entries from my browser history: Visited at 10:15 AM: http://banksecure-verification.com/login Visited at 10:17 AM: http://banksecure-verification.com/account-details Bob: Thanks. I’ll analyze these URLs further. Also, check if there are any suspicious files downloaded or present in your downloads folder. Look for anything unusual. Alice: There's a file named \"AccountDetails.exe\" that I don’t remember downloading. It was created at 10:20 AM. Bob: Definitely suspicious. Don’t open it. Let’s hash the file to verify its integrity. Can you run an MD5 hash on it? Alice: Done. The MD5 hash is e99a18c428cb38d5f260853678922e03. Bob: This hash matches known malware in our database. We’ll need to quarantine it and check if it has established any network connections. I’ll look into our network logs for the IP 192.168.10.45 around 10:20 AM. Alice: Is there anything else I need to do? Bob: For now, avoid using your computer for sensitive tasks. We’ll also reset your passwords from a different device and enable two-factor authentication on your accounts. Alice: Thanks, Bob. I’ll follow these steps immediately.\n",
            "Reasoning: Let's think step by step in order to\u001b[32m produce the answer. We will first identify the key pieces of forensic evidence mentioned in the conversation, such as the suspicious email, IP address, domain registration details, phishing URL, browser history entries, suspicious file, MD5 hash, network connections, and recommended actions. We will then create a knowledge graph to visualize the relationships between these pieces of evidence.\n",
            "\n",
            "Answer: \n",
            "```\n",
            "digraph cyber_incident {\n",
            "  \"Suspicious Email\" -> \"IP Address: 192.168.10.45\";\n",
            "  \"Suspicious Email\" -> \"Domain: banksecure.com (Registered to someone in Russia)\";\n",
            "  \"Suspicious Email\" -> \"Phishing URL: http://banksecure-verification.com/login\";\n",
            "  \"Phishing URL\" -> \"Domain: banksecure-verification.com (Registered 2 days ago)\";\n",
            "  \"Browser History\" -> \"Visited URL: http://banksecure-verification.com/login\";\n",
            "  \"Browser History\" -> \"Visited URL: http://banksecure-verification.com/account-details\";\n",
            "  \"Suspicious File: AccountDetails.exe\" -> \"MD5 Hash: e99a18c428cb38d5f260853678922e03\";\n",
            "  \"MD5 Hash: e99a18c428cb38d5f260853678922e03\" -> \"Known Malware in Database\";\n",
            "  \"Suspicious File: AccountDetails.exe\" -> \"Network Connections: IP 192.168.10.45\";\n",
            "  \"Recommended Actions\" -> \"Clear Browser History and Cache\";\n",
            "  \"Recommended Actions\" -> \"Run Full Antivirus Scan\";\n",
            "  \"Recommended Actions\" -> \"Provide Browser History Entries and Cookies\";\n",
            "  \"Recommended Actions\" -> \"Check Downloads Folder for Suspicious Files\";\n",
            "  \"Recommended Actions\" -> \"Hash Suspicious File\";\n",
            "  \"Recommended Actions\" -> \"Analyze Network Logs\";\n",
            "  \"Recommended Actions\" -> \"Reset Passwords and Enable Two-Factor Authentication\";\n",
            "}\n",
            "```\u001b[0m\n",
            "\n",
            "\n",
            "\n"
          ]
        },
        {
          "output_type": "execute_result",
          "data": {
            "text/plain": [
              "'\\n\\n\\nGenerate a foresnic evidence knowledge graph based on a conversation between an IT Security Specialist and an Employee.\\n\\n---\\n\\nFollow the following format.\\n\\nQuestion: a conversation describing a cyber incident between an IT Security Specialist and an employee.\\nReasoning: Let\\'s think step by step in order to ${produce the answer}. We ...\\nAnswer: a graph in a dot format. The nodes of the graph are evidence entities and the edges of the graph are the relationships between evidence entities. A DOT format is primarily associated with Graphviz, a graph visualization software. For example, a DOT should looks like: digraph incident_name {...}. Don\\'t include ``````\\n\\n---\\n\\nQuestion: Alice: Hey Bob, I just got a strange email from support@banksecure.com. It says I need to verify my account details urgently. The subject line was \"Urgent: Verify Your Account Now\". The email looks suspicious to me. Bob: Hi Alice, that does sound fishy. Can you forward me the email? I’ll take a look at the headers to see where it came from. Alice: Sure, forwarding it now. Bob: Got it. Let’s see... The email came from IP address 192.168.10.45, but the domain banksecure.com is not their official domain. It\\'s actually registered to someone in Russia. Alice: That’s definitely not right. Should I be worried? Bob: We should investigate further. Did you click on any links or download any attachments? Alice: I did click on a link that took me to a page asking for my login credentials. I didn\\'t enter anything though. The URL was http://banksecure-verification.com/login. Bob: Good call on not entering your details. Let’s check the URL. This domain was just registered two days ago. It’s highly likely it’s a phishing site. Alice: What should I do next? Bob: First, clear your browser history and cache. Also, run a full antivirus scan on your computer. Can you also provide me with any browser history entries and cookies from that session? Alice: I’ve cleared the history and started the antivirus scan. Here are the relevant entries from my browser history: Visited at 10:15 AM: http://banksecure-verification.com/login Visited at 10:17 AM: http://banksecure-verification.com/account-details Bob: Thanks. I’ll analyze these URLs further. Also, check if there are any suspicious files downloaded or present in your downloads folder. Look for anything unusual. Alice: There\\'s a file named \"AccountDetails.exe\" that I don’t remember downloading. It was created at 10:20 AM. Bob: Definitely suspicious. Don’t open it. Let’s hash the file to verify its integrity. Can you run an MD5 hash on it? Alice: Done. The MD5 hash is e99a18c428cb38d5f260853678922e03. Bob: This hash matches known malware in our database. We’ll need to quarantine it and check if it has established any network connections. I’ll look into our network logs for the IP 192.168.10.45 around 10:20 AM. Alice: Is there anything else I need to do? Bob: For now, avoid using your computer for sensitive tasks. We’ll also reset your passwords from a different device and enable two-factor authentication on your accounts. Alice: Thanks, Bob. I’ll follow these steps immediately.\\nReasoning: Let\\'s think step by step in order to\\x1b[32m produce the answer. We will first identify the key pieces of forensic evidence mentioned in the conversation, such as the suspicious email, IP address, domain registration details, phishing URL, browser history entries, suspicious file, MD5 hash, network connections, and recommended actions. We will then create a knowledge graph to visualize the relationships between these pieces of evidence.\\n\\nAnswer: \\n```\\ndigraph cyber_incident {\\n  \"Suspicious Email\" -> \"IP Address: 192.168.10.45\";\\n  \"Suspicious Email\" -> \"Domain: banksecure.com (Registered to someone in Russia)\";\\n  \"Suspicious Email\" -> \"Phishing URL: http://banksecure-verification.com/login\";\\n  \"Phishing URL\" -> \"Domain: banksecure-verification.com (Registered 2 days ago)\";\\n  \"Browser History\" -> \"Visited URL: http://banksecure-verification.com/login\";\\n  \"Browser History\" -> \"Visited URL: http://banksecure-verification.com/account-details\";\\n  \"Suspicious File: AccountDetails.exe\" -> \"MD5 Hash: e99a18c428cb38d5f260853678922e03\";\\n  \"MD5 Hash: e99a18c428cb38d5f260853678922e03\" -> \"Known Malware in Database\";\\n  \"Suspicious File: AccountDetails.exe\" -> \"Network Connections: IP 192.168.10.45\";\\n  \"Recommended Actions\" -> \"Clear Browser History and Cache\";\\n  \"Recommended Actions\" -> \"Run Full Antivirus Scan\";\\n  \"Recommended Actions\" -> \"Provide Browser History Entries and Cookies\";\\n  \"Recommended Actions\" -> \"Check Downloads Folder for Suspicious Files\";\\n  \"Recommended Actions\" -> \"Hash Suspicious File\";\\n  \"Recommended Actions\" -> \"Analyze Network Logs\";\\n  \"Recommended Actions\" -> \"Reset Passwords and Enable Two-Factor Authentication\";\\n}\\n```\\x1b[0m\\n\\n\\n'"
            ],
            "application/vnd.google.colaboratory.intrinsic+json": {
              "type": "string"
            }
          },
          "metadata": {},
          "execution_count": 28
        }
      ],
      "source": [
        "turbo.inspect_history(n=1)"
      ]
    },
    {
      "cell_type": "code",
      "execution_count": null,
      "metadata": {
        "id": "vYY3yg-gxauT"
      },
      "outputs": [],
      "source": []
    }
  ],
  "metadata": {
    "kernelspec": {
      "display_name": "Python 3",
      "language": "python",
      "name": "python3"
    },
    "language_info": {
      "codemirror_mode": {
        "name": "ipython",
        "version": 3
      },
      "file_extension": ".py",
      "mimetype": "text/x-python",
      "name": "python",
      "nbconvert_exporter": "python",
      "pygments_lexer": "ipython3",
      "version": "3.12.3"
    },
    "colab": {
      "provenance": []
    }
  },
  "nbformat": 4,
  "nbformat_minor": 0
}