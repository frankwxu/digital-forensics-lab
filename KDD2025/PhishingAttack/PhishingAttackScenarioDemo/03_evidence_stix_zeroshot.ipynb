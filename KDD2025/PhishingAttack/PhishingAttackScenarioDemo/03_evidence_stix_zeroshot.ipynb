{
  "cells": [
    {
      "cell_type": "markdown",
      "metadata": {
        "id": "E3d8J5bA4HXn"
      },
      "source": [
        "## A tutorial to generate evidence in a standard and structured format.\n",
        "\n",
        "### Benefits of Using Standardized formats for forensics evidence\n",
        "- Consistency: easier to compare and analyze different pieces of evidence\n",
        "- Interoperability: exchange of evidence across different systems and platforms\n",
        "- Accuracy: reduces the risk of errors and omissions\n",
        "- Automation: facilitate the use of automated tools and technologies, such as machine learning algorithms, for evidence analysis.\n",
        "\n",
        "### Solution: Structured Threat Information eXpression (STIX)\n",
        "- Share information about cyber threats\n",
        "    - think of it as a common language that everyone in the cybersecurity community can use to communicate effectively\n",
        "    - improve their threat intelligence capabilities\n",
        "- Include basic predefined objects can be used as `digital forensics evidence`\n",
        "    - email, URL, indentity, etc.\n",
        "- Community support: maintained by the Organization for the Advancement of Structured Information Standards (OASIS)\n",
        "    - open sourced\n",
        "    - tools and library support\n",
        "- Adaptability: flexible and can be extended to accommodate new types of threat information as the cybersecurity landscape evolves.\n",
        "\n",
        "### Example of `email-message`\n",
        "```\n",
        "in STIX\n",
        "    {\n",
        "        \"type\": \"email-message\",\n",
        "        \"id\": \"email-message--c79b6bde-4f4c-4b38-a8c8-fb82921d6b97\",\n",
        "        \"is_multipart\": false,\n",
        "        \"subject\": \"Urgent Benefits Package Update\",\n",
        "        \"from_ref\": \"email-addr--0c0d2094-df97-45a7-9e9c-223569a9e798\",\n",
        "        \"body\": \"Please click the link to review the changes to your benefits package.\"\n",
        "    }\n",
        "\n",
        "    vs.\n",
        "without STIX\n",
        "\n",
        "        \"Email\": {\n",
        "        \"From\": \"support@banksecure.com\",\n",
        "        \"Subject\": \"Urgent: Verify Your Account Now\",\n",
        "        \"Content\": \"strange email asking to verify account details urgently\"\n",
        "    }\n",
        "```\n",
        "\n",
        "### Goal\n",
        "- Capture threat information in STIX directly from the conversation\n",
        "- Evidence entities and/or relationships are in the STIX"
      ]
    },
    {
      "cell_type": "markdown",
      "metadata": {
        "id": "1OMp4GUM4HXo"
      },
      "source": [
        "### Step 1: Download libraries and files for the lab\n",
        "- Make use you download necessary library and files.\n",
        "- All downloaded and saved files can be located in the `content` folder if using google Colab"
      ]
    },
    {
      "cell_type": "code",
      "source": [
        "!pip install python-dotenv\n",
        "!pip install dspy-ai==2.4.17\n",
        "!pip install graphviz\n",
        "\n",
        "# ✅ Download required file\n",
        "!wget https://raw.githubusercontent.com/frankwxu/digital-forensics-lab/main/AI4Forensics/CKIM2024/PhishingAttack/PhishingAttackScenarioDemo/conversation.txt\n",
        "\n",
        "# ✅ Import libraries\n",
        "import dspy\n",
        "import os\n",
        "import openai\n",
        "import json\n",
        "from dotenv import load_dotenv\n",
        "from IPython.display import display"
      ],
      "metadata": {
        "id": "90YLoUtdryXq"
      },
      "execution_count": null,
      "outputs": []
    },
    {
      "cell_type": "code",
      "source": [
        "from google.colab import files\n",
        "uploaded = files.upload()"
      ],
      "metadata": {
        "id": "hPClI_q1r40J"
      },
      "execution_count": null,
      "outputs": []
    },
    {
      "cell_type": "markdown",
      "metadata": {
        "id": "yt_oBFVW4HXp"
      },
      "source": [
        "### Step 2: Config DSPy with openAI\n",
        "- You `MUST` have an openAI api key\n",
        "- load an openAI api key from `openai_api_key.txt` file\n",
        "- or, hard code your open api key"
      ]
    },
    {
      "cell_type": "code",
      "execution_count": null,
      "metadata": {
        "id": "hp4ZWCsN4HXp"
      },
      "outputs": [],
      "source": [
        "def set_dspy():\n",
        "    # ==============set openAI enviroment=========\n",
        "    # Path to your API key file\n",
        "    key_file_path = \"openai_api_key.txt\"\n",
        "\n",
        "    # Load the API key from the file\n",
        "    with open(key_file_path, \"r\") as file:\n",
        "        openai_api_key = file.read().strip()\n",
        "\n",
        "    # Set the API key as an environment variable\n",
        "    os.environ[\"OPENAI_API_KEY\"] = openai_api_key\n",
        "    openai.api_key = os.environ[\"OPENAI_API_KEY\"]\n",
        "    turbo = dspy.OpenAI(model=\"gpt-3.5-turbo\", max_tokens=2000, temperature=0.5)\n",
        "    dspy.settings.configure(lm=turbo)\n",
        "    return turbo\n",
        "    # ==============end of set openAI enviroment=========\n",
        "\n",
        "\n",
        "def set_dspy_hardcode_openai_key():\n",
        "    os.environ[\"OPENAI_API_KEY\"] = \"sk-proj-yourapikeyhere\"\n",
        "    openai.api_key = os.environ[\"OPENAI_API_KEY\"]\n",
        "    turbo = dspy.OpenAI(model=\"gpt-3.5-turbo\", temperature=0, max_tokens=2000)\n",
        "    dspy.settings.configure(lm=turbo)\n",
        "    return turbo\n",
        "\n",
        "\n",
        "# provide `openai_api_key.txt` with your openAI api key\n",
        "turbo = set_dspy()\n",
        "# optionally, hard code your openAI api key at line 21\n",
        "# turbo=set_dspy_hardcode_openai_key()"
      ]
    },
    {
      "cell_type": "markdown",
      "metadata": {
        "id": "HHEaJRLA4HXp"
      },
      "source": [
        "### Step 3: Load the cyber incident repot (e.g., conversation)"
      ]
    },
    {
      "cell_type": "code",
      "execution_count": null,
      "metadata": {
        "id": "IaBle9C54HXq",
        "outputId": "1e1b67de-2117-4002-e688-44e393dc77e3",
        "colab": {
          "base_uri": "https://localhost:8080/"
        }
      },
      "outputs": [
        {
          "output_type": "stream",
          "name": "stdout",
          "text": [
            "Alice: Hey Bob, I just got a strange email from support@banksecure.com. It says I need to verify my account details urgently. The subject line was \"Urgent: Verify Your Account Now\". The email looks suspicious to me.\n",
            "\n",
            "Bob: Hi Alice, that does sound fishy. Can you forward me the email? I’ll take a look at the headers to see where it came from.\n",
            "\n",
            "Alice: Sure, forwarding it now.\n",
            "\n",
            "Bob: Got it. Let’s see... The email came from IP address 192.168.10.45, but the domain banksecure.com is not their official domain. It's actually registered to someone in Russia.\n",
            "\n",
            "Alice: That’s definitely not right. Should I be worried?\n",
            "\n",
            "Bob: We should investigate further. Did you click on any links or download any attachments?\n",
            "\n",
            "Alice: I did click on a link that took me to a page asking for my login credentials. I didn't enter anything though. The URL was http://banksecure-verification.com/login.\n",
            "\n",
            "Bob: Good call on not entering your details. Let’s check the URL. This domain was just registered two days ago. It’s highly likely it’s a phishing site.\n",
            "\n",
            "Alice: What should I do next?\n",
            "\n",
            "Bob: First, clear your browser history and cache. Also, run a full antivirus scan on your computer. Can you also provide me with any browser history entries and cookies from that session?\n",
            "\n",
            "Alice: I’ve cleared the history and started the antivirus scan. Here are the relevant entries from my browser history:\n",
            "Visited at 10:15 AM: http://banksecure-verification.com/login\n",
            "Visited at 10:17 AM: http://banksecure-verification.com/account-details\n",
            "\n",
            "Bob: Thanks. I’ll analyze these URLs further. Also, check if there are any suspicious files downloaded or present in your downloads folder. Look for anything unusual.\n",
            "\n",
            "Alice: There's a file named \"AccountDetails.exe\" that I don’t remember downloading. It was created at 10:20 AM.\n",
            "\n",
            "Bob: Definitely suspicious. Don’t open it. Let’s hash the file to verify its integrity. Can you run an MD5 hash on it?\n",
            "\n",
            "Alice: Done. The MD5 hash is e99a18c428cb38d5f260853678922e03.\n",
            "\n",
            "Bob: This hash matches known malware in our database. We’ll need to quarantine it and check if it has established any network connections. I’ll look into our network logs for the IP 192.168.10.45 around 10:20 AM.\n",
            "\n",
            "Alice: Is there anything else I need to do?\n",
            "\n",
            "Bob: For now, avoid using your computer for sensitive tasks. We’ll also reset your passwords from a different device and enable two-factor authentication on your accounts.\n",
            "\n",
            "Alice: Thanks, Bob. I’ll follow these steps immediately.\n"
          ]
        }
      ],
      "source": [
        "def load_text_file(file_path):\n",
        "    \"\"\"\n",
        "    Load a text file and return its contents as a string.\n",
        "\n",
        "    Parameters:\n",
        "    file_path (str): The path to the text file.\n",
        "\n",
        "    Returns:\n",
        "    str: The contents of the text file.\n",
        "    \"\"\"\n",
        "    try:\n",
        "        with open(file_path, \"r\") as file:\n",
        "            contents = file.read()\n",
        "        return contents\n",
        "    except FileNotFoundError:\n",
        "        return \"File not found.\"\n",
        "    except Exception as e:\n",
        "        return f\"An error occurred: {e}\"\n",
        "\n",
        "\n",
        "conversation = load_text_file(\"conversation.txt\")\n",
        "print(conversation)"
      ]
    },
    {
      "cell_type": "markdown",
      "metadata": {
        "id": "zIlEnwCV4HXr"
      },
      "source": [
        "### Step 4: Tell an LLM `WHAT` are the inputs/outputs by defining DSPy: Signature\n",
        "\n",
        "- A signature is one of the basic building blocks in DSPy's prompt programming\n",
        "- It is a declarative specification of input/output behavior of a DSPy module\n",
        "    - Think about a function signature\n",
        "- Allow you to tell the LLM what it needs to do.\n",
        "    - Don't need to specify how we should ask the LLM to do it.\n",
        "- The following signature identifies a list of evidence based on the conversation\n",
        "    - Inherit from `dspy.Signature`\n",
        "    - Exact `ONE` input, e.g., the conversation\n",
        "    - Exact `ONE` output, e.g., cyber threat information in JSON"
      ]
    },
    {
      "cell_type": "code",
      "execution_count": null,
      "metadata": {
        "id": "6sg0I5iC4HXr"
      },
      "outputs": [],
      "source": [
        "class STIXGenerator(dspy.Signature):\n",
        "    \"\"\"Describe a conversation in STIX, which stands for Structured Threat Information eXpression, is a standardized language for representing cyber threat information.\"\"\"\n",
        "\n",
        "    question: str = dspy.InputField(\n",
        "        desc=\"a conversation describing a cyber incident between an IT Security Specialist and an employee.\"\n",
        "    )\n",
        "\n",
        "    answer: str = dspy.OutputField(\n",
        "        desc=\"the formalized STIX in JSON representing cyber threat information based on the conversation, e.g., [{object 1}, {object 2}, ... {object n}]\"\n",
        "    )"
      ]
    },
    {
      "cell_type": "markdown",
      "metadata": {
        "id": "mGhoApKo4HXr"
      },
      "source": [
        "### Step 5: Tell an LLM `HOW` to generate answer:\n",
        "\n",
        "The following function generates and saves threat information from a conversation using a specified signature.\n",
        "\n",
        "#### Parameters:\n",
        "- `signature` (dspy.Signature): The signature defining the input and output structure for evidence identification.\n",
        "- `conversation` (str): The conversation text to analyze for threat information.\n",
        "- `output_file` (str): The file path where the identified threat information will be saved as JSON.\n",
        "\n",
        "#### Returns:\n",
        "None. The function saves the result to a file and prints a confirmation message."
      ]
    },
    {
      "cell_type": "code",
      "execution_count": null,
      "metadata": {
        "id": "1DU-cJYW4HXr"
      },
      "outputs": [],
      "source": [
        "def generate_answer_CoT(signature, conversation, output_file):\n",
        "    generate_answer = dspy.ChainOfThought(signature)\n",
        "    answer = generate_answer(question=conversation).answer  # here we use the module\n",
        "\n",
        "    with open(output_file, \"w\") as json_file:\n",
        "        result = json.loads(answer)\n",
        "        print(answer)\n",
        "        json.dump(result, json_file, indent=4)\n",
        "    print(f\"The evidence has been saved to the file {output_file}\")"
      ]
    },
    {
      "cell_type": "markdown",
      "metadata": {
        "id": "E4i2Fbjw4HXr"
      },
      "source": [
        "### Step 6: Generate entities using `STIXGenerator`"
      ]
    },
    {
      "cell_type": "code",
      "source": [
        "output_file = \"03_output.json\"\n",
        "generate_answer_CoT(\n",
        "    STIXGenerator,\n",
        "    conversation,\n",
        "    output_file,\n",
        ")"
      ],
      "metadata": {
        "id": "AZwcf8fEsDPS"
      },
      "execution_count": null,
      "outputs": []
    },
    {
      "cell_type": "markdown",
      "metadata": {
        "id": "Pgo42_1V4HXs"
      },
      "source": [
        "### Step 7: Inspect the last prompt send to the LLM\n",
        "\n",
        "You want to check:\n",
        "- Prompt Description Section: Description in the signature\n",
        "- Format Section: `Following the following format.`\n",
        "    - Pay attention to a new inserted field `REASONING: Let's think step by step ...`\n",
        "- Result Section: a threat information in `.JSON`"
      ]
    },
    {
      "cell_type": "code",
      "execution_count": null,
      "metadata": {
        "id": "Dlz2s5M54HXs"
      },
      "outputs": [],
      "source": [
        "turbo.inspect_history(n=1)"
      ]
    }
  ],
  "metadata": {
    "kernelspec": {
      "display_name": "Python 3",
      "language": "python",
      "name": "python3"
    },
    "language_info": {
      "codemirror_mode": {
        "name": "ipython",
        "version": 3
      },
      "file_extension": ".py",
      "mimetype": "text/x-python",
      "name": "python",
      "nbconvert_exporter": "python",
      "pygments_lexer": "ipython3",
      "version": "3.12.3"
    },
    "colab": {
      "provenance": []
    }
  },
  "nbformat": 4,
  "nbformat_minor": 0
}