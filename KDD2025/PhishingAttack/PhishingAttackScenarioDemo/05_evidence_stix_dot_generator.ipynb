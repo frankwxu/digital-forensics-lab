{
  "cells": [
    {
      "cell_type": "markdown",
      "metadata": {
        "id": "hKv6HbZOCFxr"
      },
      "source": [
        "## A tutorial to visually compare zero-shot and one-shot learning results\n",
        "\n",
        "### Approach\n",
        "- Directly generate a DOT file from one-shot learning example completed in previous tutorial\n",
        "- Load the image containing zero-shot graph\n",
        "- Visually compare the difference"
      ]
    },
    {
      "cell_type": "markdown",
      "metadata": {
        "id": "MDWAMX8VCFxr"
      },
      "source": [
        "### Step 1: Download libraries\n",
        "- Make use you download necessary library and files.\n",
        "- All downloaded and saved files can be located in the `content` folder if using google Colab"
      ]
    },
    {
      "cell_type": "code",
      "source": [
        "# uncomment the commands to download libraries and files\n",
        "#!pip install python-dotenv\n",
        "#!pip install dspy-ai==2.4.17\n",
        "#!pip install graphviz\n",
        "#!wget https://raw.githubusercontent.com/frankwxu/digital-forensics-lab/main/AI4Forensics/CKIM2024/PhishingAttack/PhishingAttackScenarioDemo/conversation.txt\n",
        "\n",
        "import dspy\n",
        "import os\n",
        "import openai\n",
        "import json\n",
        "from dotenv import load_dotenv\n",
        "from graphviz import Source\n",
        "from IPython.display import Image, display\n"
      ],
      "metadata": {
        "id": "NyIxTN7-sz68"
      },
      "execution_count": null,
      "outputs": []
    },
    {
      "cell_type": "code",
      "source": [
        "from google.colab import files\n",
        "uploaded = files.upload()"
      ],
      "metadata": {
        "id": "T_vcekAfs6r-"
      },
      "execution_count": null,
      "outputs": []
    },
    {
      "cell_type": "markdown",
      "metadata": {
        "id": "UwZL_ipmCFxs"
      },
      "source": [
        "### Step 2: Config DSPy with openAI\n",
        "- You `MUST` have an openAI api key\n",
        "- load an openAI api key from `openai_api_key.txt` file\n",
        "- or, hard code your open api key"
      ]
    },
    {
      "cell_type": "code",
      "execution_count": null,
      "metadata": {
        "id": "GlCpXN2wCFxs"
      },
      "outputs": [],
      "source": [
        "def set_dspy():\n",
        "    # ==============set openAI enviroment=========\n",
        "    # Path to your API key file\n",
        "    key_file_path = \"openai_api_key.txt\"\n",
        "\n",
        "    # Load the API key from the file\n",
        "    with open(key_file_path, \"r\") as file:\n",
        "        openai_api_key = file.read().strip()\n",
        "\n",
        "    # Set the API key as an environment variable\n",
        "    os.environ[\"OPENAI_API_KEY\"] = openai_api_key\n",
        "    openai.api_key = os.environ[\"OPENAI_API_KEY\"]\n",
        "    turbo = dspy.OpenAI(model=\"gpt-3.5-turbo\", max_tokens=2000, temperature=0.5)\n",
        "    dspy.settings.configure(lm=turbo)\n",
        "    return turbo\n",
        "    # ==============end of set openAI enviroment=========\n",
        "\n",
        "\n",
        "def set_dspy_hardcode_openai_key():\n",
        "    os.environ[\"OPENAI_API_KEY\"] = \"sk-proj-yourapikeyhere\"\n",
        "    openai.api_key = os.environ[\"OPENAI_API_KEY\"]\n",
        "    turbo = dspy.OpenAI(model=\"gpt-3.5-turbo\", temperature=0, max_tokens=2000)\n",
        "    dspy.settings.configure(lm=turbo)\n",
        "    return turbo\n",
        "\n",
        "\n",
        "# provide `openai_api_key.txt` with your openAI api key\n",
        "turbo = set_dspy()\n",
        "# optionally, hard code your openAI api key at line 21\n",
        "# turbo=set_dspy_hardcode_openai_key()"
      ]
    },
    {
      "cell_type": "markdown",
      "metadata": {
        "id": "O4FpcGriCFxt"
      },
      "source": [
        "### Step 3: Load the cyber incident repot (e.g., conversation)\n",
        "\n",
        "- the same conversation as previous tutorial"
      ]
    },
    {
      "cell_type": "code",
      "source": [
        "from google.colab import files\n",
        "uploaded = files.upload()"
      ],
      "metadata": {
        "id": "O1Kh8v407X9M",
        "outputId": "c036aa90-1353-42eb-db86-41eac7659383",
        "colab": {
          "base_uri": "https://localhost:8080/",
          "height": 108
        }
      },
      "execution_count": null,
      "outputs": [
        {
          "output_type": "display_data",
          "data": {
            "text/plain": [
              "<IPython.core.display.HTML object>"
            ],
            "text/html": [
              "\n",
              "     <input type=\"file\" id=\"files-97e182f5-d143-4291-89ec-5e8e979457b2\" name=\"files[]\" multiple disabled\n",
              "        style=\"border:none\" />\n",
              "     <output id=\"result-97e182f5-d143-4291-89ec-5e8e979457b2\">\n",
              "      Upload widget is only available when the cell has been executed in the\n",
              "      current browser session. Please rerun this cell to enable.\n",
              "      </output>\n",
              "      <script>// Copyright 2017 Google LLC\n",
              "//\n",
              "// Licensed under the Apache License, Version 2.0 (the \"License\");\n",
              "// you may not use this file except in compliance with the License.\n",
              "// You may obtain a copy of the License at\n",
              "//\n",
              "//      http://www.apache.org/licenses/LICENSE-2.0\n",
              "//\n",
              "// Unless required by applicable law or agreed to in writing, software\n",
              "// distributed under the License is distributed on an \"AS IS\" BASIS,\n",
              "// WITHOUT WARRANTIES OR CONDITIONS OF ANY KIND, either express or implied.\n",
              "// See the License for the specific language governing permissions and\n",
              "// limitations under the License.\n",
              "\n",
              "/**\n",
              " * @fileoverview Helpers for google.colab Python module.\n",
              " */\n",
              "(function(scope) {\n",
              "function span(text, styleAttributes = {}) {\n",
              "  const element = document.createElement('span');\n",
              "  element.textContent = text;\n",
              "  for (const key of Object.keys(styleAttributes)) {\n",
              "    element.style[key] = styleAttributes[key];\n",
              "  }\n",
              "  return element;\n",
              "}\n",
              "\n",
              "// Max number of bytes which will be uploaded at a time.\n",
              "const MAX_PAYLOAD_SIZE = 100 * 1024;\n",
              "\n",
              "function _uploadFiles(inputId, outputId) {\n",
              "  const steps = uploadFilesStep(inputId, outputId);\n",
              "  const outputElement = document.getElementById(outputId);\n",
              "  // Cache steps on the outputElement to make it available for the next call\n",
              "  // to uploadFilesContinue from Python.\n",
              "  outputElement.steps = steps;\n",
              "\n",
              "  return _uploadFilesContinue(outputId);\n",
              "}\n",
              "\n",
              "// This is roughly an async generator (not supported in the browser yet),\n",
              "// where there are multiple asynchronous steps and the Python side is going\n",
              "// to poll for completion of each step.\n",
              "// This uses a Promise to block the python side on completion of each step,\n",
              "// then passes the result of the previous step as the input to the next step.\n",
              "function _uploadFilesContinue(outputId) {\n",
              "  const outputElement = document.getElementById(outputId);\n",
              "  const steps = outputElement.steps;\n",
              "\n",
              "  const next = steps.next(outputElement.lastPromiseValue);\n",
              "  return Promise.resolve(next.value.promise).then((value) => {\n",
              "    // Cache the last promise value to make it available to the next\n",
              "    // step of the generator.\n",
              "    outputElement.lastPromiseValue = value;\n",
              "    return next.value.response;\n",
              "  });\n",
              "}\n",
              "\n",
              "/**\n",
              " * Generator function which is called between each async step of the upload\n",
              " * process.\n",
              " * @param {string} inputId Element ID of the input file picker element.\n",
              " * @param {string} outputId Element ID of the output display.\n",
              " * @return {!Iterable<!Object>} Iterable of next steps.\n",
              " */\n",
              "function* uploadFilesStep(inputId, outputId) {\n",
              "  const inputElement = document.getElementById(inputId);\n",
              "  inputElement.disabled = false;\n",
              "\n",
              "  const outputElement = document.getElementById(outputId);\n",
              "  outputElement.innerHTML = '';\n",
              "\n",
              "  const pickedPromise = new Promise((resolve) => {\n",
              "    inputElement.addEventListener('change', (e) => {\n",
              "      resolve(e.target.files);\n",
              "    });\n",
              "  });\n",
              "\n",
              "  const cancel = document.createElement('button');\n",
              "  inputElement.parentElement.appendChild(cancel);\n",
              "  cancel.textContent = 'Cancel upload';\n",
              "  const cancelPromise = new Promise((resolve) => {\n",
              "    cancel.onclick = () => {\n",
              "      resolve(null);\n",
              "    };\n",
              "  });\n",
              "\n",
              "  // Wait for the user to pick the files.\n",
              "  const files = yield {\n",
              "    promise: Promise.race([pickedPromise, cancelPromise]),\n",
              "    response: {\n",
              "      action: 'starting',\n",
              "    }\n",
              "  };\n",
              "\n",
              "  cancel.remove();\n",
              "\n",
              "  // Disable the input element since further picks are not allowed.\n",
              "  inputElement.disabled = true;\n",
              "\n",
              "  if (!files) {\n",
              "    return {\n",
              "      response: {\n",
              "        action: 'complete',\n",
              "      }\n",
              "    };\n",
              "  }\n",
              "\n",
              "  for (const file of files) {\n",
              "    const li = document.createElement('li');\n",
              "    li.append(span(file.name, {fontWeight: 'bold'}));\n",
              "    li.append(span(\n",
              "        `(${file.type || 'n/a'}) - ${file.size} bytes, ` +\n",
              "        `last modified: ${\n",
              "            file.lastModifiedDate ? file.lastModifiedDate.toLocaleDateString() :\n",
              "                                    'n/a'} - `));\n",
              "    const percent = span('0% done');\n",
              "    li.appendChild(percent);\n",
              "\n",
              "    outputElement.appendChild(li);\n",
              "\n",
              "    const fileDataPromise = new Promise((resolve) => {\n",
              "      const reader = new FileReader();\n",
              "      reader.onload = (e) => {\n",
              "        resolve(e.target.result);\n",
              "      };\n",
              "      reader.readAsArrayBuffer(file);\n",
              "    });\n",
              "    // Wait for the data to be ready.\n",
              "    let fileData = yield {\n",
              "      promise: fileDataPromise,\n",
              "      response: {\n",
              "        action: 'continue',\n",
              "      }\n",
              "    };\n",
              "\n",
              "    // Use a chunked sending to avoid message size limits. See b/62115660.\n",
              "    let position = 0;\n",
              "    do {\n",
              "      const length = Math.min(fileData.byteLength - position, MAX_PAYLOAD_SIZE);\n",
              "      const chunk = new Uint8Array(fileData, position, length);\n",
              "      position += length;\n",
              "\n",
              "      const base64 = btoa(String.fromCharCode.apply(null, chunk));\n",
              "      yield {\n",
              "        response: {\n",
              "          action: 'append',\n",
              "          file: file.name,\n",
              "          data: base64,\n",
              "        },\n",
              "      };\n",
              "\n",
              "      let percentDone = fileData.byteLength === 0 ?\n",
              "          100 :\n",
              "          Math.round((position / fileData.byteLength) * 100);\n",
              "      percent.textContent = `${percentDone}% done`;\n",
              "\n",
              "    } while (position < fileData.byteLength);\n",
              "  }\n",
              "\n",
              "  // All done.\n",
              "  yield {\n",
              "    response: {\n",
              "      action: 'complete',\n",
              "    }\n",
              "  };\n",
              "}\n",
              "\n",
              "scope.google = scope.google || {};\n",
              "scope.google.colab = scope.google.colab || {};\n",
              "scope.google.colab._files = {\n",
              "  _uploadFiles,\n",
              "  _uploadFilesContinue,\n",
              "};\n",
              "})(self);\n",
              "</script> "
            ]
          },
          "metadata": {}
        },
        {
          "output_type": "stream",
          "name": "stdout",
          "text": [
            "Saving 02_output_email_analysis.png to 02_output_email_analysis.png\n",
            "Saving 04_output.json to 04_output.json\n"
          ]
        }
      ]
    },
    {
      "cell_type": "code",
      "execution_count": null,
      "metadata": {
        "id": "CKPTOoElCFxt",
        "outputId": "a84d4f29-fb3d-4334-8f8c-0cf9122067d5",
        "colab": {
          "base_uri": "https://localhost:8080/"
        }
      },
      "outputs": [
        {
          "output_type": "stream",
          "name": "stdout",
          "text": [
            "[\n",
            "    {\n",
            "        \"type\": \"identity\",\n",
            "        \"id\": \"identity--1cba2e3c-4bdb-4d0b-a87b-2d504ad5923f\",\n",
            "        \"name\": \"OurCompany\",\n",
            "        \"identity_class\": \"organization\",\n",
            "        \"sectors\": [\n",
            "            \"technology\"\n",
            "        ],\n",
            "        \"contact_information\": \"info@ourcompany.com\"\n",
            "    },\n",
            "    {\n",
            "        \"type\": \"email-addr\",\n",
            "        \"id\": \"email-addr--0c0d2094-df97-45a7-9e9c-223569a9e798\",\n",
            "        \"value\": \"hr-dept@ourcompany-security.com\"\n",
            "    },\n",
            "    {\n",
            "        \"type\": \"email-message\",\n",
            "        \"id\": \"email-message--c79b6bde-4f4c-4b38-a8c8-fb82921d6b97\",\n",
            "        \"is_multipart\": false,\n",
            "        \"subject\": \"Urgent Benefits Package Update\",\n",
            "        \"from_ref\": \"email-addr--0c0d2094-df97-45a7-9e9c-223569a9e798\",\n",
            "        \"body\": \"Please click the link to review the changes to your benefits package.\"\n",
            "    },\n",
            "    {\n",
            "        \"type\": \"url\",\n",
            "        \"id\": \"url--4c3b-4c4b-bb6c-ded6b2a4a567\",\n",
            "        \"value\": \"http://phishing-link.com/login\"\n",
            "    },\n",
            "    {\n",
            "        \"type\": \"user-account\",\n",
            "        \"id\": \"user-account--bd5631cf-2af6-4bba-bc92-37c60d020400\",\n",
            "        \"user_id\": \"Taylor\",\n",
            "        \"account_login\": \"taylor@ourcompany.com\"\n",
            "    },\n",
            "    {\n",
            "        \"type\": \"observable\",\n",
            "        \"id\": \"observable--001\",\n",
            "        \"observable_type\": \"email\",\n",
            "        \"observable_value\": \"hr-dept@ourcompany-security.com\"\n",
            "    },\n",
            "    {\n",
            "        \"type\": \"observable\",\n",
            "        \"id\": \"observable--002\",\n",
            "        \"observable_type\": \"url\",\n",
            "        \"observable_value\": \"http://phishing-link.com/login\"\n",
            "    },\n",
            "    {\n",
            "        \"type\": \"indicator\",\n",
            "        \"id\": \"indicator--1cba2e3c-4bdb-4d0b-a87b-2d504ad5923f\",\n",
            "        \"name\": \"Phishing Email Indicator\",\n",
            "        \"pattern\": \"[email-message:subject = 'Urgent Benefits Package Update']\",\n",
            "        \"valid_from\": \"2024-07-17T00:00:00Z\"\n",
            "    },\n",
            "    {\n",
            "        \"type\": \"incident\",\n",
            "        \"id\": \"incident--7a2b252e-c3e5-4bc2-bc6f-cb917ecf7857\",\n",
            "        \"name\": \"Phishing Attack on OurCompany\",\n",
            "        \"description\": \"A phishing attack where a suspicious email was sent to an employee of OurCompany.\",\n",
            "        \"first_seen\": \"2024-07-17T08:00:00Z\",\n",
            "        \"last_seen\": \"2024-07-17T08:10:00Z\",\n",
            "        \"status\": \"ongoing\",\n",
            "        \"affected_assets\": [\n",
            "            \"user-account--bd5631cf-2af6-4bba-bc92-37c60d020400\"\n",
            "        ]\n",
            "    },\n",
            "    {\n",
            "        \"type\": \"relationship\",\n",
            "        \"id\": \"relationship--3f1a8d8b-6a6e-4b5d-8e15-2d6d9a2b3f1d\",\n",
            "        \"relationship_type\": \"indicates\",\n",
            "        \"source_ref\": \"indicator--1cba2e3c-4bdb-4d0b-a87b-2d504ad5923f\",\n",
            "        \"target_ref\": \"incident--7a2b252e-c3e5-4bc2-bc6f-cb917ecf7857\"\n",
            "    },\n",
            "    {\n",
            "        \"type\": \"relationship\",\n",
            "        \"id\": \"relationship--4b6e65f3-743d-40c2-9194-3b5e38b3efed\",\n",
            "        \"relationship_type\": \"attributed-to\",\n",
            "        \"source_ref\": \"incident--7a2b252e-c3e5-4bc2-bc6f-cb917ecf7857\",\n",
            "        \"target_ref\": \"identity--1cba2e3c-4bdb-4d0b-a87b-2d504ad5923f\"\n",
            "    },\n",
            "    {\n",
            "        \"type\": \"relationship\",\n",
            "        \"id\": \"relationship--5c9b6eaf-27a6-4b2b-9b17-49e3b00f6051\",\n",
            "        \"relationship_type\": \"uses\",\n",
            "        \"source_ref\": \"incident--7a2b252e-c3e5-4bc2-bc6f-cb917ecf7857\",\n",
            "        \"target_ref\": \"url--4c3b-4c4b-bb6c-ded6b2a4a567\"\n",
            "    }\n",
            "]\n",
            "[\n",
            "    {\n",
            "        \"threat_type\": \"Phishing Email\",\n",
            "        \"source_ip\": \"192.168.10.45\",\n",
            "        \"source_domain\": \"banksecure.com\",\n",
            "        \"suspicious_domain\": \"banksecure-verification.com\",\n",
            "        \"suspicious_file\": \"AccountDetails.exe\",\n",
            "        \"md5_hash\": \"e99a18c428cb38d5f260853678922e03\",\n",
            "        \"timestamp\": \"10:20 AM\",\n",
            "        \"actions_taken\": [\n",
            "            \"Cleared browser history and cache\",\n",
            "            \"Ran full antivirus scan\",\n",
            "            \"Provided browser history entries and cookies\",\n",
            "            \"Analyzed URLs and checked for suspicious files\",\n",
            "            \"Quarantined malware file\",\n",
            "            \"Checked network logs for IP 192.168.10.45\",\n",
            "            \"Reset passwords and enabled two-factor authentication\"\n",
            "        ]\n",
            "    }\n",
            "]\n"
          ]
        }
      ],
      "source": [
        "def load_text_file(file_path):\n",
        "    \"\"\"\n",
        "    Load a text file and return its contents as a string.\n",
        "\n",
        "    Parameters:\n",
        "    file_path (str): The path to the text file.\n",
        "\n",
        "    Returns:\n",
        "    str: The contents of the text file.\n",
        "    \"\"\"\n",
        "    try:\n",
        "        with open(file_path, \"r\") as file:\n",
        "            contents = file.read()\n",
        "        return contents\n",
        "    except FileNotFoundError:\n",
        "        return \"File not found.\"\n",
        "    except Exception as e:\n",
        "        return f\"An error occurred: {e}\"\n",
        "\n",
        "conversation1 = load_text_file(\"04_output_for_viz.json\")\n",
        "conversation2 = load_text_file(\"03_output_for_viz.json\")\n",
        "print(conversation1)\n",
        "print(conversation2)"
      ]
    },
    {
      "cell_type": "markdown",
      "metadata": {
        "id": "Lbb5nhIbCFxt"
      },
      "source": [
        "### Step 4: Tell an LLM `WHAT` are the inputs/outputs by defining `dspy.Signature`"
      ]
    },
    {
      "cell_type": "code",
      "execution_count": null,
      "metadata": {
        "id": "oW8PyXCiCFxu"
      },
      "outputs": [],
      "source": [
        "class DotGenerator(dspy.Signature):\n",
        "    \"\"\"Generate a evidence knowledge graph based on a cyber incident expressed in Structured Threat Information Expression (STIX).\"\"\"\n",
        "\n",
        "    question: str = dspy.InputField(\n",
        "        desc=\"a cyber incident expressed in Structured Threat Information Expression with JSON format.\"\n",
        "    )\n",
        "\n",
        "    answer: str = dspy.OutputField(\n",
        "        desc=\"a graph in a dot format. The nodes of the graph are evidence entities and the edges of the graph are the relationships between evidence entities in STIX. A dot format is primarily associated with Graphviz, a graph visualization software. For example, a dot should looks like: digraph incident_name {...}. Don't include `````` \"\n",
        "    )"
      ]
    },
    {
      "cell_type": "markdown",
      "metadata": {
        "id": "enziJvHoCFxu"
      },
      "source": [
        "### Step 5: Tell an LLM `HOW` to generate answer. The business logic is defined in the module `.dspy.Predict`"
      ]
    },
    {
      "cell_type": "code",
      "execution_count": null,
      "metadata": {
        "id": "0QIegB8GCFxu"
      },
      "outputs": [],
      "source": [
        "# Important: Predict is better than ChainOfThough\n",
        "def generate_answer_CoT(signature, text, output_file):\n",
        "    generate_answer = dspy.Predict(signature)\n",
        "    answer = generate_answer(question=text).answer  # here we use the module\n",
        "\n",
        "    with open(output_file, \"w\") as dot_file:\n",
        "        print(answer)\n",
        "        dot_file.write(answer)\n",
        "        return answer\n",
        "    print(f\"The evidence has been saved to the file {output_file}\")"
      ]
    },
    {
      "cell_type": "markdown",
      "metadata": {
        "id": "d29QsdLXCFxv"
      },
      "source": [
        "### Step 6: Actually call LLM to generate the graph in a `.DOT` file"
      ]
    },
    {
      "cell_type": "code",
      "execution_count": null,
      "metadata": {
        "id": "N-2od66mCFxv",
        "outputId": "6bc8061b-daee-4f97-915e-125a66516d82",
        "colab": {
          "base_uri": "https://localhost:8080/"
        }
      },
      "outputs": [
        {
          "output_type": "stream",
          "name": "stdout",
          "text": [
            "digraph phishing_attack {\n",
            "  \"incident--7a2b252e-c3e5-4bc2-bc6f-cb917ecf7857\" [label=\"Phishing Attack on OurCompany\", type=\"incident\", first_seen=\"2024-07-17T08:00:00Z\", last_seen=\"2024-07-17T08:10:00Z\", status=\"ongoing\"]\n",
            "  \"identity--1cba2e3c-4bdb-4d0b-a87b-2d504ad5923f\" [label=\"OurCompany\", type=\"identity\", identity_class=\"organization\", sectors=\"technology\", contact_information=\"info@ourcompany.com\"]\n",
            "  \"email-addr--0c0d2094-df97-45a7-9e9c-223569a9e798\" [label=\"hr-dept@ourcompany-security.com\", type=\"email-addr\"]\n",
            "  \"email-message--c79b6bde-4f4c-4b38-a8c8-fb82921d6b97\" [label=\"Urgent Benefits Package Update\", type=\"email-message\", is_multipart=\"false\"]\n",
            "  \"url--4c3b-4c4b-bb6c-ded6b2a4a567\" [label=\"http://phishing-link.com/login\", type=\"url\"]\n",
            "  \"user-account--bd5631cf-2af6-4bba-bc92-37c60d020400\" [label=\"Taylor\", type=\"user-account\", user_id=\"Taylor\", account_login=\"taylor@ourcompany.com\"]\n",
            "  \"observable--001\" [label=\"hr-dept@ourcompany-security.com\", type=\"observable\", observable_type=\"email\"]\n",
            "  \"observable--002\" [label=\"http://phishing-link.com/login\", type=\"observable\", observable_type=\"url\"]\n",
            "  \"indicator--1cba2e3c-4bdb-4d0b-a87b-2d504ad5923f\" [label=\"Phishing Email Indicator\", type=\"indicator\", pattern=\"[email-message:subject = 'Urgent Benefits Package Update']\", valid_from=\"2024-07-17T00:00:00Z\"]\n",
            "  \"relationship--3f1a8d8b-6a6e-4b5d-8e15-2d6d9a2b3f1d\" [label=\"indicates\", relationship_type=\"indicates\"]\n",
            "  \"relationship--4b6e65f3-743d-40c2-9194-3b5e38b3efed\" [label=\"attributed-to\", relationship_type=\"attributed-to\"]\n",
            "  \"relationship--5c9b6eaf-27a6-4b2b-9b17-49e3b00f6051\" [label=\"uses\", relationship_type=\"uses\"]\n",
            "  \n",
            "  \"incident--7a2b252e-c3e5-4bc2-bc6f-cb917ecf7857\" -> \"identity--1cba2e3c-4bdb-4d0b-a87b-2d504ad5923f\" [label=\"attributed-to\"]\n",
            "  \"indicator--1cba2e3c-4bdb-4d0b-a87b-2d504ad5923f\" -> \"incident--7a2b252e-c3e5-4bc2-bc6f-cb917ecf7857\" [label=\"indicates\"]\n",
            "  \"incident--7a2b252e-c3e5-4bc2-bc6f-cb917ecf7857\" -> \"url--4c3b-4c4b-bb6c-ded6b2a4a567\" [label=\"uses\"]\n",
            "  \"email-addr--0c0d2094-df97-45a7-9e9c-223569a9e798\" -> \"email-message--c79b6bde-4f4c-4b38-a8c8-fb82921d6b97\"\n",
            "  \"email-message--c79b6bde-4f4c-4b38-a8c8-fb82921d6b97\" -> \"url--4c3b-4c4b-bb6c-ded6b2a4a567\"\n",
            "  \"email-addr--0c0d2094-df97-45a7-9e9c-223569a9e798\" -> \"observable--001\"\n",
            "  \"url--4c3b-4c4b-bb6c-ded6b2a4a567\" -> \"observable--002\"\n",
            "}\n"
          ]
        }
      ],
      "source": [
        "output_file = \"05_output.dot\"\n",
        "dot_description = generate_answer_CoT(\n",
        "    DotGenerator,\n",
        "    conversation1,\n",
        "    output_file,\n",
        ")"
      ]
    },
    {
      "cell_type": "code",
      "source": [
        "output_file = \"06_output.dot\"\n",
        "dot_description = generate_answer_CoT(\n",
        "    DotGenerator,\n",
        "    conversation2,\n",
        "    output_file,\n",
        ")"
      ],
      "metadata": {
        "id": "YOQ9QqYjB8oM",
        "outputId": "c282a772-9f13-4690-a9e4-becd81d1ea00",
        "colab": {
          "base_uri": "https://localhost:8080/"
        }
      },
      "execution_count": null,
      "outputs": [
        {
          "output_type": "stream",
          "name": "stdout",
          "text": [
            "digraph phishing_email {\n",
            "    \"Phishing Email\" -> \"192.168.10.45\"\n",
            "    \"Phishing Email\" -> \"banksecure.com\"\n",
            "    \"Phishing Email\" -> \"banksecure-verification.com\"\n",
            "    \"Phishing Email\" -> \"AccountDetails.exe\"\n",
            "    \"Phishing Email\" -> \"e99a18c428cb38d5f260853678922e03\"\n",
            "    \"Phishing Email\" -> \"10:20 AM\"\n",
            "    \"Phishing Email\" -> \"Cleared browser history and cache\"\n",
            "    \"Phishing Email\" -> \"Ran full antivirus scan\"\n",
            "    \"Phishing Email\" -> \"Provided browser history entries and cookies\"\n",
            "    \"Phishing Email\" -> \"Analyzed URLs and checked for suspicious files\"\n",
            "    \"Phishing Email\" -> \"Quarantined malware file\"\n",
            "    \"Phishing Email\" -> \"Checked network logs for IP 192.168.10.45\"\n",
            "    \"Phishing Email\" -> \"Reset passwords and enabled two-factor authentication\"\n",
            "}\n"
          ]
        }
      ]
    },
    {
      "cell_type": "markdown",
      "metadata": {
        "id": "gZAsRE2-CFxv"
      },
      "source": [
        "### Step 7: Visualize one-shot learning results from a `.DOT` file"
      ]
    },
    {
      "cell_type": "code",
      "source": [
        "# Load the .DOT file\n",
        "dot_file_path = \"05_output.dot\"\n",
        "\n",
        "with open(dot_file_path, \"r\") as file:\n",
        "    dot_content = file.read()\n",
        "\n",
        "# Create a Graphviz Source object and render it\n",
        "dot = Source(dot_content)\n",
        "\n",
        "# Render the graph and save it as a PNG file\n",
        "output_file_path = \"05_output_stix_oneshot\"\n",
        "dot.format = \"png\"\n",
        "dot.render(output_file_path, cleanup=True)\n",
        "\n",
        "# Display the saved PNG file path\n",
        "print(f\"Graph saved as: {output_file_path}.png\")\n",
        "\n",
        "# Display the graph in the Jupyter notebook\n",
        "dot"
      ],
      "metadata": {
        "id": "1LYZ9EQWtWdW"
      },
      "execution_count": null,
      "outputs": []
    },
    {
      "cell_type": "code",
      "source": [
        "# Load the .DOT file\n",
        "dot_file_path = \"06_output.dot\"\n",
        "\n",
        "with open(dot_file_path, \"r\") as file:\n",
        "    dot_content = file.read()\n",
        "\n",
        "# Create a Graphviz Source object and render it\n",
        "dot = Source(dot_content)\n",
        "\n",
        "# Render the graph and save it as a PNG file\n",
        "output_file_path = \"05_output_stix_zeroshot\"\n",
        "dot.format = \"png\"\n",
        "dot.render(output_file_path, cleanup=True)\n",
        "\n",
        "# Display the saved PNG file path\n",
        "print(f\"Graph saved as: {output_file_path}.png\")\n",
        "\n",
        "# Display the graph in the Jupyter notebook\n",
        "dot"
      ],
      "metadata": {
        "id": "bY7R5LihtfDR"
      },
      "execution_count": null,
      "outputs": []
    },
    {
      "cell_type": "markdown",
      "metadata": {
        "id": "vOwj4qIqCFxv"
      },
      "source": [
        "### Step 8: Visualize zero-shot learning results from previous tutorial"
      ]
    },
    {
      "cell_type": "code",
      "source": [
        "\n",
        "\n",
        "image_path1 = \"05_output_stix_zeroshot.png\"\n",
        "image_path2 = \"05_output_stix_oneshot.png\"\n",
        "\n",
        "\n",
        "display(Image(filename=image_path1))\n",
        "display(Image(filename=image_path2))"
      ],
      "metadata": {
        "id": "8pFklhjPtkeL"
      },
      "execution_count": null,
      "outputs": []
    },
    {
      "cell_type": "markdown",
      "metadata": {
        "id": "rWhQQiIBCFxv"
      },
      "source": [
        "# Summary\n",
        "- One-shot learning results make more sense when analyzing digital forensic evidence\n",
        "- STIX mainly focus on cyber incident formalization, not forensic evidence\n",
        "    - although basic evidence types are included in its document\n",
        "- [Digital Forensic Knowledge Graph (DFKG)](https://github.com/frankwxu/digital-forensics-lab/tree/main/STIX_for_digital_forensics) is an extension of STIX\n",
        "    - Cyber Forensic Domain Objects and Cyber Forensic Observable Objects"
      ]
    }
  ],
  "metadata": {
    "kernelspec": {
      "display_name": "Python 3",
      "language": "python",
      "name": "python3"
    },
    "language_info": {
      "codemirror_mode": {
        "name": "ipython",
        "version": 3
      },
      "file_extension": ".py",
      "mimetype": "text/x-python",
      "name": "python",
      "nbconvert_exporter": "python",
      "pygments_lexer": "ipython3",
      "version": "3.12.3"
    },
    "colab": {
      "provenance": []
    }
  },
  "nbformat": 4,
  "nbformat_minor": 0
}