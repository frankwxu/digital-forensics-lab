{
  "cells": [
    {
      "cell_type": "markdown",
      "metadata": {
        "id": "3XcgmXYXAWAm"
      },
      "source": [
        "## A tutorial on applying the one-shot fine-tuning technique in digital forensics\n",
        "\n",
        "### Motivation\n",
        "- The generated evidence graph (consists of evidence and their relations) doesn't follow STIX.\n",
        "\n",
        "### Solution: One-shot fine-tuning\n",
        "\n",
        "- Provide one training example to LLMs\n",
        "- LLMs often produce more accurate results by learning the example\n",
        "- Fine-tuning is a productive way to leverage machine learning\n",
        "\n",
        "<img src=\"https://github.com/frankwxu/digital-forensics-lab/blob/main/AI4Forensics/CKIM2024/PhishingAttack/PhishingAttackScenarioDemo/notes/productive_way_llm.webp?raw=1\" width=\"550\">\n",
        "\n",
        "### Implementation\n",
        "- Add one-shot example as the `context` of answer (e.g., conversation)"
      ]
    },
    {
      "cell_type": "markdown",
      "metadata": {
        "id": "wwVktbjrAWAn"
      },
      "source": [
        "### Step 1: Download libraries and files for the lab\n",
        "- Make use you download necessary library and files.\n",
        "- All downloaded and saved files can be located in the `content` folder if using google Colab"
      ]
    },
    {
      "cell_type": "code",
      "source": [
        "# uncomment the commands to download libraries and files\n",
        "#!pip install python-dotenv\n",
        "#!pip install dspy-ai==2.4.17\n",
        "#!pip install graphviz\n",
        "#!wget https://raw.githubusercontent.com/frankwxu/digital-forensics-lab/main/AI4Forensics/CKIM2024/PhishingAttack/PhishingAttackScenarioDemo/conversation.txt\n",
        "\n",
        "import dspy\n",
        "import os\n",
        "import openai\n",
        "import json\n",
        "from dotenv import load_dotenv\n",
        "from IPython.display import display"
      ],
      "metadata": {
        "id": "rk13R6FksSrF"
      },
      "execution_count": null,
      "outputs": []
    },
    {
      "cell_type": "code",
      "source": [
        "from google.colab import files\n",
        "uploaded = files.upload()"
      ],
      "metadata": {
        "id": "LURuhSX7saDt"
      },
      "execution_count": null,
      "outputs": []
    },
    {
      "cell_type": "markdown",
      "metadata": {
        "id": "ZzM9nohQAWAo"
      },
      "source": [
        "### Step 2: Config DSPy with openAI\n",
        "- You `MUST` have an openAI api key\n",
        "- load an openAI api key from `openai_api_key.txt` file\n",
        "- or, hard code your open api key"
      ]
    },
    {
      "cell_type": "code",
      "execution_count": null,
      "metadata": {
        "id": "SV1wcpxFAWAo"
      },
      "outputs": [],
      "source": [
        "def set_dspy():\n",
        "    # ==============set openAI enviroment=========\n",
        "    # Path to your API key file\n",
        "    key_file_path = \"openai_api_key.txt\"\n",
        "\n",
        "    # Load the API key from the file\n",
        "    with open(key_file_path, \"r\") as file:\n",
        "        openai_api_key = file.read().strip()\n",
        "\n",
        "    # Set the API key as an environment variable\n",
        "    os.environ[\"OPENAI_API_KEY\"] = openai_api_key\n",
        "    openai.api_key = os.environ[\"OPENAI_API_KEY\"]\n",
        "    turbo = dspy.OpenAI(model=\"gpt-3.5-turbo\", max_tokens=2000, temperature=0.5)\n",
        "    dspy.settings.configure(lm=turbo)\n",
        "    return turbo\n",
        "    # ==============end of set openAI enviroment=========\n",
        "\n",
        "\n",
        "def set_dspy_hardcode_openai_key():\n",
        "    os.environ[\"OPENAI_API_KEY\"] = \"sk-proj-yourapikeyhere\"\n",
        "    openai.api_key = os.environ[\"OPENAI_API_KEY\"]\n",
        "    turbo = dspy.OpenAI(model=\"gpt-3.5-turbo\", temperature=0, max_tokens=2000)\n",
        "    dspy.settings.configure(lm=turbo)\n",
        "    return turbo\n",
        "\n",
        "\n",
        "# provide `openai_api_key.txt` with your openAI api key\n",
        "turbo = set_dspy()\n",
        "# optionally, hard code your openAI api key at line 21\n",
        "# turbo=set_dspy_hardcode_openai_key()"
      ]
    },
    {
      "cell_type": "markdown",
      "metadata": {
        "id": "sxl27b5oAWAo"
      },
      "source": [
        "### Step 3: Load the cyber incident repot (e.g., conversation)"
      ]
    },
    {
      "cell_type": "code",
      "execution_count": null,
      "metadata": {
        "id": "I-MD3mBRAWAo",
        "outputId": "a0fa0521-349c-4672-b4ff-28d23af4c86c",
        "colab": {
          "base_uri": "https://localhost:8080/"
        }
      },
      "outputs": [
        {
          "output_type": "stream",
          "name": "stdout",
          "text": [
            "Alice: Hey Bob, I just got a strange email from support@banksecure.com. It says I need to verify my account details urgently. The subject line was \"Urgent: Verify Your Account Now\". The email looks suspicious to me.\n",
            "\n",
            "Bob: Hi Alice, that does sound fishy. Can you forward me the email? I’ll take a look at the headers to see where it came from.\n",
            "\n",
            "Alice: Sure, forwarding it now.\n",
            "\n",
            "Bob: Got it. Let’s see... The email came from IP address 192.168.10.45, but the domain banksecure.com is not their official domain. It's actually registered to someone in Russia.\n",
            "\n",
            "Alice: That’s definitely not right. Should I be worried?\n",
            "\n",
            "Bob: We should investigate further. Did you click on any links or download any attachments?\n",
            "\n",
            "Alice: I did click on a link that took me to a page asking for my login credentials. I didn't enter anything though. The URL was http://banksecure-verification.com/login.\n",
            "\n",
            "Bob: Good call on not entering your details. Let’s check the URL. This domain was just registered two days ago. It’s highly likely it’s a phishing site.\n",
            "\n",
            "Alice: What should I do next?\n",
            "\n",
            "Bob: First, clear your browser history and cache. Also, run a full antivirus scan on your computer. Can you also provide me with any browser history entries and cookies from that session?\n",
            "\n",
            "Alice: I’ve cleared the history and started the antivirus scan. Here are the relevant entries from my browser history:\n",
            "Visited at 10:15 AM: http://banksecure-verification.com/login\n",
            "Visited at 10:17 AM: http://banksecure-verification.com/account-details\n",
            "\n",
            "Bob: Thanks. I’ll analyze these URLs further. Also, check if there are any suspicious files downloaded or present in your downloads folder. Look for anything unusual.\n",
            "\n",
            "Alice: There's a file named \"AccountDetails.exe\" that I don’t remember downloading. It was created at 10:20 AM.\n",
            "\n",
            "Bob: Definitely suspicious. Don’t open it. Let’s hash the file to verify its integrity. Can you run an MD5 hash on it?\n",
            "\n",
            "Alice: Done. The MD5 hash is e99a18c428cb38d5f260853678922e03.\n",
            "\n",
            "Bob: This hash matches known malware in our database. We’ll need to quarantine it and check if it has established any network connections. I’ll look into our network logs for the IP 192.168.10.45 around 10:20 AM.\n",
            "\n",
            "Alice: Is there anything else I need to do?\n",
            "\n",
            "Bob: For now, avoid using your computer for sensitive tasks. We’ll also reset your passwords from a different device and enable two-factor authentication on your accounts.\n",
            "\n",
            "Alice: Thanks, Bob. I’ll follow these steps immediately.\n"
          ]
        }
      ],
      "source": [
        "def load_text_file(file_path):\n",
        "    \"\"\"\n",
        "    Load a text file and return its contents as a string.\n",
        "\n",
        "    Parameters:\n",
        "    file_path (str): The path to the text file.\n",
        "\n",
        "    Returns:\n",
        "    str: The contents of the text file.\n",
        "    \"\"\"\n",
        "    try:\n",
        "        with open(file_path, \"r\") as file:\n",
        "            contents = file.read()\n",
        "        return contents\n",
        "    except FileNotFoundError:\n",
        "        return \"File not found.\"\n",
        "    except Exception as e:\n",
        "        return f\"An error occurred: {e}\"\n",
        "\n",
        "\n",
        "conversation = load_text_file(\"conversation.txt\")\n",
        "print(conversation)"
      ]
    },
    {
      "cell_type": "markdown",
      "metadata": {
        "id": "5uwdTFReAWAp"
      },
      "source": [
        "### Step 4: Define a structure for one-shot examples understood by `DSPy`.\n",
        "\n",
        "#### DSPy accpets training data in a certain format  \n",
        "- For instance, if you were working on a question-answering system\n",
        "```\n",
        "example = dspy.Example(\n",
        "    question=\"What is the capital of France?\",\n",
        "    answer=\"The capital of France is Paris.\"\n",
        ").with_inputs(\"question\")\n",
        "```\n",
        "- `.with_inputs(\"question\")`: Telling the dspy framework that the \"question\" field should be treated as an input when using this example\n",
        "\n",
        "#### Key components in our one-shot example\n",
        "- one-shot example: a similar conversation with correct evidence and relations in STIX\n",
        "- question: a conversation describing the cyber incident scenario\n",
        "- answer: the enhanced evidence entities and relations in STIX bacause the one-shot learning"
      ]
    },
    {
      "cell_type": "code",
      "execution_count": null,
      "metadata": {
        "id": "u0a9aXjNAWAp"
      },
      "outputs": [],
      "source": [
        "example = dspy.Example(\n",
        "    question=\"\"\"\n",
        "      Taylor: Hey Alex, I think I might have clicked on a suspicious link in an email.\n",
        "      Alex: Oh no, Taylor. Can you describe what happened?\n",
        "      Taylor: I got an email from what looked like our HR department. It said there was an urgent update to our benefits package, and I needed to click a link to review the changes.\n",
        "      Alex: Did the email address seem legitimate?\n",
        "      Taylor: At first glance, yes, but now that I think about it, the domain was slightly different. It was hr-dept@ourcompany-security.com instead of @ourcompany.com.\n",
        "      Alex: That sounds like phishing. What happened after you clicked the link?\n",
        "      Taylor: It took me to a login page that looked just like our internal portal. I entered my username and password.\n",
        "      Alex: Did you notice anything unusual after entering your credentials?\n",
        "      Taylor: Not immediately, but a few minutes later, I got an alert that someone attempted to log into my account from a different location.\n",
        "      Alex: Okay, this sounds serious. I need you to change your password immediately and enable two-factor authentication if you haven't already.\n",
        "      Taylor: Done. What should we do next?\n",
        "      Alex: I'll start by examining the email headers to trace the origin. Also, I need to check the link you clicked on to understand its structure and where it leads.\n",
        "      Taylor: Alright, I’ll forward you the email.\n",
        "      Alex: Thanks. I’ll also run a network scan to see if any other devices might have been compromised.\n",
        "      Taylor: Should I inform the rest of the team?\n",
        "      Alex: Yes, let them know about the phishing attempt and advise them to be cautious. I’ll send an official email with detailed instructions.\n",
        "      Taylor: Got it. Thanks, Alex. Is there anything else I should do?\n",
        "      Alex: Just keep an eye out for any unusual activities in your accounts. I’ll handle the technical investigation and follow up with you if I need more information.\n",
        "      Taylor: Will do. Thanks again.\n",
        "      Alex: No problem. Stay safe online.\"\"\",\n",
        "    answer=\"\"\"[\n",
        "    {\n",
        "      \"type\": \"identity\",\n",
        "      \"id\": \"identity--1cba2e3c-4bdb-4d0b-a87b-2d504ad5923f\",\n",
        "      \"name\": \"OurCompany\",\n",
        "      \"identity_class\": \"organization\",\n",
        "      \"sectors\": [\"technology\"],\n",
        "      \"contact_information\": \"info@ourcompany.com\"\n",
        "    },\n",
        "    {\n",
        "      \"type\": \"email-addr\",\n",
        "      \"id\": \"email-addr--0c0d2094-df97-45a7-9e9c-223569a9e798\",\n",
        "      \"value\": \"hr-dept@ourcompany-security.com\"\n",
        "    },\n",
        "    {\n",
        "      \"type\": \"email-message\",\n",
        "      \"id\": \"email-message--c79b6bde-4f4c-4b38-a8c8-fb82921d6b97\",\n",
        "      \"is_multipart\": false,\n",
        "      \"subject\": \"Urgent Benefits Package Update\",\n",
        "      \"from_ref\": \"email-addr--0c0d2094-df97-45a7-9e9c-223569a9e798\",\n",
        "      \"body\": \"Please click the link to review the changes to your benefits package.\"\n",
        "    },\n",
        "    {\n",
        "      \"type\": \"url\",\n",
        "      \"id\": \"url--4c3b-4c4b-bb6c-ded6b2a4a567\",\n",
        "      \"value\": \"http://phishing-link.com/login\"\n",
        "    },\n",
        "    {\n",
        "      \"type\": \"user-account\",\n",
        "      \"id\": \"user-account--bd5631cf-2af6-4bba-bc92-37c60d020400\",\n",
        "      \"user_id\": \"Taylor\",\n",
        "      \"account_login\": \"taylor@ourcompany.com\"\n",
        "    },\n",
        "    {\n",
        "      \"type\": \"observable\",\n",
        "      \"id\": \"observable--001\",\n",
        "      \"observable_type\": \"email\",\n",
        "      \"observable_value\": \"hr-dept@ourcompany-security.com\"\n",
        "    },\n",
        "    {\n",
        "      \"type\": \"observable\",\n",
        "      \"id\": \"observable--002\",\n",
        "      \"observable_type\": \"url\",\n",
        "      \"observable_value\": \"http://phishing-link.com/login\"\n",
        "    },\n",
        "    {\n",
        "      \"type\": \"indicator\",\n",
        "      \"id\": \"indicator--1cba2e3c-4bdb-4d0b-a87b-2d504ad5923f\",\n",
        "      \"name\": \"Phishing Email Indicator\",\n",
        "      \"pattern\": \"[email-message:subject = 'Urgent Benefits Package Update']\",\n",
        "      \"valid_from\": \"2024-07-17T00:00:00Z\"\n",
        "    },\n",
        "    {\n",
        "      \"type\": \"incident\",\n",
        "      \"id\": \"incident--7a2b252e-c3e5-4bc2-bc6f-cb917ecf7857\",\n",
        "      \"name\": \"Phishing Attack on OurCompany\",\n",
        "      \"description\": \"A phishing attack where a suspicious email was sent to an employee of OurCompany.\",\n",
        "      \"first_seen\": \"2024-07-17T08:00:00Z\",\n",
        "      \"last_seen\": \"2024-07-17T08:10:00Z\",\n",
        "      \"status\": \"ongoing\",\n",
        "      \"affected_assets\": [\"user-account--bd5631cf-2af6-4bba-bc92-37c60d020400\"]\n",
        "    },\n",
        "    {\n",
        "      \"type\": \"relationship\",\n",
        "      \"id\": \"relationship--3f1a8d8b-6a6e-4b5d-8e15-2d6d9a2b3f1d\",\n",
        "      \"relationship_type\": \"indicates\",\n",
        "      \"source_ref\": \"indicator--1cba2e3c-4bdb-4d0b-a87b-2d504ad5923f\",\n",
        "      \"target_ref\": \"incident--7a2b252e-c3e5-4bc2-bc6f-cb917ecf7857\"\n",
        "    },\n",
        "    {\n",
        "      \"type\": \"relationship\",\n",
        "      \"id\": \"relationship--4b6e65f3-743d-40c2-9194-3b5e38b3efed\",\n",
        "      \"relationship_type\": \"attributed-to\",\n",
        "      \"source_ref\": \"incident--7a2b252e-c3e5-4bc2-bc6f-cb917ecf7857\",\n",
        "      \"target_ref\": \"identity--1cba2e3c-4bdb-4d0b-a87b-2d504ad5923f\"\n",
        "    },\n",
        "    {\n",
        "      \"type\": \"relationship\",\n",
        "      \"id\": \"relationship--5c9b6eaf-27a6-4b2b-9b17-49e3b00f6051\",\n",
        "      \"relationship_type\": \"uses\",\n",
        "      \"source_ref\": \"incident--7a2b252e-c3e5-4bc2-bc6f-cb917ecf7857\",\n",
        "      \"target_ref\": \"url--4c3b-4c4b-bb6c-ded6b2a4a567\"\n",
        "    }\n",
        "]\"\"\",\n",
        ").with_inputs(\"question\")"
      ]
    },
    {
      "cell_type": "markdown",
      "metadata": {
        "id": "ptrPP_5wAWAq"
      },
      "source": [
        "### Step 5: Load the one-shot example using a retriever\n",
        "\n",
        "#### What is retriever in `DSPy`?\n",
        "- designed to fetch relevant information or documents from a larger corpus or database based on a given query\n",
        "- often based on vector representations of text\n",
        "- use cases: Question-answer systems, chatbots, or any application\n",
        "    - where relevant information needs to be fetched from a large dataset to inform further processing or responses\n",
        "### The retriever in this example\n",
        "- enhance accuracy for forensic evidence analysis\n",
        "    - identified evidence entities and relationships that comply with STIX\n",
        "- hard-coded just return one-example for one-shot learning\n",
        "- can be improved to retrieve more or related examples"
      ]
    },
    {
      "cell_type": "markdown",
      "metadata": {
        "id": "H3nVdFOSAWAq"
      },
      "source": [
        "### Step 6: Implement `OneShotRetriever`\n",
        "The main retrieval method. It returns a formatted string containing the predefined example, regardless of the input query.\n",
        "\n",
        "- Parameters:\n",
        "    - query: The input `query` (currently not used in the retrieval process).\n",
        "- Returns: A formatted string containing:\n",
        "    - The example scenario (from self.example.question)\n",
        "    - The corresponding STIX JSON (from self.example.answer)"
      ]
    },
    {
      "cell_type": "code",
      "execution_count": null,
      "metadata": {
        "id": "rkj7AiWzAWAq"
      },
      "outputs": [],
      "source": [
        "# Create a simple retriever that always returns the one-shot example\n",
        "class OneShotRetriever(dspy.Retrieve):\n",
        "    def __init__(self, example):\n",
        "        super().__init__()\n",
        "        self.example = example\n",
        "\n",
        "    def forward(self, query):\n",
        "        # Here we could use the query to determine if we should return the example\n",
        "        # For demonstration, let's just print the query\n",
        "        # print(f\"Retrieval query: {query}\")\n",
        "        one_example = f\"Example scenairo: {self.example.question}\\n Example generated STIX in JSON based on the scenairo: {self.example.answer}\\n\"\n",
        "        return one_example"
      ]
    },
    {
      "cell_type": "markdown",
      "metadata": {
        "id": "sYiHBkvbAWAq"
      },
      "source": [
        "### Step 7: Implement `STIXGeneratorSig`"
      ]
    },
    {
      "cell_type": "code",
      "execution_count": null,
      "metadata": {
        "id": "HZsh2fxgAWAq"
      },
      "outputs": [],
      "source": [
        "class STIXGeneratorSig(dspy.Signature):\n",
        "    \"\"\"Describe a conversation in STIX, which stands for Structured Threat Information eXpression, is a standardized language for representing cyber threat information.\"\"\"\n",
        "\n",
        "    # Make sure to define context here, otherwise, one-short learning won't work\n",
        "    context = dspy.InputField(desc=\"contain a scenario and the coreposing STIX in JSON\")\n",
        "\n",
        "    question: str = dspy.InputField(\n",
        "        desc=\"a conversation describing a cyber incident between an IT Security Specialist and an employee.\"\n",
        "    )\n",
        "\n",
        "    answer: str = dspy.OutputField(\n",
        "        desc=\"the formalized STIX in JSON representing cyber threat information based on the conversation, e.g., [{object 1}, {object 2}, ... {object n}]\"\n",
        "    )"
      ]
    },
    {
      "cell_type": "markdown",
      "metadata": {
        "id": "IvY26ITZAWAq"
      },
      "source": [
        "### Step 7: Implement `STIXGeneratorSig` Module\n",
        "\n",
        "\n",
        "#### `dspy.Module`\n",
        "- implement your business logic\n",
        "- can include multiple submodules\n",
        "- syntactic similarity to PyTorch\n",
        "    -  `__init__()`: declares the used submodules.\n",
        "    - `forward()`: describes the control flow among the defined submodules.\n",
        "\n",
        "![Diagram of forward modules](https://github.com/frankwxu/digital-forensics-lab/blob/main/AI4Forensics/CKIM2024/PhishingAttack/PhishingAttackScenarioDemo/04_forward_module.svg?raw=1)\n",
        "\n",
        "\n"
      ]
    },
    {
      "cell_type": "code",
      "execution_count": null,
      "metadata": {
        "id": "kMRW5zDEAWAq"
      },
      "outputs": [],
      "source": [
        "class STIXGenCoT(dspy.Module):\n",
        "    def __init__(self, example):\n",
        "        super().__init__()\n",
        "        self.retriever = OneShotRetriever(example)\n",
        "        self.predictor = dspy.ChainOfThought(STIXGeneratorSig)\n",
        "\n",
        "    def forward(self, question):\n",
        "        context = self.retriever(question)\n",
        "        results = self.predictor(context=context, question=question)\n",
        "\n",
        "        # Inspect the history\n",
        "        # last_interaction = turbo.inspect_history(n=1)\n",
        "        # print(\"Last interaction:\")\n",
        "        # print(last_interaction)\n",
        "\n",
        "        return results"
      ]
    },
    {
      "cell_type": "markdown",
      "metadata": {
        "id": "QdA312JVAWAq"
      },
      "source": [
        "### Step 8: Tell an LLM `HOW` to generate answer in a function:\n",
        "\n",
        "- `HOW`: defined in `STIXGenCoT`\n",
        "- save the output in JSON"
      ]
    },
    {
      "cell_type": "code",
      "execution_count": null,
      "metadata": {
        "id": "VrKKMSN6AWAq"
      },
      "outputs": [],
      "source": [
        "def generate_answer(conversation, output_file):\n",
        "    # Create an instance of your module with the one-shot example\n",
        "    my_module = STIXGenCoT(example)\n",
        "\n",
        "    # Use your module with a new input\n",
        "    answer = my_module(question=conversation).answer\n",
        "\n",
        "    with open(output_file, \"w\") as json_file:\n",
        "        result = json.loads(answer)\n",
        "        print(answer)\n",
        "        json.dump(result, json_file, indent=4)\n",
        "    print(f\"The results have been saved to the file {output_file}\")"
      ]
    },
    {
      "cell_type": "markdown",
      "metadata": {
        "id": "LWutA9ZaAWAr"
      },
      "source": [
        "### Step 9: Execute the function above with an input and output"
      ]
    },
    {
      "cell_type": "code",
      "source": [
        "output_file = \"04_output.json\"\n",
        "generate_answer(\n",
        "    conversation,\n",
        "    output_file,\n",
        ")"
      ],
      "metadata": {
        "id": "X-5u-3W4sinU"
      },
      "execution_count": null,
      "outputs": []
    },
    {
      "cell_type": "markdown",
      "metadata": {
        "id": "SI_EKd3mAWAr"
      },
      "source": [
        "### Step 10: Inspect the last prompt send to the LLM\n",
        "\n",
        "You want to check:\n",
        "- Prompt Description Section: Description in the signature\n",
        "- Format Section: `Following the following format.`\n",
        "- Context: Example scenario:"
      ]
    },
    {
      "cell_type": "code",
      "source": [
        "turbo.inspect_history(n=1)"
      ],
      "metadata": {
        "id": "1h_WUfx7snYW"
      },
      "execution_count": null,
      "outputs": []
    }
  ],
  "metadata": {
    "kernelspec": {
      "display_name": "Python 3",
      "language": "python",
      "name": "python3"
    },
    "language_info": {
      "codemirror_mode": {
        "name": "ipython",
        "version": 3
      },
      "file_extension": ".py",
      "mimetype": "text/x-python",
      "name": "python",
      "nbconvert_exporter": "python",
      "pygments_lexer": "ipython3",
      "version": "3.12.3"
    },
    "colab": {
      "provenance": []
    }
  },
  "nbformat": 4,
  "nbformat_minor": 0
}