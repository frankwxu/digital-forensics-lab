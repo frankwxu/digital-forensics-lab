{
  "cells": [
    {
      "cell_type": "markdown",
      "metadata": {
        "id": "Rx_5Pk_auGLz"
      },
      "source": [
        "## A tutorial to identify evidence entities from a cyber incident report\n",
        "\n",
        "The cyber incident report records a conversation between an IT Security Specialist and an Employee. The conversation describes an email phishing attack scenario.\n",
        "\n",
        "### Goal\n",
        "- Familiar with [DSPy: Declarative Self-improving Language Programs, pythonically](https://github.com/stanfordnlp/dspy).\n",
        "    - DSPy is a framework for algorithmically optimizing LM prompts and weights.\n",
        "    - The framework for programming—not prompting—foundation models\n",
        "- Identify a list of evidence entities\n",
        "- Identify a list of relationships between entities"
      ]
    },
    {
      "cell_type": "markdown",
      "metadata": {
        "id": "7NgA-5f2uGL0"
      },
      "source": [
        "### Step 1: Download libraries and files for the lab\n",
        "- Make use you download necessary library and files.\n",
        "- All downloaded and saved files can be located in the `content` folder if using google Colab"
      ]
    },
    {
      "cell_type": "code",
      "execution_count": 1,
      "metadata": {
        "id": "_xdq_zpsuGL0",
        "outputId": "69b21c2c-eb99-4ef2-d1db-5c0657e214ef",
        "colab": {
          "base_uri": "https://localhost:8080/"
        }
      },
      "outputs": [
        {
          "output_type": "stream",
          "name": "stdout",
          "text": [
            "Collecting python-dotenv\n",
            "  Downloading python_dotenv-1.1.1-py3-none-any.whl.metadata (24 kB)\n",
            "Downloading python_dotenv-1.1.1-py3-none-any.whl (20 kB)\n",
            "Installing collected packages: python-dotenv\n",
            "Successfully installed python-dotenv-1.1.1\n",
            "Collecting dspy-ai==2.4.17\n",
            "  Downloading dspy_ai-2.4.17-py3-none-any.whl.metadata (40 kB)\n",
            "\u001b[2K     \u001b[90m━━━━━━━━━━━━━━━━━━━━━━━━━━━━━━━━━━━━━━━━\u001b[0m \u001b[32m40.2/40.2 kB\u001b[0m \u001b[31m1.6 MB/s\u001b[0m eta \u001b[36m0:00:00\u001b[0m\n",
            "\u001b[?25hCollecting backoff (from dspy-ai==2.4.17)\n",
            "  Downloading backoff-2.2.1-py3-none-any.whl.metadata (14 kB)\n",
            "Requirement already satisfied: datasets in /usr/local/lib/python3.11/dist-packages (from dspy-ai==2.4.17) (4.0.0)\n",
            "Requirement already satisfied: joblib~=1.3 in /usr/local/lib/python3.11/dist-packages (from dspy-ai==2.4.17) (1.5.1)\n",
            "Requirement already satisfied: openai<2.0.0,>=0.28.1 in /usr/local/lib/python3.11/dist-packages (from dspy-ai==2.4.17) (1.97.1)\n",
            "Collecting optuna (from dspy-ai==2.4.17)\n",
            "  Downloading optuna-4.4.0-py3-none-any.whl.metadata (17 kB)\n",
            "Requirement already satisfied: pandas in /usr/local/lib/python3.11/dist-packages (from dspy-ai==2.4.17) (2.2.2)\n",
            "Requirement already satisfied: pydantic~=2.0 in /usr/local/lib/python3.11/dist-packages (from dspy-ai==2.4.17) (2.11.7)\n",
            "Requirement already satisfied: regex in /usr/local/lib/python3.11/dist-packages (from dspy-ai==2.4.17) (2024.11.6)\n",
            "Requirement already satisfied: requests in /usr/local/lib/python3.11/dist-packages (from dspy-ai==2.4.17) (2.32.3)\n",
            "Collecting structlog (from dspy-ai==2.4.17)\n",
            "  Downloading structlog-25.4.0-py3-none-any.whl.metadata (7.6 kB)\n",
            "Requirement already satisfied: tqdm in /usr/local/lib/python3.11/dist-packages (from dspy-ai==2.4.17) (4.67.1)\n",
            "Collecting ujson (from dspy-ai==2.4.17)\n",
            "  Downloading ujson-5.10.0-cp311-cp311-manylinux_2_17_x86_64.manylinux2014_x86_64.whl.metadata (9.3 kB)\n",
            "Requirement already satisfied: httpx in /usr/local/lib/python3.11/dist-packages (from dspy-ai==2.4.17) (0.28.1)\n",
            "Collecting magicattr~=0.1.6 (from dspy-ai==2.4.17)\n",
            "  Downloading magicattr-0.1.6-py2.py3-none-any.whl.metadata (3.2 kB)\n",
            "Collecting diskcache (from dspy-ai==2.4.17)\n",
            "  Downloading diskcache-5.6.3-py3-none-any.whl.metadata (20 kB)\n",
            "Requirement already satisfied: anyio<5,>=3.5.0 in /usr/local/lib/python3.11/dist-packages (from openai<2.0.0,>=0.28.1->dspy-ai==2.4.17) (4.9.0)\n",
            "Requirement already satisfied: distro<2,>=1.7.0 in /usr/local/lib/python3.11/dist-packages (from openai<2.0.0,>=0.28.1->dspy-ai==2.4.17) (1.9.0)\n",
            "Requirement already satisfied: jiter<1,>=0.4.0 in /usr/local/lib/python3.11/dist-packages (from openai<2.0.0,>=0.28.1->dspy-ai==2.4.17) (0.10.0)\n",
            "Requirement already satisfied: sniffio in /usr/local/lib/python3.11/dist-packages (from openai<2.0.0,>=0.28.1->dspy-ai==2.4.17) (1.3.1)\n",
            "Requirement already satisfied: typing-extensions<5,>=4.11 in /usr/local/lib/python3.11/dist-packages (from openai<2.0.0,>=0.28.1->dspy-ai==2.4.17) (4.14.1)\n",
            "Requirement already satisfied: certifi in /usr/local/lib/python3.11/dist-packages (from httpx->dspy-ai==2.4.17) (2025.7.14)\n",
            "Requirement already satisfied: httpcore==1.* in /usr/local/lib/python3.11/dist-packages (from httpx->dspy-ai==2.4.17) (1.0.9)\n",
            "Requirement already satisfied: idna in /usr/local/lib/python3.11/dist-packages (from httpx->dspy-ai==2.4.17) (3.10)\n",
            "Requirement already satisfied: h11>=0.16 in /usr/local/lib/python3.11/dist-packages (from httpcore==1.*->httpx->dspy-ai==2.4.17) (0.16.0)\n",
            "Requirement already satisfied: annotated-types>=0.6.0 in /usr/local/lib/python3.11/dist-packages (from pydantic~=2.0->dspy-ai==2.4.17) (0.7.0)\n",
            "Requirement already satisfied: pydantic-core==2.33.2 in /usr/local/lib/python3.11/dist-packages (from pydantic~=2.0->dspy-ai==2.4.17) (2.33.2)\n",
            "Requirement already satisfied: typing-inspection>=0.4.0 in /usr/local/lib/python3.11/dist-packages (from pydantic~=2.0->dspy-ai==2.4.17) (0.4.1)\n",
            "Requirement already satisfied: filelock in /usr/local/lib/python3.11/dist-packages (from datasets->dspy-ai==2.4.17) (3.18.0)\n",
            "Requirement already satisfied: numpy>=1.17 in /usr/local/lib/python3.11/dist-packages (from datasets->dspy-ai==2.4.17) (2.0.2)\n",
            "Requirement already satisfied: pyarrow>=15.0.0 in /usr/local/lib/python3.11/dist-packages (from datasets->dspy-ai==2.4.17) (18.1.0)\n",
            "Requirement already satisfied: dill<0.3.9,>=0.3.0 in /usr/local/lib/python3.11/dist-packages (from datasets->dspy-ai==2.4.17) (0.3.8)\n",
            "Requirement already satisfied: xxhash in /usr/local/lib/python3.11/dist-packages (from datasets->dspy-ai==2.4.17) (3.5.0)\n",
            "Requirement already satisfied: multiprocess<0.70.17 in /usr/local/lib/python3.11/dist-packages (from datasets->dspy-ai==2.4.17) (0.70.16)\n",
            "Requirement already satisfied: fsspec<=2025.3.0,>=2023.1.0 in /usr/local/lib/python3.11/dist-packages (from fsspec[http]<=2025.3.0,>=2023.1.0->datasets->dspy-ai==2.4.17) (2025.3.0)\n",
            "Requirement already satisfied: huggingface-hub>=0.24.0 in /usr/local/lib/python3.11/dist-packages (from datasets->dspy-ai==2.4.17) (0.33.4)\n",
            "Requirement already satisfied: packaging in /usr/local/lib/python3.11/dist-packages (from datasets->dspy-ai==2.4.17) (25.0)\n",
            "Requirement already satisfied: pyyaml>=5.1 in /usr/local/lib/python3.11/dist-packages (from datasets->dspy-ai==2.4.17) (6.0.2)\n",
            "Requirement already satisfied: charset-normalizer<4,>=2 in /usr/local/lib/python3.11/dist-packages (from requests->dspy-ai==2.4.17) (3.4.2)\n",
            "Requirement already satisfied: urllib3<3,>=1.21.1 in /usr/local/lib/python3.11/dist-packages (from requests->dspy-ai==2.4.17) (2.5.0)\n",
            "Collecting alembic>=1.5.0 (from optuna->dspy-ai==2.4.17)\n",
            "  Downloading alembic-1.16.4-py3-none-any.whl.metadata (7.3 kB)\n",
            "Collecting colorlog (from optuna->dspy-ai==2.4.17)\n",
            "  Downloading colorlog-6.9.0-py3-none-any.whl.metadata (10 kB)\n",
            "Requirement already satisfied: sqlalchemy>=1.4.2 in /usr/local/lib/python3.11/dist-packages (from optuna->dspy-ai==2.4.17) (2.0.41)\n",
            "Requirement already satisfied: python-dateutil>=2.8.2 in /usr/local/lib/python3.11/dist-packages (from pandas->dspy-ai==2.4.17) (2.9.0.post0)\n",
            "Requirement already satisfied: pytz>=2020.1 in /usr/local/lib/python3.11/dist-packages (from pandas->dspy-ai==2.4.17) (2025.2)\n",
            "Requirement already satisfied: tzdata>=2022.7 in /usr/local/lib/python3.11/dist-packages (from pandas->dspy-ai==2.4.17) (2025.2)\n",
            "Requirement already satisfied: Mako in /usr/lib/python3/dist-packages (from alembic>=1.5.0->optuna->dspy-ai==2.4.17) (1.1.3)\n",
            "Requirement already satisfied: aiohttp!=4.0.0a0,!=4.0.0a1 in /usr/local/lib/python3.11/dist-packages (from fsspec[http]<=2025.3.0,>=2023.1.0->datasets->dspy-ai==2.4.17) (3.12.14)\n",
            "Requirement already satisfied: hf-xet<2.0.0,>=1.1.2 in /usr/local/lib/python3.11/dist-packages (from huggingface-hub>=0.24.0->datasets->dspy-ai==2.4.17) (1.1.5)\n",
            "Requirement already satisfied: six>=1.5 in /usr/local/lib/python3.11/dist-packages (from python-dateutil>=2.8.2->pandas->dspy-ai==2.4.17) (1.17.0)\n",
            "Requirement already satisfied: greenlet>=1 in /usr/local/lib/python3.11/dist-packages (from sqlalchemy>=1.4.2->optuna->dspy-ai==2.4.17) (3.2.3)\n",
            "Requirement already satisfied: aiohappyeyeballs>=2.5.0 in /usr/local/lib/python3.11/dist-packages (from aiohttp!=4.0.0a0,!=4.0.0a1->fsspec[http]<=2025.3.0,>=2023.1.0->datasets->dspy-ai==2.4.17) (2.6.1)\n",
            "Requirement already satisfied: aiosignal>=1.4.0 in /usr/local/lib/python3.11/dist-packages (from aiohttp!=4.0.0a0,!=4.0.0a1->fsspec[http]<=2025.3.0,>=2023.1.0->datasets->dspy-ai==2.4.17) (1.4.0)\n",
            "Requirement already satisfied: attrs>=17.3.0 in /usr/local/lib/python3.11/dist-packages (from aiohttp!=4.0.0a0,!=4.0.0a1->fsspec[http]<=2025.3.0,>=2023.1.0->datasets->dspy-ai==2.4.17) (25.3.0)\n",
            "Requirement already satisfied: frozenlist>=1.1.1 in /usr/local/lib/python3.11/dist-packages (from aiohttp!=4.0.0a0,!=4.0.0a1->fsspec[http]<=2025.3.0,>=2023.1.0->datasets->dspy-ai==2.4.17) (1.7.0)\n",
            "Requirement already satisfied: multidict<7.0,>=4.5 in /usr/local/lib/python3.11/dist-packages (from aiohttp!=4.0.0a0,!=4.0.0a1->fsspec[http]<=2025.3.0,>=2023.1.0->datasets->dspy-ai==2.4.17) (6.6.3)\n",
            "Requirement already satisfied: propcache>=0.2.0 in /usr/local/lib/python3.11/dist-packages (from aiohttp!=4.0.0a0,!=4.0.0a1->fsspec[http]<=2025.3.0,>=2023.1.0->datasets->dspy-ai==2.4.17) (0.3.2)\n",
            "Requirement already satisfied: yarl<2.0,>=1.17.0 in /usr/local/lib/python3.11/dist-packages (from aiohttp!=4.0.0a0,!=4.0.0a1->fsspec[http]<=2025.3.0,>=2023.1.0->datasets->dspy-ai==2.4.17) (1.20.1)\n",
            "Downloading dspy_ai-2.4.17-py3-none-any.whl (297 kB)\n",
            "\u001b[2K   \u001b[90m━━━━━━━━━━━━━━━━━━━━━━━━━━━━━━━━━━━━━━━━\u001b[0m \u001b[32m297.9/297.9 kB\u001b[0m \u001b[31m8.1 MB/s\u001b[0m eta \u001b[36m0:00:00\u001b[0m\n",
            "\u001b[?25hDownloading magicattr-0.1.6-py2.py3-none-any.whl (4.7 kB)\n",
            "Downloading backoff-2.2.1-py3-none-any.whl (15 kB)\n",
            "Downloading diskcache-5.6.3-py3-none-any.whl (45 kB)\n",
            "\u001b[2K   \u001b[90m━━━━━━━━━━━━━━━━━━━━━━━━━━━━━━━━━━━━━━━━\u001b[0m \u001b[32m45.5/45.5 kB\u001b[0m \u001b[31m3.1 MB/s\u001b[0m eta \u001b[36m0:00:00\u001b[0m\n",
            "\u001b[?25hDownloading optuna-4.4.0-py3-none-any.whl (395 kB)\n",
            "\u001b[2K   \u001b[90m━━━━━━━━━━━━━━━━━━━━━━━━━━━━━━━━━━━━━━━━\u001b[0m \u001b[32m395.9/395.9 kB\u001b[0m \u001b[31m15.6 MB/s\u001b[0m eta \u001b[36m0:00:00\u001b[0m\n",
            "\u001b[?25hDownloading structlog-25.4.0-py3-none-any.whl (68 kB)\n",
            "\u001b[2K   \u001b[90m━━━━━━━━━━━━━━━━━━━━━━━━━━━━━━━━━━━━━━━━\u001b[0m \u001b[32m68.7/68.7 kB\u001b[0m \u001b[31m5.3 MB/s\u001b[0m eta \u001b[36m0:00:00\u001b[0m\n",
            "\u001b[?25hDownloading ujson-5.10.0-cp311-cp311-manylinux_2_17_x86_64.manylinux2014_x86_64.whl (53 kB)\n",
            "\u001b[2K   \u001b[90m━━━━━━━━━━━━━━━━━━━━━━━━━━━━━━━━━━━━━━━━\u001b[0m \u001b[32m53.6/53.6 kB\u001b[0m \u001b[31m3.6 MB/s\u001b[0m eta \u001b[36m0:00:00\u001b[0m\n",
            "\u001b[?25hDownloading alembic-1.16.4-py3-none-any.whl (247 kB)\n",
            "\u001b[2K   \u001b[90m━━━━━━━━━━━━━━━━━━━━━━━━━━━━━━━━━━━━━━━━\u001b[0m \u001b[32m247.0/247.0 kB\u001b[0m \u001b[31m16.5 MB/s\u001b[0m eta \u001b[36m0:00:00\u001b[0m\n",
            "\u001b[?25hDownloading colorlog-6.9.0-py3-none-any.whl (11 kB)\n",
            "Installing collected packages: magicattr, ujson, structlog, diskcache, colorlog, backoff, alembic, optuna, dspy-ai\n",
            "Successfully installed alembic-1.16.4 backoff-2.2.1 colorlog-6.9.0 diskcache-5.6.3 dspy-ai-2.4.17 magicattr-0.1.6 optuna-4.4.0 structlog-25.4.0 ujson-5.10.0\n",
            "Requirement already satisfied: graphviz in /usr/local/lib/python3.11/dist-packages (0.21)\n",
            "--2025-07-28 15:52:32--  https://raw.githubusercontent.com/frankwxu/digital-forensics-lab/main/AI4Forensics/CKIM2024/PhishingAttack/PhishingAttackScenarioDemo/conversation.txt\n",
            "Resolving raw.githubusercontent.com (raw.githubusercontent.com)... 185.199.108.133, 185.199.109.133, 185.199.110.133, ...\n",
            "Connecting to raw.githubusercontent.com (raw.githubusercontent.com)|185.199.108.133|:443... connected.\n",
            "HTTP request sent, awaiting response... 200 OK\n",
            "Length: 2492 (2.4K) [text/plain]\n",
            "Saving to: ‘conversation.txt’\n",
            "\n",
            "conversation.txt    100%[===================>]   2.43K  --.-KB/s    in 0s      \n",
            "\n",
            "2025-07-28 15:52:32 (35.2 MB/s) - ‘conversation.txt’ saved [2492/2492]\n",
            "\n"
          ]
        }
      ],
      "source": [
        "# uncomment the commands to download libraries and files\n",
        "!pip install python-dotenv\n",
        "!pip install dspy-ai==2.4.17\n",
        "!pip install graphviz\n",
        "!wget https://raw.githubusercontent.com/frankwxu/digital-forensics-lab/main/AI4Forensics/CKIM2024/PhishingAttack/PhishingAttackScenarioDemo/conversation.txt\n",
        "\n",
        "import dspy\n",
        "import os\n",
        "import openai\n",
        "import json\n",
        "from dotenv import load_dotenv\n",
        "from IPython.display import display"
      ]
    },
    {
      "cell_type": "code",
      "source": [
        "from google.colab import files\n",
        "uploaded = files.upload()"
      ],
      "metadata": {
        "id": "Ynkt4XWRvbXl",
        "outputId": "f13e00fc-68a4-4488-b75a-c72c648ad0e9",
        "colab": {
          "base_uri": "https://localhost:8080/",
          "height": 73
        }
      },
      "execution_count": 2,
      "outputs": [
        {
          "output_type": "display_data",
          "data": {
            "text/plain": [
              "<IPython.core.display.HTML object>"
            ],
            "text/html": [
              "\n",
              "     <input type=\"file\" id=\"files-dba08084-afc1-4c4b-b1e4-a8f2b514fc16\" name=\"files[]\" multiple disabled\n",
              "        style=\"border:none\" />\n",
              "     <output id=\"result-dba08084-afc1-4c4b-b1e4-a8f2b514fc16\">\n",
              "      Upload widget is only available when the cell has been executed in the\n",
              "      current browser session. Please rerun this cell to enable.\n",
              "      </output>\n",
              "      <script>// Copyright 2017 Google LLC\n",
              "//\n",
              "// Licensed under the Apache License, Version 2.0 (the \"License\");\n",
              "// you may not use this file except in compliance with the License.\n",
              "// You may obtain a copy of the License at\n",
              "//\n",
              "//      http://www.apache.org/licenses/LICENSE-2.0\n",
              "//\n",
              "// Unless required by applicable law or agreed to in writing, software\n",
              "// distributed under the License is distributed on an \"AS IS\" BASIS,\n",
              "// WITHOUT WARRANTIES OR CONDITIONS OF ANY KIND, either express or implied.\n",
              "// See the License for the specific language governing permissions and\n",
              "// limitations under the License.\n",
              "\n",
              "/**\n",
              " * @fileoverview Helpers for google.colab Python module.\n",
              " */\n",
              "(function(scope) {\n",
              "function span(text, styleAttributes = {}) {\n",
              "  const element = document.createElement('span');\n",
              "  element.textContent = text;\n",
              "  for (const key of Object.keys(styleAttributes)) {\n",
              "    element.style[key] = styleAttributes[key];\n",
              "  }\n",
              "  return element;\n",
              "}\n",
              "\n",
              "// Max number of bytes which will be uploaded at a time.\n",
              "const MAX_PAYLOAD_SIZE = 100 * 1024;\n",
              "\n",
              "function _uploadFiles(inputId, outputId) {\n",
              "  const steps = uploadFilesStep(inputId, outputId);\n",
              "  const outputElement = document.getElementById(outputId);\n",
              "  // Cache steps on the outputElement to make it available for the next call\n",
              "  // to uploadFilesContinue from Python.\n",
              "  outputElement.steps = steps;\n",
              "\n",
              "  return _uploadFilesContinue(outputId);\n",
              "}\n",
              "\n",
              "// This is roughly an async generator (not supported in the browser yet),\n",
              "// where there are multiple asynchronous steps and the Python side is going\n",
              "// to poll for completion of each step.\n",
              "// This uses a Promise to block the python side on completion of each step,\n",
              "// then passes the result of the previous step as the input to the next step.\n",
              "function _uploadFilesContinue(outputId) {\n",
              "  const outputElement = document.getElementById(outputId);\n",
              "  const steps = outputElement.steps;\n",
              "\n",
              "  const next = steps.next(outputElement.lastPromiseValue);\n",
              "  return Promise.resolve(next.value.promise).then((value) => {\n",
              "    // Cache the last promise value to make it available to the next\n",
              "    // step of the generator.\n",
              "    outputElement.lastPromiseValue = value;\n",
              "    return next.value.response;\n",
              "  });\n",
              "}\n",
              "\n",
              "/**\n",
              " * Generator function which is called between each async step of the upload\n",
              " * process.\n",
              " * @param {string} inputId Element ID of the input file picker element.\n",
              " * @param {string} outputId Element ID of the output display.\n",
              " * @return {!Iterable<!Object>} Iterable of next steps.\n",
              " */\n",
              "function* uploadFilesStep(inputId, outputId) {\n",
              "  const inputElement = document.getElementById(inputId);\n",
              "  inputElement.disabled = false;\n",
              "\n",
              "  const outputElement = document.getElementById(outputId);\n",
              "  outputElement.innerHTML = '';\n",
              "\n",
              "  const pickedPromise = new Promise((resolve) => {\n",
              "    inputElement.addEventListener('change', (e) => {\n",
              "      resolve(e.target.files);\n",
              "    });\n",
              "  });\n",
              "\n",
              "  const cancel = document.createElement('button');\n",
              "  inputElement.parentElement.appendChild(cancel);\n",
              "  cancel.textContent = 'Cancel upload';\n",
              "  const cancelPromise = new Promise((resolve) => {\n",
              "    cancel.onclick = () => {\n",
              "      resolve(null);\n",
              "    };\n",
              "  });\n",
              "\n",
              "  // Wait for the user to pick the files.\n",
              "  const files = yield {\n",
              "    promise: Promise.race([pickedPromise, cancelPromise]),\n",
              "    response: {\n",
              "      action: 'starting',\n",
              "    }\n",
              "  };\n",
              "\n",
              "  cancel.remove();\n",
              "\n",
              "  // Disable the input element since further picks are not allowed.\n",
              "  inputElement.disabled = true;\n",
              "\n",
              "  if (!files) {\n",
              "    return {\n",
              "      response: {\n",
              "        action: 'complete',\n",
              "      }\n",
              "    };\n",
              "  }\n",
              "\n",
              "  for (const file of files) {\n",
              "    const li = document.createElement('li');\n",
              "    li.append(span(file.name, {fontWeight: 'bold'}));\n",
              "    li.append(span(\n",
              "        `(${file.type || 'n/a'}) - ${file.size} bytes, ` +\n",
              "        `last modified: ${\n",
              "            file.lastModifiedDate ? file.lastModifiedDate.toLocaleDateString() :\n",
              "                                    'n/a'} - `));\n",
              "    const percent = span('0% done');\n",
              "    li.appendChild(percent);\n",
              "\n",
              "    outputElement.appendChild(li);\n",
              "\n",
              "    const fileDataPromise = new Promise((resolve) => {\n",
              "      const reader = new FileReader();\n",
              "      reader.onload = (e) => {\n",
              "        resolve(e.target.result);\n",
              "      };\n",
              "      reader.readAsArrayBuffer(file);\n",
              "    });\n",
              "    // Wait for the data to be ready.\n",
              "    let fileData = yield {\n",
              "      promise: fileDataPromise,\n",
              "      response: {\n",
              "        action: 'continue',\n",
              "      }\n",
              "    };\n",
              "\n",
              "    // Use a chunked sending to avoid message size limits. See b/62115660.\n",
              "    let position = 0;\n",
              "    do {\n",
              "      const length = Math.min(fileData.byteLength - position, MAX_PAYLOAD_SIZE);\n",
              "      const chunk = new Uint8Array(fileData, position, length);\n",
              "      position += length;\n",
              "\n",
              "      const base64 = btoa(String.fromCharCode.apply(null, chunk));\n",
              "      yield {\n",
              "        response: {\n",
              "          action: 'append',\n",
              "          file: file.name,\n",
              "          data: base64,\n",
              "        },\n",
              "      };\n",
              "\n",
              "      let percentDone = fileData.byteLength === 0 ?\n",
              "          100 :\n",
              "          Math.round((position / fileData.byteLength) * 100);\n",
              "      percent.textContent = `${percentDone}% done`;\n",
              "\n",
              "    } while (position < fileData.byteLength);\n",
              "  }\n",
              "\n",
              "  // All done.\n",
              "  yield {\n",
              "    response: {\n",
              "      action: 'complete',\n",
              "    }\n",
              "  };\n",
              "}\n",
              "\n",
              "scope.google = scope.google || {};\n",
              "scope.google.colab = scope.google.colab || {};\n",
              "scope.google.colab._files = {\n",
              "  _uploadFiles,\n",
              "  _uploadFilesContinue,\n",
              "};\n",
              "})(self);\n",
              "</script> "
            ]
          },
          "metadata": {}
        },
        {
          "output_type": "stream",
          "name": "stdout",
          "text": [
            "Saving openai_api_key.txt to openai_api_key.txt\n"
          ]
        }
      ]
    },
    {
      "cell_type": "markdown",
      "metadata": {
        "id": "XTGeiP0JuGL1"
      },
      "source": [
        "### Step 2: Config DSPy with openAI\n",
        "- You `MUST` have an openAI api key\n",
        "- Load an openAI api key from `openai_api_key.txt` file\n",
        "- or, hard code your open api key"
      ]
    },
    {
      "cell_type": "code",
      "execution_count": 3,
      "metadata": {
        "id": "M4E5gkkiuGL1"
      },
      "outputs": [],
      "source": [
        "def set_dspy():\n",
        "    # ==============set openAI enviroment=========\n",
        "    # Path to your API key file\n",
        "    key_file_path = \"openai_api_key.txt\"\n",
        "\n",
        "    # Load the API key from the file\n",
        "    with open(key_file_path, \"r\") as file:\n",
        "        openai_api_key = file.read().strip()\n",
        "\n",
        "    # Set the API key as an environment variable\n",
        "    os.environ[\"OPENAI_API_KEY\"] = openai_api_key\n",
        "    openai.api_key = os.environ[\"OPENAI_API_KEY\"]\n",
        "    turbo = dspy.OpenAI(model=\"gpt-3.5-turbo\", max_tokens=2000, temperature=0.5)\n",
        "    dspy.settings.configure(lm=turbo)\n",
        "    return turbo\n",
        "    # ==============end of set openAI enviroment=========\n",
        "\n",
        "\n",
        "def set_dspy_hardcode_openai_key():\n",
        "    # \"tMq-fOFjuDB80LIjdPdmVibgoYZamwlfEjU635n37WWKjuNEsbX2WQML-Rns5BYwbrX0-qxLgrT3BlbkFJz2vo7FT9JAj_TPucTMpsdLq2QaNYuysLphE0Wg2ENUBOmWt6lMHjl1sq4_Oac-oh3yP0V4\"\n",
        "    os.environ[\"OPENAI_API_KEY\"] = (\n",
        "        \"sk-proj-yourapikeyhere\"\n",
        "    )\n",
        "    openai.api_key = os.environ[\"OPENAI_API_KEY\"]\n",
        "    turbo = dspy.OpenAI(model=\"gpt-3.5-turbo\",  temperature=0, max_tokens=2000)\n",
        "    dspy.settings.configure(lm=turbo)\n",
        "    return turbo\n",
        "\n",
        "# provide `openai_api_key.txt` with your openAI api key\n",
        "turbo=set_dspy()\n",
        "# optionally, hard code your openAI api key at line 21\n",
        "# turbo=set_dspy_hardcode_openai_key()"
      ]
    },
    {
      "cell_type": "markdown",
      "metadata": {
        "id": "yYbJ65Z5uGL1"
      },
      "source": [
        "### Step 3: Load the cyber incident repot (e.g., conversation)"
      ]
    },
    {
      "cell_type": "code",
      "execution_count": 4,
      "metadata": {
        "id": "gI1cuf7fuGL1",
        "outputId": "4841061e-609a-4a04-8c47-3e96cbc2d095",
        "colab": {
          "base_uri": "https://localhost:8080/"
        }
      },
      "outputs": [
        {
          "output_type": "stream",
          "name": "stdout",
          "text": [
            "Alice: Hey Bob, I just got a strange email from support@banksecure.com. It says I need to verify my account details urgently. The subject line was \"Urgent: Verify Your Account Now\". The email looks suspicious to me.\n",
            "\n",
            "Bob: Hi Alice, that does sound fishy. Can you forward me the email? I’ll take a look at the headers to see where it came from.\n",
            "\n",
            "Alice: Sure, forwarding it now.\n",
            "\n",
            "Bob: Got it. Let’s see... The email came from IP address 192.168.10.45, but the domain banksecure.com is not their official domain. It's actually registered to someone in Russia.\n",
            "\n",
            "Alice: That’s definitely not right. Should I be worried?\n",
            "\n",
            "Bob: We should investigate further. Did you click on any links or download any attachments?\n",
            "\n",
            "Alice: I did click on a link that took me to a page asking for my login credentials. I didn't enter anything though. The URL was http://banksecure-verification.com/login.\n",
            "\n",
            "Bob: Good call on not entering your details. Let’s check the URL. This domain was just registered two days ago. It’s highly likely it’s a phishing site.\n",
            "\n",
            "Alice: What should I do next?\n",
            "\n",
            "Bob: First, clear your browser history and cache. Also, run a full antivirus scan on your computer. Can you also provide me with any browser history entries and cookies from that session?\n",
            "\n",
            "Alice: I’ve cleared the history and started the antivirus scan. Here are the relevant entries from my browser history:\n",
            "Visited at 10:15 AM: http://banksecure-verification.com/login\n",
            "Visited at 10:17 AM: http://banksecure-verification.com/account-details\n",
            "\n",
            "Bob: Thanks. I’ll analyze these URLs further. Also, check if there are any suspicious files downloaded or present in your downloads folder. Look for anything unusual.\n",
            "\n",
            "Alice: There's a file named \"AccountDetails.exe\" that I don’t remember downloading. It was created at 10:20 AM.\n",
            "\n",
            "Bob: Definitely suspicious. Don’t open it. Let’s hash the file to verify its integrity. Can you run an MD5 hash on it?\n",
            "\n",
            "Alice: Done. The MD5 hash is e99a18c428cb38d5f260853678922e03.\n",
            "\n",
            "Bob: This hash matches known malware in our database. We’ll need to quarantine it and check if it has established any network connections. I’ll look into our network logs for the IP 192.168.10.45 around 10:20 AM.\n",
            "\n",
            "Alice: Is there anything else I need to do?\n",
            "\n",
            "Bob: For now, avoid using your computer for sensitive tasks. We’ll also reset your passwords from a different device and enable two-factor authentication on your accounts.\n",
            "\n",
            "Alice: Thanks, Bob. I’ll follow these steps immediately.\n"
          ]
        }
      ],
      "source": [
        "def load_text_file(file_path):\n",
        "    \"\"\"\n",
        "    Load a text file and return its contents as a string.\n",
        "\n",
        "    Parameters:\n",
        "    file_path (str): The path to the text file.\n",
        "\n",
        "    Returns:\n",
        "    str: The contents of the text file.\n",
        "    \"\"\"\n",
        "    try:\n",
        "        with open(file_path, \"r\") as file:\n",
        "            contents = file.read()\n",
        "        return contents\n",
        "    except FileNotFoundError:\n",
        "        return \"File not found.\"\n",
        "    except Exception as e:\n",
        "        return f\"An error occurred: {e}\"\n",
        "\n",
        "conversation = load_text_file(\"conversation.txt\")\n",
        "print(conversation)"
      ]
    },
    {
      "cell_type": "markdown",
      "metadata": {
        "id": "wKs4J5g4uGL2"
      },
      "source": [
        "### Step 4: Tell an LLM `WHAT` are the inputs/outputs by defining DSPy: Signature\n",
        "\n",
        "- A signature is one of the basic building blocks in DSPy's prompt programming\n",
        "- It is a declarative specification of input/output behavior of a DSPy module\n",
        "    - Think about a function signature\n",
        "- Allow you to tell the LLM what it needs to do.\n",
        "    - Don't need to specify how we should ask the LLM to do it.\n",
        "- The following signature identifies a list of evidence based on the conversation\n",
        "    - Inherit from `dspy.Signature`\n",
        "    - Exact `ONE` input, e.g., the conversation\n",
        "    - Exact `ONE` output, e.g., a list of evidence entities\n",
        "\n",
        "### The following `EvidenceIdentifier` is equivalent to\n",
        "\n",
        "```\n",
        "Identify evidence entities from a conversation ....\n",
        "---\n",
        "Follow the following format.\n",
        "Question: a conversation between an IT Security Specialist and Employe\n",
        "Answer: a list of evidence, inlcuding ...\n",
        "---\n",
        "Question: {a new unseen conversation}\n",
        "Answer: write your answer here\n",
        "```\n"
      ]
    },
    {
      "cell_type": "code",
      "execution_count": 5,
      "metadata": {
        "id": "zUbry3gpuGL2"
      },
      "outputs": [],
      "source": [
        "class EvidenceIdentifier(dspy.Signature):\n",
        "    \"\"\"Identify evidence entities from a conversation between an IT Security Specialist and an Employee.\"\"\"\n",
        "\n",
        "    question = dspy.InputField(\n",
        "        desc=\"a conversation between an IT Security Specialist and Employee.\"\n",
        "    )\n",
        "    answer = dspy.OutputField(\n",
        "        desc=\"a list of evidence, inlcuding but not limited to emails, IP addresses, URLs, File names, timestamps, etc, in the conversation as a Python dictionary. For example, {evidence type: evidence value, ...}\"\n",
        "    )"
      ]
    },
    {
      "cell_type": "markdown",
      "metadata": {
        "id": "78GzMiM7uGL2"
      },
      "source": [
        "### Step 5: Tell an LLM `HOW` to generate answer in a function:\n",
        "\n",
        "Generates and saves evidence from a conversation using a specified signature.\n",
        "\n",
        "#### Parameters:\n",
        "- `signature` (dspy.Signature): The signature defining the input and output structure for evidence identification.\n",
        "- `conversation` (str): The conversation text to analyze for evidence.\n",
        "- `output_file` (str): The file path where the identified evidence will be saved as JSON.\n",
        "\n",
        "#### Returns:\n",
        "None. The function saves the result to a file and prints a confirmation message.\n",
        "\n",
        "#### Notes:\n",
        "- This function uses `dspy.Predict` to process the conversation and identify evidence.\n",
        "- The result is saved as a formatted JSON file.\n",
        "- The function prints the result to the console and saves it to the specified file."
      ]
    },
    {
      "cell_type": "code",
      "execution_count": 6,
      "metadata": {
        "id": "D11iOX6UuGL2"
      },
      "outputs": [],
      "source": [
        "def generate_answer(signature, conversation, output_file):\n",
        "    generate_answer = dspy.Predict(signature)\n",
        "    answer=generate_answer(question=conversation).answer  # here we use the module\n",
        "\n",
        "    with open(output_file, \"w\") as json_file:\n",
        "        result = json.loads(answer)\n",
        "        print(result)\n",
        "        json.dump(result, json_file, indent=4)\n",
        "    print(f\"The evidence has been saved to the file {output_file}\")"
      ]
    },
    {
      "cell_type": "markdown",
      "metadata": {
        "id": "JN-uIYPwuGL3"
      },
      "source": [
        "### Step 6: Execute above function and generate entities with three inputs\n",
        "- Which signature: `EvidenceIdentifier`\n",
        "- What input: conversation\n",
        "- Where to save results: the name of output file"
      ]
    },
    {
      "cell_type": "code",
      "execution_count": 7,
      "metadata": {
        "id": "Avkn4SwhuGL3",
        "outputId": "de9cbb73-f89b-46a7-eb53-77f85bc3342b",
        "colab": {
          "base_uri": "https://localhost:8080/"
        }
      },
      "outputs": [
        {
          "output_type": "stream",
          "name": "stdout",
          "text": [
            "{'Email From': 'support@banksecure.com', 'Subject': 'Urgent: Verify Your Account Now', 'IP Address': '192.168.10.45', 'Domain': 'banksecure.com', 'URLs': ['http://banksecure-verification.com/login', 'http://banksecure-verification.com/account-details'], 'File Downloaded': 'AccountDetails.exe', 'File Hash (MD5)': 'e99a18c428cb38d5f260853678922e03', 'Timestamps': {'Email Received': '10:15 AM', 'File Created': '10:20 AM'}}\n",
            "The evidence has been saved to the file 01_output_entity.txt\n"
          ]
        }
      ],
      "source": [
        "output_file = \"01_output_entity.txt\"\n",
        "generate_answer(\n",
        "    EvidenceIdentifier, conversation,\n",
        "    output_file,\n",
        ")"
      ]
    },
    {
      "cell_type": "markdown",
      "metadata": {
        "id": "737848MquGL3"
      },
      "source": [
        "### Step 7: Inspect the last prompt send to the LLM\n",
        "\n",
        "You want to check:\n",
        "- Prompt Description Section: Description in the signature\n",
        "- Format Section: `Following the following format.`\n",
        "- Result Section: Question (scenario) and Answer (entities) section"
      ]
    },
    {
      "cell_type": "code",
      "execution_count": 8,
      "metadata": {
        "id": "-yAjzgsauGL3",
        "outputId": "31d2ed37-b1c3-419a-e71d-2d4901945519",
        "colab": {
          "base_uri": "https://localhost:8080/",
          "height": 785
        }
      },
      "outputs": [
        {
          "output_type": "stream",
          "name": "stdout",
          "text": [
            "\n",
            "\n",
            "\n",
            "Identify evidence entities from a conversation between an IT Security Specialist and an Employee.\n",
            "\n",
            "---\n",
            "\n",
            "Follow the following format.\n",
            "\n",
            "Question: a conversation between an IT Security Specialist and Employee.\n",
            "Answer: a list of evidence, inlcuding but not limited to emails, IP addresses, URLs, File names, timestamps, etc, in the conversation as a Python dictionary. For example, {evidence type: evidence value, ...}\n",
            "\n",
            "---\n",
            "\n",
            "Question: Alice: Hey Bob, I just got a strange email from support@banksecure.com. It says I need to verify my account details urgently. The subject line was \"Urgent: Verify Your Account Now\". The email looks suspicious to me. Bob: Hi Alice, that does sound fishy. Can you forward me the email? I’ll take a look at the headers to see where it came from. Alice: Sure, forwarding it now. Bob: Got it. Let’s see... The email came from IP address 192.168.10.45, but the domain banksecure.com is not their official domain. It's actually registered to someone in Russia. Alice: That’s definitely not right. Should I be worried? Bob: We should investigate further. Did you click on any links or download any attachments? Alice: I did click on a link that took me to a page asking for my login credentials. I didn't enter anything though. The URL was http://banksecure-verification.com/login. Bob: Good call on not entering your details. Let’s check the URL. This domain was just registered two days ago. It’s highly likely it’s a phishing site. Alice: What should I do next? Bob: First, clear your browser history and cache. Also, run a full antivirus scan on your computer. Can you also provide me with any browser history entries and cookies from that session? Alice: I’ve cleared the history and started the antivirus scan. Here are the relevant entries from my browser history: Visited at 10:15 AM: http://banksecure-verification.com/login Visited at 10:17 AM: http://banksecure-verification.com/account-details Bob: Thanks. I’ll analyze these URLs further. Also, check if there are any suspicious files downloaded or present in your downloads folder. Look for anything unusual. Alice: There's a file named \"AccountDetails.exe\" that I don’t remember downloading. It was created at 10:20 AM. Bob: Definitely suspicious. Don’t open it. Let’s hash the file to verify its integrity. Can you run an MD5 hash on it? Alice: Done. The MD5 hash is e99a18c428cb38d5f260853678922e03. Bob: This hash matches known malware in our database. We’ll need to quarantine it and check if it has established any network connections. I’ll look into our network logs for the IP 192.168.10.45 around 10:20 AM. Alice: Is there anything else I need to do? Bob: For now, avoid using your computer for sensitive tasks. We’ll also reset your passwords from a different device and enable two-factor authentication on your accounts. Alice: Thanks, Bob. I’ll follow these steps immediately.\n",
            "Answer:\u001b[32m {\n",
            "  \"Email From\": \"support@banksecure.com\",\n",
            "  \"Subject\": \"Urgent: Verify Your Account Now\",\n",
            "  \"IP Address\": \"192.168.10.45\",\n",
            "  \"Domain\": \"banksecure.com\",\n",
            "  \"URLs\": [\"http://banksecure-verification.com/login\", \"http://banksecure-verification.com/account-details\"],\n",
            "  \"File Downloaded\": \"AccountDetails.exe\",\n",
            "  \"File Hash (MD5)\": \"e99a18c428cb38d5f260853678922e03\",\n",
            "  \"Timestamps\": {\n",
            "    \"Email Received\": \"10:15 AM\",\n",
            "    \"File Created\": \"10:20 AM\"\n",
            "  }\n",
            "}\u001b[0m\n",
            "\n",
            "\n",
            "\n"
          ]
        },
        {
          "output_type": "execute_result",
          "data": {
            "text/plain": [
              "'\\n\\n\\nIdentify evidence entities from a conversation between an IT Security Specialist and an Employee.\\n\\n---\\n\\nFollow the following format.\\n\\nQuestion: a conversation between an IT Security Specialist and Employee.\\nAnswer: a list of evidence, inlcuding but not limited to emails, IP addresses, URLs, File names, timestamps, etc, in the conversation as a Python dictionary. For example, {evidence type: evidence value, ...}\\n\\n---\\n\\nQuestion: Alice: Hey Bob, I just got a strange email from support@banksecure.com. It says I need to verify my account details urgently. The subject line was \"Urgent: Verify Your Account Now\". The email looks suspicious to me. Bob: Hi Alice, that does sound fishy. Can you forward me the email? I’ll take a look at the headers to see where it came from. Alice: Sure, forwarding it now. Bob: Got it. Let’s see... The email came from IP address 192.168.10.45, but the domain banksecure.com is not their official domain. It\\'s actually registered to someone in Russia. Alice: That’s definitely not right. Should I be worried? Bob: We should investigate further. Did you click on any links or download any attachments? Alice: I did click on a link that took me to a page asking for my login credentials. I didn\\'t enter anything though. The URL was http://banksecure-verification.com/login. Bob: Good call on not entering your details. Let’s check the URL. This domain was just registered two days ago. It’s highly likely it’s a phishing site. Alice: What should I do next? Bob: First, clear your browser history and cache. Also, run a full antivirus scan on your computer. Can you also provide me with any browser history entries and cookies from that session? Alice: I’ve cleared the history and started the antivirus scan. Here are the relevant entries from my browser history: Visited at 10:15 AM: http://banksecure-verification.com/login Visited at 10:17 AM: http://banksecure-verification.com/account-details Bob: Thanks. I’ll analyze these URLs further. Also, check if there are any suspicious files downloaded or present in your downloads folder. Look for anything unusual. Alice: There\\'s a file named \"AccountDetails.exe\" that I don’t remember downloading. It was created at 10:20 AM. Bob: Definitely suspicious. Don’t open it. Let’s hash the file to verify its integrity. Can you run an MD5 hash on it? Alice: Done. The MD5 hash is e99a18c428cb38d5f260853678922e03. Bob: This hash matches known malware in our database. We’ll need to quarantine it and check if it has established any network connections. I’ll look into our network logs for the IP 192.168.10.45 around 10:20 AM. Alice: Is there anything else I need to do? Bob: For now, avoid using your computer for sensitive tasks. We’ll also reset your passwords from a different device and enable two-factor authentication on your accounts. Alice: Thanks, Bob. I’ll follow these steps immediately.\\nAnswer:\\x1b[32m {\\n  \"Email From\": \"support@banksecure.com\",\\n  \"Subject\": \"Urgent: Verify Your Account Now\",\\n  \"IP Address\": \"192.168.10.45\",\\n  \"Domain\": \"banksecure.com\",\\n  \"URLs\": [\"http://banksecure-verification.com/login\", \"http://banksecure-verification.com/account-details\"],\\n  \"File Downloaded\": \"AccountDetails.exe\",\\n  \"File Hash (MD5)\": \"e99a18c428cb38d5f260853678922e03\",\\n  \"Timestamps\": {\\n    \"Email Received\": \"10:15 AM\",\\n    \"File Created\": \"10:20 AM\"\\n  }\\n}\\x1b[0m\\n\\n\\n'"
            ],
            "application/vnd.google.colaboratory.intrinsic+json": {
              "type": "string"
            }
          },
          "metadata": {},
          "execution_count": 8
        }
      ],
      "source": [
        "turbo.inspect_history(n=1)"
      ]
    },
    {
      "cell_type": "markdown",
      "metadata": {
        "id": "j0GTZ5OouGL3"
      },
      "source": [
        "## A tutorial to identify `evidence relationship` from a cyber incident report\n",
        "\n",
        "The cyber incident report records a conversation between an IT Security Specialist and an Employee. The conversation describes an email phishing attack scenario.\n",
        "\n",
        "### Goal\n",
        "- In addition to a list of evidence entities, we want to identify a list of `relationships` between entities"
      ]
    },
    {
      "cell_type": "markdown",
      "metadata": {
        "id": "1yZIhXw9uGL3"
      },
      "source": [
        "### Step 1: Define a signature that identifies a list of `relationships` in the conversation\n",
        "\n",
        "It is important to note that:\n",
        "- There is ONE input\n",
        "    - Cyber incident conversation\n",
        "- There are `TWO` outputs:\n",
        "    - a list of entities\n",
        "    - a list of relationships"
      ]
    },
    {
      "cell_type": "code",
      "execution_count": 9,
      "metadata": {
        "id": "XXHpRj68uGL3"
      },
      "outputs": [],
      "source": [
        "class EvidenceRelationIdentifier(dspy.Signature):\n",
        "    \"\"\"Idenitfy evidence entities and their relationships from a conversation between -Alex (IT Security Specialist) and Taylor (Employee).\"\"\"\n",
        "\n",
        "    question = dspy.InputField(\n",
        "        desc=\"a conversation between -Alex (IT Security Specialist) and Bob (Employee).\"\n",
        "    )\n",
        "\n",
        "    answer_relations: str = dspy.OutputField(\n",
        "        desc=\"relatioinships between evidence entities. Output in JSON format: {Relationship name: evidence -> evidence, ...}.\"\n",
        "    )\n",
        "\n",
        "    answer_evidence : str = dspy.OutputField(\n",
        "        desc=\"a list of evidence type and the value, inlcuding but not limited to emaile, IP address, URL, File name, timestamps, etc, idenified from the conversation. Output in JSON format: {evidence type: evidence value, ...}\"\n",
        "    )"
      ]
    },
    {
      "cell_type": "markdown",
      "metadata": {
        "id": "gNaAPmvFuGL3"
      },
      "source": [
        "### Step 2: A function that can receive two outputs\n",
        "\n",
        "We have to revise the function `generate_answer()` so that we can receive two outputs. The following function `generate_answers` can receive two outputs from a LLM (e.g, openAI)\n",
        "- a list of entities\n",
        "- a list of relationships"
      ]
    },
    {
      "cell_type": "code",
      "execution_count": 10,
      "metadata": {
        "id": "5QoYmqmiuGL3"
      },
      "outputs": [],
      "source": [
        "# deal with multiple output fields\n",
        "def generate_answers(\n",
        "    signature, conversation, output_file, attributes_to_extract=[\"answer\"]\n",
        "):\n",
        "    generate_answer = dspy.Predict(signature)\n",
        "    result = generate_answer(question=conversation)  # Call the module\n",
        "    print(result)\n",
        "\n",
        "    # Write the answers to the JSON file\n",
        "    with open(output_file, \"w\") as json_file:\n",
        "        # Extract specified attributes\n",
        "        for attr in attributes_to_extract:\n",
        "            if hasattr(result, attr):\n",
        "                # print(attr)\n",
        "                # print(getattr(result, attr))\n",
        "                # json_file.write(getattr(result, attr))\n",
        "                results = json.loads(getattr(result, attr))\n",
        "\n",
        "                json.dump(results, json_file, indent=4)\n",
        "\n",
        "            else:\n",
        "                print(f\"Warning: Attribute '{attr}' not found in the result.\")\n",
        "\n",
        "    print(f\"The evidence has been saved to the file {output_file}\")"
      ]
    },
    {
      "cell_type": "markdown",
      "metadata": {
        "id": "LmLxSUpIuGL3"
      },
      "source": [
        "### Step 3: Execute code to generate evidences and relations\n",
        "- Input 1: Signature: E`videnceRelationIdentifier`\n",
        "- Input 2: a conversation\n",
        "- Output 1: a file that saves entities and relations\n",
        "- Output 2: a list of entities and relations"
      ]
    },
    {
      "cell_type": "code",
      "execution_count": 11,
      "metadata": {
        "id": "Y_vu9w6AuGL4",
        "outputId": "4b627118-fde4-44b3-fc12-09bcff8751d0",
        "colab": {
          "base_uri": "https://localhost:8080/"
        }
      },
      "outputs": [
        {
          "output_type": "stream",
          "name": "stdout",
          "text": [
            "Prediction(\n",
            "    answer_relations='{\\n\"Email Header Analysis\": \"email -> IP address\",\\n\"Domain Registration\": \"domain -> registration details\",\\n\"Phishing Site Detection\": \"URL -> domain registration\",\\n\"Browser History Analysis\": \"browser history -> URLs visited\",\\n\"File Analysis\": \"file name -> creation timestamp\",\\n\"File Integrity Verification\": \"file -> MD5 hash\",\\n\"Network Connection Analysis\": \"IP address -> network logs\"\\n}',\n",
            "    answer_evidence='{\\n\"Email\": \"support@banksecure.com\",\\n\"Subject\": \"Urgent: Verify Your Account Now\",\\n\"IP address\": \"192.168.10.45\",\\n\"Domain\": \"banksecure.com\",\\n\"URL\": \"http://banksecure-verification.com/login\",\\n\"File name\": \"AccountDetails.exe\",\\n\"MD5 hash\": \"e99a18c428cb38d5f260853678922e03\",\\n\"Timestamps\": \"10:15 AM, 10:17 AM, 10:20 AM\"\\n}'\n",
            ")\n",
            "The evidence has been saved to the file 01_output_entity_relation.txt\n"
          ]
        }
      ],
      "source": [
        "output_file = \"01_output_entity_relation.txt\"\n",
        "generate_answers(\n",
        "    EvidenceRelationIdentifier,\n",
        "    conversation,\n",
        "    output_file,\n",
        "    [\"answer_evidence\", \"answer_relations\"],\n",
        ")"
      ]
    },
    {
      "cell_type": "code",
      "execution_count": 12,
      "metadata": {
        "id": "QT7dnCNCuGL4",
        "outputId": "18acf18c-8efa-4834-85e7-394513c7b9a4",
        "colab": {
          "base_uri": "https://localhost:8080/",
          "height": 941
        }
      },
      "outputs": [
        {
          "output_type": "stream",
          "name": "stdout",
          "text": [
            "\n",
            "\n",
            "\n",
            "Idenitfy evidence entities and their relationships from a conversation between -Alex (IT Security Specialist) and Taylor (Employee).\n",
            "\n",
            "---\n",
            "\n",
            "Follow the following format.\n",
            "\n",
            "Question: a conversation between -Alex (IT Security Specialist) and Bob (Employee).\n",
            "Answer Relations: relatioinships between evidence entities. Output in JSON format: {Relationship name: evidence -> evidence, ...}.\n",
            "Answer Evidence: a list of evidence type and the value, inlcuding but not limited to emaile, IP address, URL, File name, timestamps, etc, idenified from the conversation. Output in JSON format: {evidence type: evidence value, ...}\n",
            "\n",
            "---\n",
            "\n",
            "Question: Alice: Hey Bob, I just got a strange email from support@banksecure.com. It says I need to verify my account details urgently. The subject line was \"Urgent: Verify Your Account Now\". The email looks suspicious to me. Bob: Hi Alice, that does sound fishy. Can you forward me the email? I’ll take a look at the headers to see where it came from. Alice: Sure, forwarding it now. Bob: Got it. Let’s see... The email came from IP address 192.168.10.45, but the domain banksecure.com is not their official domain. It's actually registered to someone in Russia. Alice: That’s definitely not right. Should I be worried? Bob: We should investigate further. Did you click on any links or download any attachments? Alice: I did click on a link that took me to a page asking for my login credentials. I didn't enter anything though. The URL was http://banksecure-verification.com/login. Bob: Good call on not entering your details. Let’s check the URL. This domain was just registered two days ago. It’s highly likely it’s a phishing site. Alice: What should I do next? Bob: First, clear your browser history and cache. Also, run a full antivirus scan on your computer. Can you also provide me with any browser history entries and cookies from that session? Alice: I’ve cleared the history and started the antivirus scan. Here are the relevant entries from my browser history: Visited at 10:15 AM: http://banksecure-verification.com/login Visited at 10:17 AM: http://banksecure-verification.com/account-details Bob: Thanks. I’ll analyze these URLs further. Also, check if there are any suspicious files downloaded or present in your downloads folder. Look for anything unusual. Alice: There's a file named \"AccountDetails.exe\" that I don’t remember downloading. It was created at 10:20 AM. Bob: Definitely suspicious. Don’t open it. Let’s hash the file to verify its integrity. Can you run an MD5 hash on it? Alice: Done. The MD5 hash is e99a18c428cb38d5f260853678922e03. Bob: This hash matches known malware in our database. We’ll need to quarantine it and check if it has established any network connections. I’ll look into our network logs for the IP 192.168.10.45 around 10:20 AM. Alice: Is there anything else I need to do? Bob: For now, avoid using your computer for sensitive tasks. We’ll also reset your passwords from a different device and enable two-factor authentication on your accounts. Alice: Thanks, Bob. I’ll follow these steps immediately.\n",
            "Answer Relations:\u001b[32m {\n",
            "\"Email Header Analysis\": \"email -> IP address\",\n",
            "\"Domain Registration\": \"domain -> registration details\",\n",
            "\"Phishing Site Detection\": \"URL -> domain registration\",\n",
            "\"Browser History Analysis\": \"browser history -> URLs visited\",\n",
            "\"File Analysis\": \"file name -> creation timestamp\",\n",
            "\"File Integrity Verification\": \"file -> MD5 hash\",\n",
            "\"Network Connection Analysis\": \"IP address -> network logs\"\n",
            "} \n",
            "\n",
            "Answer Evidence: \n",
            "{\n",
            "\"Email\": \"support@banksecure.com\",\n",
            "\"Subject\": \"Urgent: Verify Your Account Now\",\n",
            "\"IP address\": \"192.168.10.45\",\n",
            "\"Domain\": \"banksecure.com\",\n",
            "\"URL\": \"http://banksecure-verification.com/login\",\n",
            "\"File name\": \"AccountDetails.exe\",\n",
            "\"MD5 hash\": \"e99a18c428cb38d5f260853678922e03\",\n",
            "\"Timestamps\": \"10:15 AM, 10:17 AM, 10:20 AM\"\n",
            "}\u001b[0m\n",
            "\n",
            "\n",
            "\n"
          ]
        },
        {
          "output_type": "execute_result",
          "data": {
            "text/plain": [
              "'\\n\\n\\nIdenitfy evidence entities and their relationships from a conversation between -Alex (IT Security Specialist) and Taylor (Employee).\\n\\n---\\n\\nFollow the following format.\\n\\nQuestion: a conversation between -Alex (IT Security Specialist) and Bob (Employee).\\nAnswer Relations: relatioinships between evidence entities. Output in JSON format: {Relationship name: evidence -> evidence, ...}.\\nAnswer Evidence: a list of evidence type and the value, inlcuding but not limited to emaile, IP address, URL, File name, timestamps, etc, idenified from the conversation. Output in JSON format: {evidence type: evidence value, ...}\\n\\n---\\n\\nQuestion: Alice: Hey Bob, I just got a strange email from support@banksecure.com. It says I need to verify my account details urgently. The subject line was \"Urgent: Verify Your Account Now\". The email looks suspicious to me. Bob: Hi Alice, that does sound fishy. Can you forward me the email? I’ll take a look at the headers to see where it came from. Alice: Sure, forwarding it now. Bob: Got it. Let’s see... The email came from IP address 192.168.10.45, but the domain banksecure.com is not their official domain. It\\'s actually registered to someone in Russia. Alice: That’s definitely not right. Should I be worried? Bob: We should investigate further. Did you click on any links or download any attachments? Alice: I did click on a link that took me to a page asking for my login credentials. I didn\\'t enter anything though. The URL was http://banksecure-verification.com/login. Bob: Good call on not entering your details. Let’s check the URL. This domain was just registered two days ago. It’s highly likely it’s a phishing site. Alice: What should I do next? Bob: First, clear your browser history and cache. Also, run a full antivirus scan on your computer. Can you also provide me with any browser history entries and cookies from that session? Alice: I’ve cleared the history and started the antivirus scan. Here are the relevant entries from my browser history: Visited at 10:15 AM: http://banksecure-verification.com/login Visited at 10:17 AM: http://banksecure-verification.com/account-details Bob: Thanks. I’ll analyze these URLs further. Also, check if there are any suspicious files downloaded or present in your downloads folder. Look for anything unusual. Alice: There\\'s a file named \"AccountDetails.exe\" that I don’t remember downloading. It was created at 10:20 AM. Bob: Definitely suspicious. Don’t open it. Let’s hash the file to verify its integrity. Can you run an MD5 hash on it? Alice: Done. The MD5 hash is e99a18c428cb38d5f260853678922e03. Bob: This hash matches known malware in our database. We’ll need to quarantine it and check if it has established any network connections. I’ll look into our network logs for the IP 192.168.10.45 around 10:20 AM. Alice: Is there anything else I need to do? Bob: For now, avoid using your computer for sensitive tasks. We’ll also reset your passwords from a different device and enable two-factor authentication on your accounts. Alice: Thanks, Bob. I’ll follow these steps immediately.\\nAnswer Relations:\\x1b[32m {\\n\"Email Header Analysis\": \"email -> IP address\",\\n\"Domain Registration\": \"domain -> registration details\",\\n\"Phishing Site Detection\": \"URL -> domain registration\",\\n\"Browser History Analysis\": \"browser history -> URLs visited\",\\n\"File Analysis\": \"file name -> creation timestamp\",\\n\"File Integrity Verification\": \"file -> MD5 hash\",\\n\"Network Connection Analysis\": \"IP address -> network logs\"\\n} \\n\\nAnswer Evidence: \\n{\\n\"Email\": \"support@banksecure.com\",\\n\"Subject\": \"Urgent: Verify Your Account Now\",\\n\"IP address\": \"192.168.10.45\",\\n\"Domain\": \"banksecure.com\",\\n\"URL\": \"http://banksecure-verification.com/login\",\\n\"File name\": \"AccountDetails.exe\",\\n\"MD5 hash\": \"e99a18c428cb38d5f260853678922e03\",\\n\"Timestamps\": \"10:15 AM, 10:17 AM, 10:20 AM\"\\n}\\x1b[0m\\n\\n\\n'"
            ],
            "application/vnd.google.colaboratory.intrinsic+json": {
              "type": "string"
            }
          },
          "metadata": {},
          "execution_count": 12
        }
      ],
      "source": [
        "turbo.inspect_history(n=1)"
      ]
    }
  ],
  "metadata": {
    "kernelspec": {
      "display_name": "Python 3",
      "language": "python",
      "name": "python3"
    },
    "language_info": {
      "codemirror_mode": {
        "name": "ipython",
        "version": 3
      },
      "file_extension": ".py",
      "mimetype": "text/x-python",
      "name": "python",
      "nbconvert_exporter": "python",
      "pygments_lexer": "ipython3",
      "version": "3.12.3"
    },
    "colab": {
      "provenance": []
    }
  },
  "nbformat": 4,
  "nbformat_minor": 0
}