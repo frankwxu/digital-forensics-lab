{
  "cells": [
    {
      "cell_type": "markdown",
      "id": "31a14103",
      "metadata": {
        "id": "31a14103"
      },
      "source": [
        "# 🔍 Cracking a Ransomware Case with ChatGPT-3.5\n",
        "This notebook uses your OpenAI API key to analyze a synthetic forensic log related to a ransomware case."
      ]
    },
    {
      "cell_type": "markdown",
      "source": [
        " The main motivation is to understand how LLMs can analyze forensic logs from a ransomware attack and generate concise summaries.\n",
        "\n",
        "## Goals of this lab ##\n",
        "\n",
        "Simulate a real-world ransomware investigation\n",
        "\n",
        "Apply Large Language Models (LLMs) for forensic reasoning\n",
        "\n",
        "Develop rapid incident response skills\n",
        "\n",
        "Prepare for modern AI-assisted forensics workflows\n"
      ],
      "metadata": {
        "id": "WasWNCXdfzQS"
      },
      "id": "WasWNCXdfzQS"
    },
    {
      "cell_type": "markdown",
      "source": [
        "This notebook is based on the story **\"Cracking a Ransomware Case with an AI Forensic Assistant\"**, which describes a ransomware incident at a financial firm on **November 2, 2024**. The company experienced a full system lockout, encrypted data, a dropped ransom note, and suspicious activity.\n",
        "\n",
        "A forensic team used an **LLM-powered assistant** to analyze browser history, PowerShell logs, file system changes, registry keys, and system reboots to trace the infection vector and generate a remediation plan.\n"
      ],
      "metadata": {
        "id": "fyGg8Qj0ghDO"
      },
      "id": "fyGg8Qj0ghDO"
    },
    {
      "cell_type": "code",
      "source": [
        "# uncomment the commands to download libraries and files\n",
        "#!pip install openai\n",
        "#!pip install python-dotenv\n",
        "#!pip install dspy-ai==2.4.17\n",
        "#!pip install graphviz\n",
        "\n",
        "\n",
        "import json\n",
        "import networkx as nx\n",
        "import matplotlib.pyplot as plt\n",
        "import openai\n"
      ],
      "metadata": {
        "id": "VYh_hvGgtzXh"
      },
      "id": "VYh_hvGgtzXh",
      "execution_count": null,
      "outputs": []
    },
    {
      "cell_type": "markdown",
      "id": "8beb538d",
      "metadata": {
        "id": "8beb538d"
      },
      "source": [
        "## Step 1: Set Your OpenAI API Key"
      ]
    },
    {
      "cell_type": "code",
      "source": [
        "from google.colab import files\n",
        "uploaded = files.upload()"
      ],
      "metadata": {
        "colab": {
          "base_uri": "https://localhost:8080/",
          "height": 73
        },
        "id": "jeNqtEJErTcr",
        "outputId": "4b5878e3-bf33-44f0-b948-90c9a2a2737d"
      },
      "id": "jeNqtEJErTcr",
      "execution_count": null,
      "outputs": [
        {
          "output_type": "display_data",
          "data": {
            "text/plain": [
              "<IPython.core.display.HTML object>"
            ],
            "text/html": [
              "\n",
              "     <input type=\"file\" id=\"files-c7205408-2022-4759-9fa5-0eabf00e0abf\" name=\"files[]\" multiple disabled\n",
              "        style=\"border:none\" />\n",
              "     <output id=\"result-c7205408-2022-4759-9fa5-0eabf00e0abf\">\n",
              "      Upload widget is only available when the cell has been executed in the\n",
              "      current browser session. Please rerun this cell to enable.\n",
              "      </output>\n",
              "      <script>// Copyright 2017 Google LLC\n",
              "//\n",
              "// Licensed under the Apache License, Version 2.0 (the \"License\");\n",
              "// you may not use this file except in compliance with the License.\n",
              "// You may obtain a copy of the License at\n",
              "//\n",
              "//      http://www.apache.org/licenses/LICENSE-2.0\n",
              "//\n",
              "// Unless required by applicable law or agreed to in writing, software\n",
              "// distributed under the License is distributed on an \"AS IS\" BASIS,\n",
              "// WITHOUT WARRANTIES OR CONDITIONS OF ANY KIND, either express or implied.\n",
              "// See the License for the specific language governing permissions and\n",
              "// limitations under the License.\n",
              "\n",
              "/**\n",
              " * @fileoverview Helpers for google.colab Python module.\n",
              " */\n",
              "(function(scope) {\n",
              "function span(text, styleAttributes = {}) {\n",
              "  const element = document.createElement('span');\n",
              "  element.textContent = text;\n",
              "  for (const key of Object.keys(styleAttributes)) {\n",
              "    element.style[key] = styleAttributes[key];\n",
              "  }\n",
              "  return element;\n",
              "}\n",
              "\n",
              "// Max number of bytes which will be uploaded at a time.\n",
              "const MAX_PAYLOAD_SIZE = 100 * 1024;\n",
              "\n",
              "function _uploadFiles(inputId, outputId) {\n",
              "  const steps = uploadFilesStep(inputId, outputId);\n",
              "  const outputElement = document.getElementById(outputId);\n",
              "  // Cache steps on the outputElement to make it available for the next call\n",
              "  // to uploadFilesContinue from Python.\n",
              "  outputElement.steps = steps;\n",
              "\n",
              "  return _uploadFilesContinue(outputId);\n",
              "}\n",
              "\n",
              "// This is roughly an async generator (not supported in the browser yet),\n",
              "// where there are multiple asynchronous steps and the Python side is going\n",
              "// to poll for completion of each step.\n",
              "// This uses a Promise to block the python side on completion of each step,\n",
              "// then passes the result of the previous step as the input to the next step.\n",
              "function _uploadFilesContinue(outputId) {\n",
              "  const outputElement = document.getElementById(outputId);\n",
              "  const steps = outputElement.steps;\n",
              "\n",
              "  const next = steps.next(outputElement.lastPromiseValue);\n",
              "  return Promise.resolve(next.value.promise).then((value) => {\n",
              "    // Cache the last promise value to make it available to the next\n",
              "    // step of the generator.\n",
              "    outputElement.lastPromiseValue = value;\n",
              "    return next.value.response;\n",
              "  });\n",
              "}\n",
              "\n",
              "/**\n",
              " * Generator function which is called between each async step of the upload\n",
              " * process.\n",
              " * @param {string} inputId Element ID of the input file picker element.\n",
              " * @param {string} outputId Element ID of the output display.\n",
              " * @return {!Iterable<!Object>} Iterable of next steps.\n",
              " */\n",
              "function* uploadFilesStep(inputId, outputId) {\n",
              "  const inputElement = document.getElementById(inputId);\n",
              "  inputElement.disabled = false;\n",
              "\n",
              "  const outputElement = document.getElementById(outputId);\n",
              "  outputElement.innerHTML = '';\n",
              "\n",
              "  const pickedPromise = new Promise((resolve) => {\n",
              "    inputElement.addEventListener('change', (e) => {\n",
              "      resolve(e.target.files);\n",
              "    });\n",
              "  });\n",
              "\n",
              "  const cancel = document.createElement('button');\n",
              "  inputElement.parentElement.appendChild(cancel);\n",
              "  cancel.textContent = 'Cancel upload';\n",
              "  const cancelPromise = new Promise((resolve) => {\n",
              "    cancel.onclick = () => {\n",
              "      resolve(null);\n",
              "    };\n",
              "  });\n",
              "\n",
              "  // Wait for the user to pick the files.\n",
              "  const files = yield {\n",
              "    promise: Promise.race([pickedPromise, cancelPromise]),\n",
              "    response: {\n",
              "      action: 'starting',\n",
              "    }\n",
              "  };\n",
              "\n",
              "  cancel.remove();\n",
              "\n",
              "  // Disable the input element since further picks are not allowed.\n",
              "  inputElement.disabled = true;\n",
              "\n",
              "  if (!files) {\n",
              "    return {\n",
              "      response: {\n",
              "        action: 'complete',\n",
              "      }\n",
              "    };\n",
              "  }\n",
              "\n",
              "  for (const file of files) {\n",
              "    const li = document.createElement('li');\n",
              "    li.append(span(file.name, {fontWeight: 'bold'}));\n",
              "    li.append(span(\n",
              "        `(${file.type || 'n/a'}) - ${file.size} bytes, ` +\n",
              "        `last modified: ${\n",
              "            file.lastModifiedDate ? file.lastModifiedDate.toLocaleDateString() :\n",
              "                                    'n/a'} - `));\n",
              "    const percent = span('0% done');\n",
              "    li.appendChild(percent);\n",
              "\n",
              "    outputElement.appendChild(li);\n",
              "\n",
              "    const fileDataPromise = new Promise((resolve) => {\n",
              "      const reader = new FileReader();\n",
              "      reader.onload = (e) => {\n",
              "        resolve(e.target.result);\n",
              "      };\n",
              "      reader.readAsArrayBuffer(file);\n",
              "    });\n",
              "    // Wait for the data to be ready.\n",
              "    let fileData = yield {\n",
              "      promise: fileDataPromise,\n",
              "      response: {\n",
              "        action: 'continue',\n",
              "      }\n",
              "    };\n",
              "\n",
              "    // Use a chunked sending to avoid message size limits. See b/62115660.\n",
              "    let position = 0;\n",
              "    do {\n",
              "      const length = Math.min(fileData.byteLength - position, MAX_PAYLOAD_SIZE);\n",
              "      const chunk = new Uint8Array(fileData, position, length);\n",
              "      position += length;\n",
              "\n",
              "      const base64 = btoa(String.fromCharCode.apply(null, chunk));\n",
              "      yield {\n",
              "        response: {\n",
              "          action: 'append',\n",
              "          file: file.name,\n",
              "          data: base64,\n",
              "        },\n",
              "      };\n",
              "\n",
              "      let percentDone = fileData.byteLength === 0 ?\n",
              "          100 :\n",
              "          Math.round((position / fileData.byteLength) * 100);\n",
              "      percent.textContent = `${percentDone}% done`;\n",
              "\n",
              "    } while (position < fileData.byteLength);\n",
              "  }\n",
              "\n",
              "  // All done.\n",
              "  yield {\n",
              "    response: {\n",
              "      action: 'complete',\n",
              "    }\n",
              "  };\n",
              "}\n",
              "\n",
              "scope.google = scope.google || {};\n",
              "scope.google.colab = scope.google.colab || {};\n",
              "scope.google.colab._files = {\n",
              "  _uploadFiles,\n",
              "  _uploadFilesContinue,\n",
              "};\n",
              "})(self);\n",
              "</script> "
            ]
          },
          "metadata": {}
        },
        {
          "output_type": "stream",
          "name": "stdout",
          "text": [
            "Saving synthetic_forensic_log.json to synthetic_forensic_log (2).json\n"
          ]
        }
      ]
    },
    {
      "cell_type": "code",
      "source": [
        "# Upload both the API key and the forensic JSON file\n",
        "from google.colab import files\n",
        "uploaded = files.upload()"
      ],
      "metadata": {
        "id": "MlHnjRCJt_it"
      },
      "id": "MlHnjRCJt_it",
      "execution_count": null,
      "outputs": []
    },
    {
      "cell_type": "markdown",
      "id": "4424e9a5",
      "metadata": {
        "id": "4424e9a5"
      },
      "source": [
        "## Step 2: Load Forensic Log"
      ]
    },
    {
      "cell_type": "code",
      "source": [
        "\n",
        "# Load OpenAI API key\n",
        "with open('openai_api_key.txt') as f:\n",
        "    openai.api_key = f.read().strip()\n",
        "\n",
        "# Load and sanitize the synthetic forensic log\n",
        "with open('synthetic_forensic_log.json', 'r') as f:\n",
        "    forensic_log = json.load(f)\n",
        "\n",
        "# Sanitize sensitive fields\n",
        "for key in forensic_log:\n",
        "    for entry in forensic_log[key]:\n",
        "        if 'url' in entry:\n",
        "            entry['url'] = '[REDACTED URL]'\n",
        "        if 'command' in entry:\n",
        "            entry['command'] = '[REDACTED PowerShell Command]'\n",
        "        if 'path' in entry and 'invoice_tool.exe' in entry['path']:\n",
        "            entry['path'] = entry['path'].replace('invoice_tool.exe', '[REDACTED FILE]')\n",
        "\n",
        "# Print the cleaned log\n",
        "for key in forensic_log:\n",
        "    print(f'[{key}]')\n",
        "    for item in forensic_log[key]:\n",
        "        print(item)\n",
        "    print('\\n')\n",
        "\n",
        "# Save the sanitized output to be used in graph visualization\n",
        "with open('output1.json', 'w') as f:\n",
        "    json.dump(forensic_log, f, indent=2)\n",
        "\n",
        "print(\" Cleaned log saved as output1.json\")\n"
      ],
      "metadata": {
        "id": "6p43xGm_uL4Q"
      },
      "id": "6p43xGm_uL4Q",
      "execution_count": null,
      "outputs": []
    },
    {
      "cell_type": "markdown",
      "id": "b2f2a62e",
      "metadata": {
        "id": "b2f2a62e"
      },
      "source": [
        "##  Step 3: Generate Natural Language Summary with ChatGPT-3.5"
      ]
    },
    {
      "cell_type": "code",
      "source": [
        "remediation_prompt = f\"\"\"\n",
        "You are a digital forensics assistant helping investigate a ransomware case using synthetic log data (educational purpose only).\n",
        "\n",
        "Based on the logs below, perform the following tasks:\n",
        "\n",
        "1. Identify how the ransomware was introduced into the system.\n",
        "2. List all suspicious or contaminated artifacts (files, registry keys, commands, etc.).\n",
        "3. Recommend step-by-step remediation and response actions.\n",
        "\n",
        "Only include these three sections in your response:\n",
        "- Infection Vector\n",
        "- Contaminated Artifacts\n",
        "- Remediation Plan\n",
        "\n",
        "Logs:\n",
        "{forensic_context}\n",
        "\"\"\"\n",
        "\n",
        "response = client.chat.completions.create(\n",
        "    model=\"gpt-3.5-turbo\",\n",
        "    messages=[\n",
        "        {\"role\": \"system\", \"content\": \"You are a helpful cybersecurity incident response expert.\"},\n",
        "        {\"role\": \"user\", \"content\": remediation_prompt}\n",
        "    ],\n",
        "    temperature=0.2,\n",
        "    max_tokens=800\n",
        ")\n",
        "\n",
        "print(\" Full LLM-Based Ransomware Response Plan\\n\")\n",
        "print(response.choices[0].message.content)"
      ],
      "metadata": {
        "id": "eTHLgNvluZRB"
      },
      "id": "eTHLgNvluZRB",
      "execution_count": null,
      "outputs": []
    },
    {
      "cell_type": "markdown",
      "source": [
        "##  Step 3: Visualize the Graph"
      ],
      "metadata": {
        "id": "62fdtBfN0B1O"
      },
      "id": "62fdtBfN0B1O"
    },
    {
      "cell_type": "code",
      "source": [
        "\n",
        "\n",
        "# Load the cleaned forensic log\n",
        "with open('output1.json', 'r') as f:\n",
        "    log = json.load(f)\n",
        "\n",
        "# Create the graph\n",
        "G = nx.Graph()\n",
        "\n",
        "# Extract relevant nodes and edges\n",
        "for entry in log.get('browser_history', []):\n",
        "    G.add_edge(\"User\", \"Browser\")\n",
        "    G.add_edge(\"Browser\", entry.get('url', '[REDACTED URL]'))\n",
        "\n",
        "for entry in log.get('powershell_logs', []):\n",
        "    G.add_edge(\"[REDACTED FILE]\", entry.get('command', '[REDACTED PowerShell Command]'))\n",
        "\n",
        "for entry in log.get('filesystem_changes', []):\n",
        "    path = entry.get('path', '[UNKNOWN PATH]')\n",
        "    G.add_edge(\"[REDACTED FILE]\", f\"Filesystem: {path}\")\n",
        "\n",
        "for entry in log.get('registry_changes', []):\n",
        "    reg_key = entry.get('key', '[UNKNOWN KEY]')\n",
        "    G.add_edge(\"[REDACTED FILE]\", f\"Registry: {reg_key}\")\n",
        "\n",
        "for entry in log.get('system_events', []):\n",
        "    event = entry.get('event', '[UNKNOWN EVENT]')\n",
        "    G.add_edge(\"[REDACTED FILE]\", f\"System Event: {event}\")\n",
        "\n",
        "# Draw the graph\n",
        "plt.figure(figsize=(12, 8))\n",
        "nx.draw(\n",
        "    G,\n",
        "    with_labels=True,\n",
        "    node_color='lightblue',\n",
        "    node_size=2000,\n",
        "    font_size=10,\n",
        "    font_weight='bold'\n",
        ")\n",
        "plt.title(\"Knowledge Graph from Forensic Log (output1.json)\")\n",
        "plt.show()\n"
      ],
      "metadata": {
        "id": "QnWArXgHui_J"
      },
      "id": "QnWArXgHui_J",
      "execution_count": null,
      "outputs": []
    }
  ],
  "metadata": {
    "colab": {
      "provenance": []
    },
    "language_info": {
      "name": "python"
    },
    "kernelspec": {
      "name": "python3",
      "display_name": "Python 3"
    }
  },
  "nbformat": 4,
  "nbformat_minor": 5
}