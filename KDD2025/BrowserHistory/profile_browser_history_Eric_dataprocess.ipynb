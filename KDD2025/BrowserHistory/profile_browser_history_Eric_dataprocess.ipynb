{
  "cells": [
    {
      "cell_type": "markdown",
      "metadata": {
        "id": "z4iZC7coEL1S"
      },
      "source": [
        "## Data processing\n",
        "- Goal to reduce prompt size\n",
        "- Removing repeated websites that are in quick succession\n",
        "- Remove websites with common keywords\n",
        "- Extracts titles and timestamp"
      ]
    },
    {
      "cell_type": "code",
      "execution_count": 1,
      "metadata": {
        "id": "rV0G6UrKBHTH"
      },
      "outputs": [],
      "source": [
        "! wget -q -O History.json https://raw.githubusercontent.com/EricXu1728/Browser-History-Sample/main/browser_history_limited.json"
      ]
    },
    {
      "cell_type": "code",
      "execution_count": 2,
      "metadata": {
        "id": "lwhQTTP041tb"
      },
      "outputs": [],
      "source": [
        "import json\n",
        "from datetime import datetime\n",
        "\n",
        "# Define the input and output file names\n",
        "input_file = './History.json'\n",
        "x = 3  # Number of previous unique titles to check against\n",
        "\n",
        "# Read the JSON data from the input file\n",
        "with open(input_file, 'r') as file:\n",
        "    data = json.load(file)\n",
        "\n",
        "def share_word(title1, title2):\n",
        "    words1 = set(title1.lower().split())\n",
        "    words2 = set(title2.lower().split())\n",
        "    return not words1.isdisjoint(words2)\n",
        "\n",
        "def share_word_with_previous(title, previous_titles):\n",
        "    for prev_title in previous_titles:\n",
        "        if share_word(title, prev_title):\n",
        "            return True\n",
        "    return False\n",
        "\n",
        "\n",
        "def convert_time_usec_to_readable(time_usec):\n",
        "    # Convert microseconds to seconds\n",
        "    time_seconds = time_usec / 1000000\n",
        "\n",
        "    # Convert Unix timestamp to a datetime object\n",
        "    dt_object = datetime.fromtimestamp(time_seconds)\n",
        "\n",
        "    # Format the datetime object to a readable string\n",
        "    readable_time = dt_object.strftime(\"%Y-%m-%d %H:%M:%S\")\n",
        "\n",
        "    return readable_time\n"
      ]
    },
    {
      "cell_type": "code",
      "execution_count": 3,
      "metadata": {
        "colab": {
          "base_uri": "https://localhost:8080/"
        },
        "id": "AnOvErzSCUWV",
        "outputId": "1e3c5d38-4a4c-4f3c-d320-930c5c845c72"
      },
      "outputs": [
        {
          "output_type": "stream",
          "name": "stdout",
          "text": [
            "Extracted 113 titles and stored them along with timestamp in titles_with_timestamp.txt\n"
          ]
        }
      ],
      "source": [
        "# Define the input and output file names\n",
        "input_file = \"./History.json\"\n",
        "output_file = \"titles_with_timestamp.txt\"\n",
        "\n",
        "# Read the JSON data from the input file\n",
        "with open(input_file, \"r\") as file:\n",
        "    data = json.load(file)\n",
        "\n",
        "# Extract titles and timestamps from the JSON data, removing consecutive duplicates, entries sharing words, and instances of \"new tab\"\n",
        "entries = []\n",
        "previous_titles = []\n",
        "\n",
        "for entry in data.get(\"Browser History\", []):\n",
        "    title = entry.get(\"title\", \"\").strip()\n",
        "    time_usec = entry.get(\"time_usec\", 0)\n",
        "    if title.lower() != \"new tab\" and title and (not previous_titles or title != previous_titles[-1]):\n",
        "        if not share_word_with_previous(title, previous_titles):\n",
        "            entries.append((title, time_usec))\n",
        "            previous_titles.append(title)\n",
        "            if len(previous_titles) > x:\n",
        "                previous_titles.pop(0)\n",
        "\n",
        "# Write the extracted titles with timestamp to the output file\n",
        "with open(output_file, \"w\") as file:\n",
        "    for title, time_usec in entries:\n",
        "        readable_timestamp = convert_time_usec_to_readable(time_usec)\n",
        "        file.write(f\"{readable_timestamp}: {title}\\n\")\n",
        "\n",
        "print(f\"Extracted {len(entries)} titles and stored them along with timestamp in {output_file}\")"
      ]
    }
  ],
  "metadata": {
    "colab": {
      "provenance": []
    },
    "kernelspec": {
      "display_name": "Python 3",
      "name": "python3"
    },
    "language_info": {
      "codemirror_mode": {
        "name": "ipython",
        "version": 3
      },
      "file_extension": ".py",
      "mimetype": "text/x-python",
      "name": "python",
      "nbconvert_exporter": "python",
      "pygments_lexer": "ipython3",
      "version": "3.12.3"
    }
  },
  "nbformat": 4,
  "nbformat_minor": 0
}